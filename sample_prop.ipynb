{
 "cells": [
  {
   "cell_type": "markdown",
   "metadata": {},
   "source": [
    "readme: this file is used to get a sample pool of properties"
   ]
  },
  {
   "cell_type": "code",
   "execution_count": 60,
   "metadata": {},
   "outputs": [],
   "source": [
    "import os\n",
    "os.chdir('/Users/liyuan/desktop/SI699/codes')\n",
    "import pandas as pd\n",
    "import numpy as np\n",
    "import time\n",
    "import random\n",
    "import seaborn as sns\n",
    "\n",
    "from ts_modeling_v2 import TsModeling\n",
    "from reformat_data_by_day import Reformat_data\n",
    "from time_feature_modeling import TimeFeatureModeling\n",
    "from help import sample_data, get_rmse, get_predictions,extract_time_features"
   ]
  },
  {
   "cell_type": "code",
   "execution_count": 2,
   "metadata": {},
   "outputs": [
    {
     "name": "stdout",
     "output_type": "stream",
     "text": [
      "there are 16540159 records in train and test data combined\n"
     ]
    }
   ],
   "source": [
    "# load all data\n",
    "train = pd.read_csv('../expedia_data/train.csv')\n",
    "test = pd.read_csv('../expedia_data/test.csv')\n",
    "cols_train_only = [col for col in train.columns.unique().tolist() if col not in test.columns.unique().tolist()]\n",
    "train = train.drop(columns = cols_train_only)\n",
    "all_data = pd.concat([train, test], ignore_index=True)\n",
    "print('there are %d records in train and test data combined' % len(all_data))"
   ]
  },
  {
   "cell_type": "code",
   "execution_count": 36,
   "metadata": {},
   "outputs": [
    {
     "name": "stdout",
     "output_type": "stream",
     "text": [
      "there are 140821 property id\n"
     ]
    },
    {
     "name": "stderr",
     "output_type": "stream",
     "text": [
      "/anaconda3/envs/leetcode/lib/python3.6/site-packages/ipykernel_launcher.py:3: SettingWithCopyWarning: \n",
      "A value is trying to be set on a copy of a slice from a DataFrame.\n",
      "Try using .loc[row_indexer,col_indexer] = value instead\n",
      "\n",
      "See the caveats in the documentation: http://pandas.pydata.org/pandas-docs/stable/indexing.html#indexing-view-versus-copy\n",
      "  This is separate from the ipykernel package so we can avoid doing imports until\n"
     ]
    }
   ],
   "source": [
    "# get a dictionary of prop and its number of valid daily records\n",
    "def process_data_by_prop(prop_data):\n",
    "    prop_data['date_time'] = pd.to_datetime(prop_data.date_time)\n",
    "    prop_data = prop_data.set_index('date_time')\n",
    "    prop_data = prop_data[['price_usd']]\n",
    "    return prop_data \n",
    "\n",
    "def get_prop_daily_data(all_data, threshold = 200):\n",
    "    '''get propert with its number of records (only selecting prop that meeting certain threshold) '''\n",
    "    prop_id_lst = all_data['prop_id'].unique().tolist()\n",
    "    print('there are %d property id'%len(prop_id_lst))\n",
    "    prop_data_size = {}\n",
    "    # random sample prop_id from all prop_id\n",
    "    for prop_id in random.sample(prop_id_lst, 1000):\n",
    "        # get data by property id\n",
    "        prop_data = all_data[all_data['prop_id'] == prop_id]\n",
    "        #print('property has %d records' % len(prop_data))\n",
    "        prop_data = process_data_by_prop(prop_data)\n",
    "        daily_price = prop_data[['price_usd']].resample('D').median()\n",
    "        # manually set threshold to be 200\n",
    "        if len(daily_price.dropna()) > threshold:\n",
    "            prop_data_size[prop_id] = len(daily_price.dropna())\n",
    "    return prop_data_size\n",
    "\n",
    "prop_data_size = get_prop_daily_data(all_data)"
   ]
  },
  {
   "cell_type": "code",
   "execution_count": 62,
   "metadata": {},
   "outputs": [
    {
     "name": "stdout",
     "output_type": "stream",
     "text": [
      "75 percentile threshold is 236 records\n"
     ]
    },
    {
     "name": "stderr",
     "output_type": "stream",
     "text": [
      "/anaconda3/envs/leetcode/lib/python3.6/site-packages/scipy/stats/stats.py:1713: FutureWarning: Using a non-tuple sequence for multidimensional indexing is deprecated; use `arr[tuple(seq)]` instead of `arr[seq]`. In the future this will be interpreted as an array index, `arr[np.array(seq)]`, which will result either in an error or a different result.\n",
      "  return np.add.reduce(sorted[indexer] * weights, axis=axis) / sumval\n"
     ]
    },
    {
     "data": {
      "text/plain": [
       "[14840,\n",
       " 134232,\n",
       " 91687,\n",
       " 75972,\n",
       " 90312,\n",
       " 10906,\n",
       " 45080,\n",
       " 32114,\n",
       " 114209,\n",
       " 73173,\n",
       " 38758,\n",
       " 114304,\n",
       " 28884]"
      ]
     },
     "execution_count": 62,
     "metadata": {},
     "output_type": "execute_result"
    },
    {
     "data": {
      "image/png": "[encoded data removed]",
      "text/plain": [
       "<Figure size 432x288 with 1 Axes>"
      ]
     },
     "metadata": {
      "needs_background": "light"
     },
     "output_type": "display_data"
    }
   ],
   "source": [
    "def get_prop_above_percentile(prop_data_size, percentile = 75):\n",
    "    ''' get a list of sampled properties that have daily records larger than percentile threshold'''\n",
    "    # plot distribution of daily price records of each prop_id\n",
    "    sns.distplot(list(prop_data_size.values()))\n",
    "    # get percentile of prop_data_size\n",
    "    percnt = np.percentile(list(prop_data_size.values()), percentile)\n",
    "    print('%d percentile threshold is %d records'%(percentile, percnt))\n",
    "    # Get prop_id above the percentile threshold\n",
    "    sampled_props = [prop_id for prop_id in prop_data_size.keys() if prop_data_size[prop_id] > percnt]\n",
    "    return sampled_props\n",
    "\n",
    "get_prop_above_percentile(prop_data_size, percentile = 75)"
   ]
  }
 ],
 "metadata": {
  "kernelspec": {
   "display_name": "Python 3",
   "language": "python",
   "name": "python3"
  },
  "language_info": {
   "codemirror_mode": {
    "name": "ipython",
    "version": 3
   },
   "file_extension": ".py",
   "mimetype": "text/x-python",
   "name": "python",
   "nbconvert_exporter": "python",
   "pygments_lexer": "ipython3",
   "version": "3.6.8"
  }
 },
 "nbformat": 4,
 "nbformat_minor": 2
}
