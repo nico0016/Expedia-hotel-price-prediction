{
 "cells": [
  {
   "cell_type": "code",
   "execution_count": 27,
   "metadata": {},
   "outputs": [],
   "source": [
    "import pandas as pd\n",
    "from sklearn.metrics import mean_squared_error\n",
    "import numpy as np\n",
    "import matplotlib.pyplot as plt"
   ]
  },
  {
   "cell_type": "code",
   "execution_count": 2,
   "metadata": {},
   "outputs": [
    {
     "name": "stdout",
     "output_type": "stream",
     "text": [
      "Dataset has 908750 record\n",
      "Dataset has 36518 search_id (accounts)\n"
     ]
    }
   ],
   "source": [
    "all = pd.read_csv('../expedia_data/all_data.csv')\n",
    "\n",
    "print('Dataset has %d record'%len(all))\n",
    "print('Dataset has %d search_id (accounts)'%len(all['srch_id'].unique().tolist()))"
   ]
  },
  {
   "cell_type": "code",
   "execution_count": 46,
   "metadata": {},
   "outputs": [
    {
     "name": "stdout",
     "output_type": "stream",
     "text": [
      "there are 3 weeks in total.\n"
     ]
    },
    {
     "data": {
      "text/plain": [
       "<matplotlib.axes._subplots.AxesSubplot at 0x1a245be940>"
      ]
     },
     "execution_count": 46,
     "metadata": {},
     "output_type": "execute_result"
    },
    {
     "data": {
      "image/png": "[encoded data removed]",
      "text/plain": [
       "<Figure size 432x288 with 1 Axes>"
      ]
     },
     "metadata": {
      "needs_background": "light"
     },
     "output_type": "display_data"
    }
   ],
   "source": [
    "# TODO: split dataset by weeks\n",
    "\n",
    "all['date_time'] = pd.to_datetime(all.date_time)\n",
    "all_ = all.set_index('date_time')\n",
    "\n",
    "srch_ids = all['srch_id'].unique().tolist()\n",
    "\n",
    "srch_id_df_list = []      # get subset df for each srch_id, and append it to a list\n",
    "for srch_id in srch_ids:\n",
    "    df = all_[all_['srch_id'] == srch_id]\n",
    "    srch_id_df_list.append(df)\n",
    "\n",
    "weekly = all_.resample('W').median()\n",
    "print('there are %d weeks in total.'%len(weekly))\n",
    "weekly.head()\n",
    "\n",
    "weekly[['price_usd']].plot()"
   ]
  },
  {
   "cell_type": "code",
   "execution_count": 44,
   "metadata": {},
   "outputs": [
    {
     "name": "stdout",
     "output_type": "stream",
     "text": [
      "[Timestamp('2012-11-01 00:01:37')]\n",
      "[Timestamp('2012-11-01 00:03:24')]\n",
      "[Timestamp('2012-11-01 00:05:23')]\n"
     ]
    }
   ],
   "source": [
    "# checking\n",
    "print(srch_id_df_list[0].index.unique().tolist())\n",
    "print(srch_id_df_list[1].index.unique().tolist())\n",
    "print(srch_id_df_list[2].index.unique().tolist())"
   ]
  },
  {
   "cell_type": "code",
   "execution_count": null,
   "metadata": {},
   "outputs": [],
   "source": []
  },
  {
   "cell_type": "code",
   "execution_count": 3,
   "metadata": {},
   "outputs": [],
   "source": [
    "# # get sampled data\n",
    "# def get_sampled_data(size, data):\n",
    "#     '''\n",
    "#     This function takes in the whole dataset, \n",
    "#     and outout a sampled subset with data size specified\n",
    "#     '''\n",
    "#     interval_range = len(data)//size\n",
    "#     mid_idx_lst = []\n",
    "#     for i in range(1,size+1):\n",
    "#         mid_idx = (interval_range*(i-1) + interval_range*i)//2\n",
    "#         mid_idx_lst.append(mid_idx)\n",
    "\n",
    "#     data_sampled = data.iloc[mid_idx_lst]\n",
    "#     return data_sampled\n",
    "    \n",
    "# sampled = get_sampled_data(5000, all)"
   ]
  },
  {
   "cell_type": "code",
   "execution_count": 4,
   "metadata": {},
   "outputs": [
    {
     "data": {
      "text/html": [
       "<div>\n",
       "<style scoped>\n",
       "    .dataframe tbody tr th:only-of-type {\n",
       "        vertical-align: middle;\n",
       "    }\n",
       "\n",
       "    .dataframe tbody tr th {\n",
       "        vertical-align: top;\n",
       "    }\n",
       "\n",
       "    .dataframe thead th {\n",
       "        text-align: right;\n",
       "    }\n",
       "</style>\n",
       "<table border=\"1\" class=\"dataframe\">\n",
       "  <thead>\n",
       "    <tr style=\"text-align: right;\">\n",
       "      <th></th>\n",
       "      <th>srch_id</th>\n",
       "      <th>date_time</th>\n",
       "      <th>site_id</th>\n",
       "      <th>visitor_location_country_id</th>\n",
       "      <th>visitor_hist_starrating</th>\n",
       "      <th>visitor_hist_adr_usd</th>\n",
       "      <th>prop_country_id</th>\n",
       "      <th>prop_id</th>\n",
       "      <th>prop_starrating</th>\n",
       "      <th>prop_review_score</th>\n",
       "      <th>...</th>\n",
       "      <th>new_comp5_rate_percent_diff</th>\n",
       "      <th>new_comp6_rate</th>\n",
       "      <th>new_comp6_inv</th>\n",
       "      <th>new_comp6_rate_percent_diff</th>\n",
       "      <th>new_comp7_rate</th>\n",
       "      <th>new_comp7_inv</th>\n",
       "      <th>new_comp7_rate_percent_diff</th>\n",
       "      <th>new_comp8_rate</th>\n",
       "      <th>new_comp8_inv</th>\n",
       "      <th>new_comp8_rate_percent_diff</th>\n",
       "    </tr>\n",
       "  </thead>\n",
       "  <tbody>\n",
       "    <tr>\n",
       "      <th>90</th>\n",
       "      <td>7086</td>\n",
       "      <td>2012-11-01 00:06:20</td>\n",
       "      <td>24</td>\n",
       "      <td>216</td>\n",
       "      <td>4.500</td>\n",
       "      <td>745.42</td>\n",
       "      <td>220</td>\n",
       "      <td>131958</td>\n",
       "      <td>4</td>\n",
       "      <td>4.0</td>\n",
       "      <td>...</td>\n",
       "      <td>0</td>\n",
       "      <td>0</td>\n",
       "      <td>0</td>\n",
       "      <td>0</td>\n",
       "      <td>0</td>\n",
       "      <td>0</td>\n",
       "      <td>0</td>\n",
       "      <td>0</td>\n",
       "      <td>0</td>\n",
       "      <td>0</td>\n",
       "    </tr>\n",
       "    <tr>\n",
       "      <th>271</th>\n",
       "      <td>307902</td>\n",
       "      <td>2012-11-01 00:12:06</td>\n",
       "      <td>24</td>\n",
       "      <td>216</td>\n",
       "      <td>3.275</td>\n",
       "      <td>138.34</td>\n",
       "      <td>164</td>\n",
       "      <td>138356</td>\n",
       "      <td>4</td>\n",
       "      <td>4.5</td>\n",
       "      <td>...</td>\n",
       "      <td>0</td>\n",
       "      <td>0</td>\n",
       "      <td>0</td>\n",
       "      <td>0</td>\n",
       "      <td>0</td>\n",
       "      <td>0</td>\n",
       "      <td>0</td>\n",
       "      <td>0</td>\n",
       "      <td>0</td>\n",
       "      <td>0</td>\n",
       "    </tr>\n",
       "    <tr>\n",
       "      <th>452</th>\n",
       "      <td>349474</td>\n",
       "      <td>2012-11-01 00:22:43</td>\n",
       "      <td>24</td>\n",
       "      <td>216</td>\n",
       "      <td>3.280</td>\n",
       "      <td>107.96</td>\n",
       "      <td>215</td>\n",
       "      <td>50818</td>\n",
       "      <td>4</td>\n",
       "      <td>4.0</td>\n",
       "      <td>...</td>\n",
       "      <td>0</td>\n",
       "      <td>0</td>\n",
       "      <td>0</td>\n",
       "      <td>0</td>\n",
       "      <td>1</td>\n",
       "      <td>1</td>\n",
       "      <td>0</td>\n",
       "      <td>0</td>\n",
       "      <td>0</td>\n",
       "      <td>0</td>\n",
       "    </tr>\n",
       "    <tr>\n",
       "      <th>633</th>\n",
       "      <td>26168</td>\n",
       "      <td>2012-11-01 00:35:47</td>\n",
       "      <td>32</td>\n",
       "      <td>220</td>\n",
       "      <td>3.275</td>\n",
       "      <td>138.34</td>\n",
       "      <td>219</td>\n",
       "      <td>91206</td>\n",
       "      <td>2</td>\n",
       "      <td>3.5</td>\n",
       "      <td>...</td>\n",
       "      <td>0</td>\n",
       "      <td>0</td>\n",
       "      <td>0</td>\n",
       "      <td>0</td>\n",
       "      <td>0</td>\n",
       "      <td>0</td>\n",
       "      <td>0</td>\n",
       "      <td>1</td>\n",
       "      <td>1</td>\n",
       "      <td>0</td>\n",
       "    </tr>\n",
       "    <tr>\n",
       "      <th>814</th>\n",
       "      <td>435038</td>\n",
       "      <td>2012-11-01 00:47:56</td>\n",
       "      <td>24</td>\n",
       "      <td>216</td>\n",
       "      <td>3.275</td>\n",
       "      <td>138.34</td>\n",
       "      <td>196</td>\n",
       "      <td>99532</td>\n",
       "      <td>4</td>\n",
       "      <td>3.0</td>\n",
       "      <td>...</td>\n",
       "      <td>0</td>\n",
       "      <td>0</td>\n",
       "      <td>0</td>\n",
       "      <td>0</td>\n",
       "      <td>0</td>\n",
       "      <td>0</td>\n",
       "      <td>0</td>\n",
       "      <td>0</td>\n",
       "      <td>0</td>\n",
       "      <td>0</td>\n",
       "    </tr>\n",
       "  </tbody>\n",
       "</table>\n",
       "<p>5 rows × 80 columns</p>\n",
       "</div>"
      ],
      "text/plain": [
       "     srch_id            date_time  site_id  visitor_location_country_id  \\\n",
       "90      7086  2012-11-01 00:06:20       24                          216   \n",
       "271   307902  2012-11-01 00:12:06       24                          216   \n",
       "452   349474  2012-11-01 00:22:43       24                          216   \n",
       "633    26168  2012-11-01 00:35:47       32                          220   \n",
       "814   435038  2012-11-01 00:47:56       24                          216   \n",
       "\n",
       "     visitor_hist_starrating  visitor_hist_adr_usd  prop_country_id  prop_id  \\\n",
       "90                     4.500                745.42              220   131958   \n",
       "271                    3.275                138.34              164   138356   \n",
       "452                    3.280                107.96              215    50818   \n",
       "633                    3.275                138.34              219    91206   \n",
       "814                    3.275                138.34              196    99532   \n",
       "\n",
       "     prop_starrating  prop_review_score             ...               \\\n",
       "90                 4                4.0             ...                \n",
       "271                4                4.5             ...                \n",
       "452                4                4.0             ...                \n",
       "633                2                3.5             ...                \n",
       "814                4                3.0             ...                \n",
       "\n",
       "     new_comp5_rate_percent_diff  new_comp6_rate  new_comp6_inv  \\\n",
       "90                             0               0              0   \n",
       "271                            0               0              0   \n",
       "452                            0               0              0   \n",
       "633                            0               0              0   \n",
       "814                            0               0              0   \n",
       "\n",
       "     new_comp6_rate_percent_diff  new_comp7_rate  new_comp7_inv  \\\n",
       "90                             0               0              0   \n",
       "271                            0               0              0   \n",
       "452                            0               1              1   \n",
       "633                            0               0              0   \n",
       "814                            0               0              0   \n",
       "\n",
       "     new_comp7_rate_percent_diff  new_comp8_rate  new_comp8_inv  \\\n",
       "90                             0               0              0   \n",
       "271                            0               0              0   \n",
       "452                            0               0              0   \n",
       "633                            0               1              1   \n",
       "814                            0               0              0   \n",
       "\n",
       "     new_comp8_rate_percent_diff  \n",
       "90                             0  \n",
       "271                            0  \n",
       "452                            0  \n",
       "633                            0  \n",
       "814                            0  \n",
       "\n",
       "[5 rows x 80 columns]"
      ]
     },
     "execution_count": 4,
     "metadata": {},
     "output_type": "execute_result"
    }
   ],
   "source": [
    "# handle NA values\n",
    "sampled = sampled.fillna(sampled.median())\n",
    "sampled.head()"
   ]
  },
  {
   "cell_type": "code",
   "execution_count": 20,
   "metadata": {},
   "outputs": [
    {
     "name": "stdout",
     "output_type": "stream",
     "text": [
      "sampled dataset has 5000 unique property\n"
     ]
    }
   ],
   "source": [
    "print('sampled dataset has %d unique '%sampled['srch_id'].nunique())"
   ]
  },
  {
   "cell_type": "code",
   "execution_count": 12,
   "metadata": {},
   "outputs": [
    {
     "data": {
      "text/plain": [
       "4488"
      ]
     },
     "execution_count": 12,
     "metadata": {},
     "output_type": "execute_result"
    }
   ],
   "source": [
    "properties = sampled['prop_id'].unique().tolist()\n",
    "\n",
    "# TODO: get subset df for each property\n",
    "property_df_list = []\n",
    "for property in properties:\n",
    "    df = sampled[sampled['prop_id'] == property]\n",
    "    property_df_list.append(df)\n",
    "    \n",
    "len(property_df_list)"
   ]
  },
  {
   "cell_type": "code",
   "execution_count": null,
   "metadata": {},
   "outputs": [],
   "source": []
  },
  {
   "cell_type": "code",
   "execution_count": null,
   "metadata": {},
   "outputs": [],
   "source": []
  },
  {
   "cell_type": "code",
   "execution_count": null,
   "metadata": {},
   "outputs": [],
   "source": []
  },
  {
   "cell_type": "code",
   "execution_count": null,
   "metadata": {},
   "outputs": [],
   "source": []
  },
  {
   "cell_type": "code",
   "execution_count": null,
   "metadata": {},
   "outputs": [],
   "source": [
    "def split_data(data):\n",
    "    '''\n",
    "    This function takes in the whole data set and divide it into training, validation and test data;\n",
    "    split into 0.8 and 0.2 first; second split using the same ratio into training and valiation\n",
    "    '''\n",
    "    training_size_large = int(len(data) * 0.8)   \n",
    "    validation_size = int(training_size_large * 0.2)\n",
    "    training_size = training_size_large - validation_size\n",
    "    test_size = int(len(data) * 0.2)\n",
    "    \n",
    "    print('training size: %d'%training_size)\n",
    "    print('validation size: %d'%validation_size)\n",
    "    print('test size: %d'%test_size)\n",
    "    \n",
    "    # split data manually\n",
    "    training_data = data[0: training_size]\n",
    "    validation_data = data[training_size:(training_size + validation_size)]\n",
    "    test_data = data[(training_size + validation_size): (training_size + validation_size + test_size)]\n",
    "    \n",
    "    return training_data, validation_data, test_data\n",
    "    \n",
    "training, validation, test = split_data(sampled)\n",
    "\n",
    "\n",
    "# X_train = training[variables].values\n",
    "# y_train = training['price_usd'].values\n",
    "\n",
    "# X_val = validation[variables].values\n",
    "# y_val = validation['price_usd'].values\n",
    "\n",
    "# X_test = test[variables].values\n",
    "# y_test = test['price_usd'].values\n",
    "\n",
    "\n",
    "### remain 'date_time' in training model\n",
    "variables = [col for col in all.columns.unique().tolist() if col not in ['price_usd','date_time']]\n",
    "# variables = [col for col in all.columns.unique().tolist() if col not in ['price_usd']]\n",
    "\n",
    "### keep variable names in df\n",
    "X_train = training[variables]\n",
    "y_train = training['price_usd']\n",
    "\n",
    "X_val = validation[variables]\n",
    "y_val = validation['price_usd']\n",
    "\n",
    "X_test = test[variables]\n",
    "y_test = test['price_usd']"
   ]
  },
  {
   "cell_type": "code",
   "execution_count": null,
   "metadata": {},
   "outputs": [],
   "source": []
  },
  {
   "cell_type": "code",
   "execution_count": 1,
   "metadata": {},
   "outputs": [],
   "source": [
    "# returns train, inference_encoder and inference_decoder models\n",
    "def define_models(n_input, n_output, n_units):\n",
    "\t# define training encoder\n",
    "\tencoder_inputs = Input(shape=(None, n_input))\n",
    "\tencoder = LSTM(n_units, return_state=True)\n",
    "\tencoder_outputs, state_h, state_c = encoder(encoder_inputs)\n",
    "\tencoder_states = [state_h, state_c]\n",
    "\t# define training decoder\n",
    "\tdecoder_inputs = Input(shape=(None, n_output))\n",
    "\tdecoder_lstm = LSTM(n_units, return_sequences=True, return_state=True)\n",
    "\tdecoder_outputs, _, _ = decoder_lstm(decoder_inputs, initial_state=encoder_states)\n",
    "\tdecoder_dense = Dense(n_output, activation='softmax')\n",
    "\tdecoder_outputs = decoder_dense(decoder_outputs)\n",
    "\tmodel = Model([encoder_inputs, decoder_inputs], decoder_outputs)\n",
    "\t# define inference encoder\n",
    "\tencoder_model = Model(encoder_inputs, encoder_states)\n",
    "\t# define inference decoder\n",
    "\tdecoder_state_input_h = Input(shape=(n_units,))\n",
    "\tdecoder_state_input_c = Input(shape=(n_units,))\n",
    "\tdecoder_states_inputs = [decoder_state_input_h, decoder_state_input_c]\n",
    "\tdecoder_outputs, state_h, state_c = decoder_lstm(decoder_inputs, initial_state=decoder_states_inputs)\n",
    "\tdecoder_states = [state_h, state_c]\n",
    "\tdecoder_outputs = decoder_dense(decoder_outputs)\n",
    "\tdecoder_model = Model([decoder_inputs] + decoder_states_inputs, [decoder_outputs] + decoder_states)\n",
    "\t# return all models\n",
    "\treturn model, encoder_model, decoder_model"
   ]
  },
  {
   "cell_type": "code",
   "execution_count": null,
   "metadata": {},
   "outputs": [],
   "source": []
  }
 ],
 "metadata": {
  "kernelspec": {
   "display_name": "Python 3",
   "language": "python",
   "name": "python3"
  },
  "language_info": {
   "codemirror_mode": {
    "name": "ipython",
    "version": 3
   },
   "file_extension": ".py",
   "mimetype": "text/x-python",
   "name": "python",
   "nbconvert_exporter": "python",
   "pygments_lexer": "ipython3",
   "version": "3.6.8"
  }
 },
 "nbformat": 4,
 "nbformat_minor": 2
}
