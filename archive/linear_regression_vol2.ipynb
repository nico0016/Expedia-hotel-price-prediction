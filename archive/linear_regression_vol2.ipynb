{
 "cells": [
  {
   "cell_type": "markdown",
   "metadata": {},
   "source": [
    "# Modeling"
   ]
  },
  {
   "cell_type": "markdown",
   "metadata": {},
   "source": [
    "<h3> Prepare data "
   ]
  },
  {
   "cell_type": "code",
   "execution_count": 1,
   "metadata": {},
   "outputs": [],
   "source": [
    "import pandas as pd\n",
    "import numpy as np\n",
    "import seaborn as sns\n",
    "import matplotlib.pyplot as plt\n",
    "import matplotlib\n",
    "\n",
    "from scipy.stats import skew\n",
    "from sklearn.model_selection import train_test_split\n",
    "\n",
    "import pandas as pd\n",
    "import numpy as np\n",
    "import scipy.stats as stats\n",
    "from scipy.stats import chi2_contingency\n",
    "\n",
    "import seaborn as sns\n",
    "import matplotlib.pyplot as plt\n",
    "\n",
    "from sklearn.linear_model import LinearRegression\n",
    "from sklearn.metrics import accuracy_score\n",
    "\n",
    "from sklearn.preprocessing import StandardScaler\n",
    "from sklearn.decomposition import PCA"
   ]
  },
  {
   "cell_type": "code",
   "execution_count": 2,
   "metadata": {},
   "outputs": [],
   "source": [
    "train = pd.read_csv('./expedia_data/train.csv')\n",
    "test = pd.read_csv('./expedia_data/test.csv')\n",
    "\n",
    "print('training data has %d records'%len(train))\n",
    "print('test data has %d records'%len(test))"
   ]
  },
  {
   "cell_type": "code",
   "execution_count": 4,
   "metadata": {},
   "outputs": [
    {
     "name": "stdout",
     "output_type": "stream",
     "text": [
      "Columns only available in training data: ['position', 'click_bool', 'gross_bookings_usd', 'booking_bool']\n"
     ]
    }
   ],
   "source": [
    "cols_train_only = [col for col in train.columns.unique().tolist() if col not in test.columns.unique().tolist()]\n",
    "print('Columns only available in training data:',cols_train_only)\n",
    "\n",
    "train = train.drop(columns = cols_train_only)\n",
    "train.head()"
   ]
  },
  {
   "cell_type": "code",
   "execution_count": 8,
   "metadata": {},
   "outputs": [
    {
     "data": {
      "text/html": [
       "<div>\n",
       "<style scoped>\n",
       "    .dataframe tbody tr th:only-of-type {\n",
       "        vertical-align: middle;\n",
       "    }\n",
       "\n",
       "    .dataframe tbody tr th {\n",
       "        vertical-align: top;\n",
       "    }\n",
       "\n",
       "    .dataframe thead th {\n",
       "        text-align: right;\n",
       "    }\n",
       "</style>\n",
       "<table border=\"1\" class=\"dataframe\">\n",
       "  <thead>\n",
       "    <tr style=\"text-align: right;\">\n",
       "      <th></th>\n",
       "      <th>srch_id</th>\n",
       "      <th>date_time</th>\n",
       "      <th>site_id</th>\n",
       "      <th>visitor_location_country_id</th>\n",
       "      <th>visitor_hist_starrating</th>\n",
       "      <th>visitor_hist_adr_usd</th>\n",
       "      <th>prop_country_id</th>\n",
       "      <th>prop_id</th>\n",
       "      <th>prop_starrating</th>\n",
       "      <th>prop_review_score</th>\n",
       "      <th>...</th>\n",
       "      <th>comp5_rate_percent_diff</th>\n",
       "      <th>comp6_rate</th>\n",
       "      <th>comp6_inv</th>\n",
       "      <th>comp6_rate_percent_diff</th>\n",
       "      <th>comp7_rate</th>\n",
       "      <th>comp7_inv</th>\n",
       "      <th>comp7_rate_percent_diff</th>\n",
       "      <th>comp8_rate</th>\n",
       "      <th>comp8_inv</th>\n",
       "      <th>comp8_rate_percent_diff</th>\n",
       "    </tr>\n",
       "  </thead>\n",
       "  <tbody>\n",
       "    <tr>\n",
       "      <th>0</th>\n",
       "      <td>1</td>\n",
       "      <td>2013-04-04 08:32:15</td>\n",
       "      <td>12</td>\n",
       "      <td>187</td>\n",
       "      <td>NaN</td>\n",
       "      <td>NaN</td>\n",
       "      <td>219</td>\n",
       "      <td>893</td>\n",
       "      <td>3</td>\n",
       "      <td>3.5</td>\n",
       "      <td>...</td>\n",
       "      <td>NaN</td>\n",
       "      <td>NaN</td>\n",
       "      <td>NaN</td>\n",
       "      <td>NaN</td>\n",
       "      <td>NaN</td>\n",
       "      <td>NaN</td>\n",
       "      <td>NaN</td>\n",
       "      <td>0.0</td>\n",
       "      <td>0.0</td>\n",
       "      <td>NaN</td>\n",
       "    </tr>\n",
       "    <tr>\n",
       "      <th>1</th>\n",
       "      <td>1</td>\n",
       "      <td>2013-04-04 08:32:15</td>\n",
       "      <td>12</td>\n",
       "      <td>187</td>\n",
       "      <td>NaN</td>\n",
       "      <td>NaN</td>\n",
       "      <td>219</td>\n",
       "      <td>10404</td>\n",
       "      <td>4</td>\n",
       "      <td>4.0</td>\n",
       "      <td>...</td>\n",
       "      <td>NaN</td>\n",
       "      <td>NaN</td>\n",
       "      <td>NaN</td>\n",
       "      <td>NaN</td>\n",
       "      <td>NaN</td>\n",
       "      <td>NaN</td>\n",
       "      <td>NaN</td>\n",
       "      <td>0.0</td>\n",
       "      <td>0.0</td>\n",
       "      <td>NaN</td>\n",
       "    </tr>\n",
       "    <tr>\n",
       "      <th>2</th>\n",
       "      <td>1</td>\n",
       "      <td>2013-04-04 08:32:15</td>\n",
       "      <td>12</td>\n",
       "      <td>187</td>\n",
       "      <td>NaN</td>\n",
       "      <td>NaN</td>\n",
       "      <td>219</td>\n",
       "      <td>21315</td>\n",
       "      <td>3</td>\n",
       "      <td>4.5</td>\n",
       "      <td>...</td>\n",
       "      <td>NaN</td>\n",
       "      <td>NaN</td>\n",
       "      <td>NaN</td>\n",
       "      <td>NaN</td>\n",
       "      <td>NaN</td>\n",
       "      <td>NaN</td>\n",
       "      <td>NaN</td>\n",
       "      <td>0.0</td>\n",
       "      <td>0.0</td>\n",
       "      <td>NaN</td>\n",
       "    </tr>\n",
       "    <tr>\n",
       "      <th>3</th>\n",
       "      <td>1</td>\n",
       "      <td>2013-04-04 08:32:15</td>\n",
       "      <td>12</td>\n",
       "      <td>187</td>\n",
       "      <td>NaN</td>\n",
       "      <td>NaN</td>\n",
       "      <td>219</td>\n",
       "      <td>27348</td>\n",
       "      <td>2</td>\n",
       "      <td>4.0</td>\n",
       "      <td>...</td>\n",
       "      <td>NaN</td>\n",
       "      <td>NaN</td>\n",
       "      <td>NaN</td>\n",
       "      <td>NaN</td>\n",
       "      <td>NaN</td>\n",
       "      <td>NaN</td>\n",
       "      <td>NaN</td>\n",
       "      <td>-1.0</td>\n",
       "      <td>0.0</td>\n",
       "      <td>5.0</td>\n",
       "    </tr>\n",
       "    <tr>\n",
       "      <th>4</th>\n",
       "      <td>1</td>\n",
       "      <td>2013-04-04 08:32:15</td>\n",
       "      <td>12</td>\n",
       "      <td>187</td>\n",
       "      <td>NaN</td>\n",
       "      <td>NaN</td>\n",
       "      <td>219</td>\n",
       "      <td>29604</td>\n",
       "      <td>4</td>\n",
       "      <td>3.5</td>\n",
       "      <td>...</td>\n",
       "      <td>NaN</td>\n",
       "      <td>NaN</td>\n",
       "      <td>NaN</td>\n",
       "      <td>NaN</td>\n",
       "      <td>NaN</td>\n",
       "      <td>NaN</td>\n",
       "      <td>NaN</td>\n",
       "      <td>0.0</td>\n",
       "      <td>0.0</td>\n",
       "      <td>NaN</td>\n",
       "    </tr>\n",
       "  </tbody>\n",
       "</table>\n",
       "<p>5 rows × 50 columns</p>\n",
       "</div>"
      ],
      "text/plain": [
       "   srch_id            date_time  site_id  visitor_location_country_id  \\\n",
       "0        1  2013-04-04 08:32:15       12                          187   \n",
       "1        1  2013-04-04 08:32:15       12                          187   \n",
       "2        1  2013-04-04 08:32:15       12                          187   \n",
       "3        1  2013-04-04 08:32:15       12                          187   \n",
       "4        1  2013-04-04 08:32:15       12                          187   \n",
       "\n",
       "   visitor_hist_starrating  visitor_hist_adr_usd  prop_country_id  prop_id  \\\n",
       "0                      NaN                   NaN              219      893   \n",
       "1                      NaN                   NaN              219    10404   \n",
       "2                      NaN                   NaN              219    21315   \n",
       "3                      NaN                   NaN              219    27348   \n",
       "4                      NaN                   NaN              219    29604   \n",
       "\n",
       "   prop_starrating  prop_review_score  ...  comp5_rate_percent_diff  \\\n",
       "0                3                3.5  ...                      NaN   \n",
       "1                4                4.0  ...                      NaN   \n",
       "2                3                4.5  ...                      NaN   \n",
       "3                2                4.0  ...                      NaN   \n",
       "4                4                3.5  ...                      NaN   \n",
       "\n",
       "   comp6_rate  comp6_inv  comp6_rate_percent_diff  comp7_rate  comp7_inv  \\\n",
       "0         NaN        NaN                      NaN         NaN        NaN   \n",
       "1         NaN        NaN                      NaN         NaN        NaN   \n",
       "2         NaN        NaN                      NaN         NaN        NaN   \n",
       "3         NaN        NaN                      NaN         NaN        NaN   \n",
       "4         NaN        NaN                      NaN         NaN        NaN   \n",
       "\n",
       "   comp7_rate_percent_diff  comp8_rate  comp8_inv  comp8_rate_percent_diff  \n",
       "0                      NaN         0.0        0.0                      NaN  \n",
       "1                      NaN         0.0        0.0                      NaN  \n",
       "2                      NaN         0.0        0.0                      NaN  \n",
       "3                      NaN        -1.0        0.0                      5.0  \n",
       "4                      NaN         0.0        0.0                      NaN  \n",
       "\n",
       "[5 rows x 50 columns]"
      ]
     },
     "execution_count": 8,
     "metadata": {},
     "output_type": "execute_result"
    }
   ],
   "source": [
    "# combine train and test data\n",
    "all_data = pd.concat([train, test], ignore_index=True)\n",
    "print(all_data.head())\n",
    "print('Whole dataset has %d records' % len(all_data))"
   ]
  },
  {
   "cell_type": "code",
   "execution_count": 10,
   "metadata": {},
   "outputs": [],
   "source": [
    "all_data['date_time'] = pd.to_datetime(all_data.date_time)\n",
    "all_data.sort_values(by=['date_time'],inplace=True)\n",
    "all_data = all_data.reset_index(drop=True)\n",
    "all_data.head()"
   ]
  },
  {
   "cell_type": "code",
   "execution_count": 12,
   "metadata": {},
   "outputs": [
    {
     "data": {
      "text/plain": [
       "['visitor_hist_starrating',\n",
       " 'visitor_hist_adr_usd',\n",
       " 'prop_review_score',\n",
       " 'prop_location_score2',\n",
       " 'srch_query_affinity_score',\n",
       " 'orig_destination_distance',\n",
       " 'comp1_rate',\n",
       " 'comp1_inv',\n",
       " 'comp1_rate_percent_diff',\n",
       " 'comp2_rate',\n",
       " 'comp2_inv',\n",
       " 'comp2_rate_percent_diff',\n",
       " 'comp3_rate',\n",
       " 'comp3_inv',\n",
       " 'comp3_rate_percent_diff',\n",
       " 'comp4_rate',\n",
       " 'comp4_inv',\n",
       " 'comp4_rate_percent_diff',\n",
       " 'comp5_rate',\n",
       " 'comp5_inv',\n",
       " 'comp5_rate_percent_diff',\n",
       " 'comp6_rate',\n",
       " 'comp6_inv',\n",
       " 'comp6_rate_percent_diff',\n",
       " 'comp7_rate',\n",
       " 'comp7_inv',\n",
       " 'comp7_rate_percent_diff',\n",
       " 'comp8_rate',\n",
       " 'comp8_inv',\n",
       " 'comp8_rate_percent_diff']"
      ]
     },
     "execution_count": 12,
     "metadata": {},
     "output_type": "execute_result"
    }
   ],
   "source": [
    "# handle NA values\n",
    "NA_columns = []\n",
    "for col in all_data.columns.unique().tolist():\n",
    "    if all_data[col].isna().values.any() == True:\n",
    "        NA_columns.append(col)\n",
    "\n",
    "NA_columns"
   ]
  },
  {
   "cell_type": "code",
   "execution_count": 14,
   "metadata": {},
   "outputs": [],
   "source": [
    "def create_binary_feat(df, col):\n",
    "    '''\n",
    "    input: dataframe\n",
    "    output: a dataframe with a new binary column based on old column\n",
    "    if value in old col is not NA, then set 1; otherwise, set 0\n",
    "\n",
    "    '''\n",
    "    new_col = 'new_'+ col\n",
    "    df[new_col] = df[col].apply(lambda x: 1 if x >= 0 else 0)\n",
    "\n",
    "for col in NA_columns:\n",
    "    create_binary_feat(all_data, col)"
   ]
  },
  {
   "cell_type": "code",
   "execution_count": 15,
   "metadata": {},
   "outputs": [
    {
     "ename": "KeyboardInterrupt",
     "evalue": "",
     "output_type": "error",
     "traceback": [
      "\u001b[0;31m---------------------------------------------------------------------------\u001b[0m",
      "\u001b[0;31mKeyboardInterrupt\u001b[0m                         Traceback (most recent call last)",
      "\u001b[0;32m<ipython-input-15-2fd198e568bb>\u001b[0m in \u001b[0;36m<module>\u001b[0;34m\u001b[0m\n\u001b[0;32m----> 1\u001b[0;31m \u001b[0mall_data\u001b[0m\u001b[0;34m.\u001b[0m\u001b[0mto_csv\u001b[0m\u001b[0;34m(\u001b[0m\u001b[0;34m'all_data_clean.csv'\u001b[0m\u001b[0;34m,\u001b[0m\u001b[0mindex\u001b[0m \u001b[0;34m=\u001b[0m \u001b[0;32mFalse\u001b[0m\u001b[0;34m,\u001b[0m \u001b[0mencoding\u001b[0m \u001b[0;34m=\u001b[0m \u001b[0;34m'utf-8'\u001b[0m\u001b[0;34m)\u001b[0m\u001b[0;34m\u001b[0m\u001b[0;34m\u001b[0m\u001b[0m\n\u001b[0m",
      "\u001b[0;32m~/Desktop/SI699_hotel_price_prediction/venv/lib/python3.6/site-packages/pandas/core/generic.py\u001b[0m in \u001b[0;36mto_csv\u001b[0;34m(self, path_or_buf, sep, na_rep, float_format, columns, header, index, index_label, mode, encoding, compression, quoting, quotechar, line_terminator, chunksize, tupleize_cols, date_format, doublequote, escapechar, decimal)\u001b[0m\n\u001b[1;32m   3018\u001b[0m                                  \u001b[0mdoublequote\u001b[0m\u001b[0;34m=\u001b[0m\u001b[0mdoublequote\u001b[0m\u001b[0;34m,\u001b[0m\u001b[0;34m\u001b[0m\u001b[0;34m\u001b[0m\u001b[0m\n\u001b[1;32m   3019\u001b[0m                                  escapechar=escapechar, decimal=decimal)\n\u001b[0;32m-> 3020\u001b[0;31m         \u001b[0mformatter\u001b[0m\u001b[0;34m.\u001b[0m\u001b[0msave\u001b[0m\u001b[0;34m(\u001b[0m\u001b[0;34m)\u001b[0m\u001b[0;34m\u001b[0m\u001b[0;34m\u001b[0m\u001b[0m\n\u001b[0m\u001b[1;32m   3021\u001b[0m \u001b[0;34m\u001b[0m\u001b[0m\n\u001b[1;32m   3022\u001b[0m         \u001b[0;32mif\u001b[0m \u001b[0mpath_or_buf\u001b[0m \u001b[0;32mis\u001b[0m \u001b[0;32mNone\u001b[0m\u001b[0;34m:\u001b[0m\u001b[0;34m\u001b[0m\u001b[0;34m\u001b[0m\u001b[0m\n",
      "\u001b[0;32m~/Desktop/SI699_hotel_price_prediction/venv/lib/python3.6/site-packages/pandas/io/formats/csvs.py\u001b[0m in \u001b[0;36msave\u001b[0;34m(self)\u001b[0m\n\u001b[1;32m    170\u001b[0m                 \u001b[0mself\u001b[0m\u001b[0;34m.\u001b[0m\u001b[0mwriter\u001b[0m \u001b[0;34m=\u001b[0m \u001b[0mUnicodeWriter\u001b[0m\u001b[0;34m(\u001b[0m\u001b[0mf\u001b[0m\u001b[0;34m,\u001b[0m \u001b[0;34m**\u001b[0m\u001b[0mwriter_kwargs\u001b[0m\u001b[0;34m)\u001b[0m\u001b[0;34m\u001b[0m\u001b[0;34m\u001b[0m\u001b[0m\n\u001b[1;32m    171\u001b[0m \u001b[0;34m\u001b[0m\u001b[0m\n\u001b[0;32m--> 172\u001b[0;31m             \u001b[0mself\u001b[0m\u001b[0;34m.\u001b[0m\u001b[0m_save\u001b[0m\u001b[0;34m(\u001b[0m\u001b[0;34m)\u001b[0m\u001b[0;34m\u001b[0m\u001b[0;34m\u001b[0m\u001b[0m\n\u001b[0m\u001b[1;32m    173\u001b[0m \u001b[0;34m\u001b[0m\u001b[0m\n\u001b[1;32m    174\u001b[0m         \u001b[0;32mfinally\u001b[0m\u001b[0;34m:\u001b[0m\u001b[0;34m\u001b[0m\u001b[0;34m\u001b[0m\u001b[0m\n",
      "\u001b[0;32m~/Desktop/SI699_hotel_price_prediction/venv/lib/python3.6/site-packages/pandas/io/formats/csvs.py\u001b[0m in \u001b[0;36m_save\u001b[0;34m(self)\u001b[0m\n\u001b[1;32m    286\u001b[0m                 \u001b[0;32mbreak\u001b[0m\u001b[0;34m\u001b[0m\u001b[0;34m\u001b[0m\u001b[0m\n\u001b[1;32m    287\u001b[0m \u001b[0;34m\u001b[0m\u001b[0m\n\u001b[0;32m--> 288\u001b[0;31m             \u001b[0mself\u001b[0m\u001b[0;34m.\u001b[0m\u001b[0m_save_chunk\u001b[0m\u001b[0;34m(\u001b[0m\u001b[0mstart_i\u001b[0m\u001b[0;34m,\u001b[0m \u001b[0mend_i\u001b[0m\u001b[0;34m)\u001b[0m\u001b[0;34m\u001b[0m\u001b[0;34m\u001b[0m\u001b[0m\n\u001b[0m\u001b[1;32m    289\u001b[0m \u001b[0;34m\u001b[0m\u001b[0m\n\u001b[1;32m    290\u001b[0m     \u001b[0;32mdef\u001b[0m \u001b[0m_save_chunk\u001b[0m\u001b[0;34m(\u001b[0m\u001b[0mself\u001b[0m\u001b[0;34m,\u001b[0m \u001b[0mstart_i\u001b[0m\u001b[0;34m,\u001b[0m \u001b[0mend_i\u001b[0m\u001b[0;34m)\u001b[0m\u001b[0;34m:\u001b[0m\u001b[0;34m\u001b[0m\u001b[0;34m\u001b[0m\u001b[0m\n",
      "\u001b[0;32m~/Desktop/SI699_hotel_price_prediction/venv/lib/python3.6/site-packages/pandas/io/formats/csvs.py\u001b[0m in \u001b[0;36m_save_chunk\u001b[0;34m(self, start_i, end_i)\u001b[0m\n\u001b[1;32m    300\u001b[0m                                   \u001b[0mdecimal\u001b[0m\u001b[0;34m=\u001b[0m\u001b[0mself\u001b[0m\u001b[0;34m.\u001b[0m\u001b[0mdecimal\u001b[0m\u001b[0;34m,\u001b[0m\u001b[0;34m\u001b[0m\u001b[0;34m\u001b[0m\u001b[0m\n\u001b[1;32m    301\u001b[0m                                   \u001b[0mdate_format\u001b[0m\u001b[0;34m=\u001b[0m\u001b[0mself\u001b[0m\u001b[0;34m.\u001b[0m\u001b[0mdate_format\u001b[0m\u001b[0;34m,\u001b[0m\u001b[0;34m\u001b[0m\u001b[0;34m\u001b[0m\u001b[0m\n\u001b[0;32m--> 302\u001b[0;31m                                   quoting=self.quoting)\n\u001b[0m\u001b[1;32m    303\u001b[0m \u001b[0;34m\u001b[0m\u001b[0m\n\u001b[1;32m    304\u001b[0m             \u001b[0;32mfor\u001b[0m \u001b[0mcol_loc\u001b[0m\u001b[0;34m,\u001b[0m \u001b[0mcol\u001b[0m \u001b[0;32min\u001b[0m \u001b[0mzip\u001b[0m\u001b[0;34m(\u001b[0m\u001b[0mb\u001b[0m\u001b[0;34m.\u001b[0m\u001b[0mmgr_locs\u001b[0m\u001b[0;34m,\u001b[0m \u001b[0md\u001b[0m\u001b[0;34m)\u001b[0m\u001b[0;34m:\u001b[0m\u001b[0;34m\u001b[0m\u001b[0;34m\u001b[0m\u001b[0m\n",
      "\u001b[0;32m~/Desktop/SI699_hotel_price_prediction/venv/lib/python3.6/site-packages/pandas/core/internals/blocks.py\u001b[0m in \u001b[0;36mto_native_types\u001b[0;34m(self, slicer, na_rep, date_format, quoting, **kwargs)\u001b[0m\n\u001b[1;32m   2209\u001b[0m \u001b[0;34m\u001b[0m\u001b[0m\n\u001b[1;32m   2210\u001b[0m         \u001b[0;32mfrom\u001b[0m \u001b[0mpandas\u001b[0m\u001b[0;34m.\u001b[0m\u001b[0mio\u001b[0m\u001b[0;34m.\u001b[0m\u001b[0mformats\u001b[0m\u001b[0;34m.\u001b[0m\u001b[0mformat\u001b[0m \u001b[0;32mimport\u001b[0m \u001b[0m_get_format_datetime64_from_values\u001b[0m\u001b[0;34m\u001b[0m\u001b[0;34m\u001b[0m\u001b[0m\n\u001b[0;32m-> 2211\u001b[0;31m         \u001b[0mfmt\u001b[0m \u001b[0;34m=\u001b[0m \u001b[0m_get_format_datetime64_from_values\u001b[0m\u001b[0;34m(\u001b[0m\u001b[0mvalues\u001b[0m\u001b[0;34m,\u001b[0m \u001b[0mdate_format\u001b[0m\u001b[0;34m)\u001b[0m\u001b[0;34m\u001b[0m\u001b[0;34m\u001b[0m\u001b[0m\n\u001b[0m\u001b[1;32m   2212\u001b[0m \u001b[0;34m\u001b[0m\u001b[0m\n\u001b[1;32m   2213\u001b[0m         result = tslib.format_array_from_datetime(\n",
      "\u001b[0;32m~/Desktop/SI699_hotel_price_prediction/venv/lib/python3.6/site-packages/pandas/io/formats/format.py\u001b[0m in \u001b[0;36m_get_format_datetime64_from_values\u001b[0;34m(values, date_format)\u001b[0m\n\u001b[1;32m   1300\u001b[0m \u001b[0;32mdef\u001b[0m \u001b[0m_get_format_datetime64_from_values\u001b[0m\u001b[0;34m(\u001b[0m\u001b[0mvalues\u001b[0m\u001b[0;34m,\u001b[0m \u001b[0mdate_format\u001b[0m\u001b[0;34m)\u001b[0m\u001b[0;34m:\u001b[0m\u001b[0;34m\u001b[0m\u001b[0;34m\u001b[0m\u001b[0m\n\u001b[1;32m   1301\u001b[0m     \u001b[0;34m\"\"\" given values and a date_format, return a string format \"\"\"\u001b[0m\u001b[0;34m\u001b[0m\u001b[0;34m\u001b[0m\u001b[0m\n\u001b[0;32m-> 1302\u001b[0;31m     \u001b[0mis_dates_only\u001b[0m \u001b[0;34m=\u001b[0m \u001b[0m_is_dates_only\u001b[0m\u001b[0;34m(\u001b[0m\u001b[0mvalues\u001b[0m\u001b[0;34m)\u001b[0m\u001b[0;34m\u001b[0m\u001b[0;34m\u001b[0m\u001b[0m\n\u001b[0m\u001b[1;32m   1303\u001b[0m     \u001b[0;32mif\u001b[0m \u001b[0mis_dates_only\u001b[0m\u001b[0;34m:\u001b[0m\u001b[0;34m\u001b[0m\u001b[0;34m\u001b[0m\u001b[0m\n\u001b[1;32m   1304\u001b[0m         \u001b[0;32mreturn\u001b[0m \u001b[0mdate_format\u001b[0m \u001b[0;32mor\u001b[0m \u001b[0;34m\"%Y-%m-%d\"\u001b[0m\u001b[0;34m\u001b[0m\u001b[0;34m\u001b[0m\u001b[0m\n",
      "\u001b[0;32m~/Desktop/SI699_hotel_price_prediction/venv/lib/python3.6/site-packages/pandas/io/formats/format.py\u001b[0m in \u001b[0;36m_is_dates_only\u001b[0;34m(values)\u001b[0m\n\u001b[1;32m   1254\u001b[0m \u001b[0;34m\u001b[0m\u001b[0m\n\u001b[1;32m   1255\u001b[0m     \u001b[0mvalues_int\u001b[0m \u001b[0;34m=\u001b[0m \u001b[0mvalues\u001b[0m\u001b[0;34m.\u001b[0m\u001b[0masi8\u001b[0m\u001b[0;34m\u001b[0m\u001b[0;34m\u001b[0m\u001b[0m\n\u001b[0;32m-> 1256\u001b[0;31m     \u001b[0mconsider_values\u001b[0m \u001b[0;34m=\u001b[0m \u001b[0mvalues_int\u001b[0m \u001b[0;34m!=\u001b[0m \u001b[0miNaT\u001b[0m\u001b[0;34m\u001b[0m\u001b[0;34m\u001b[0m\u001b[0m\n\u001b[0m\u001b[1;32m   1257\u001b[0m     \u001b[0mone_day_nanos\u001b[0m \u001b[0;34m=\u001b[0m \u001b[0;34m(\u001b[0m\u001b[0;36m86400\u001b[0m \u001b[0;34m*\u001b[0m \u001b[0;36m1e9\u001b[0m\u001b[0;34m)\u001b[0m\u001b[0;34m\u001b[0m\u001b[0;34m\u001b[0m\u001b[0m\n\u001b[1;32m   1258\u001b[0m     even_days = np.logical_and(consider_values,\n",
      "\u001b[0;31mKeyboardInterrupt\u001b[0m: "
     ]
    }
   ],
   "source": [
    "# output to csv file \n",
    "'''\n",
    "good is that no need to run the above codes each time;\n",
    "TODO: remember to handle NA values later, \n",
    "since currently it's too computational expensive to run\n",
    "\n",
    "'''\n",
    "all_data.to_csv('all_data_clean.csv',index = False, encoding = 'utf-8')"
   ]
  },
  {
   "cell_type": "markdown",
   "metadata": {},
   "source": [
    "<h4> ---- 以上可以run出来 ----"
   ]
  },
  {
   "cell_type": "markdown",
   "metadata": {},
   "source": [
    "<h5>待run:"
   ]
  },
  {
   "cell_type": "code",
   "execution_count": null,
   "metadata": {},
   "outputs": [],
   "source": [
    "# TODO：replace old column NA values to median value\n",
    "all_data_non_NA = all_data.fillna(all_data.median())\n",
    "all_data_non_NA.head()"
   ]
  },
  {
   "cell_type": "code",
   "execution_count": null,
   "metadata": {},
   "outputs": [],
   "source": []
  },
  {
   "cell_type": "markdown",
   "metadata": {},
   "source": [
    "<h4> Sample data into smaller size (10000)"
   ]
  },
  {
   "cell_type": "code",
   "execution_count": null,
   "metadata": {},
   "outputs": [],
   "source": [
    "def get_sampled_data(size, data):\n",
    "    '''\n",
    "    This function takes in the whole dataset, \n",
    "    and outout a sampled subset with data size specified\n",
    "    '''\n",
    "    interval_range = len(data)//size\n",
    "    mid_idx_lst = []\n",
    "    for i in range(1,size+1):\n",
    "        mid_idx = (interval_range*(i-1) + interval_range*i)//2\n",
    "        mid_idx_lst.append(mid_idx)\n",
    "\n",
    "    print(mid_idx_lst[0],mid_idx_lst[-1])\n",
    "    data_sampled = data.iloc[mid_idx_lst]\n",
    "    return data_sampled\n",
    "    \n",
    "get_sampled_data(10000, all_data)"
   ]
  },
  {
   "cell_type": "code",
   "execution_count": null,
   "metadata": {},
   "outputs": [],
   "source": [
    "# sample:需要得到10000 data points \n",
    "interval_range = len(all_data)//10000  \n",
    "print(interval_range)\n",
    "\n",
    "mid_idx_lst = []\n",
    "for i in range(1,10001):\n",
    "    mid_idx = (interval_range*(i-1) + interval_range*i)//2\n",
    "    mid_idx_lst.append(mid_idx)\n",
    "\n",
    "print(mid_idx_lst[0],mid_idx_lst[-1])\n",
    "all_data_sampled = all_data.iloc[mid_idx_lst]\n",
    "all_data_sampled.head()"
   ]
  },
  {
   "cell_type": "code",
   "execution_count": 16,
   "metadata": {},
   "outputs": [
    {
     "data": {
      "text/html": [
       "<div>\n",
       "<style scoped>\n",
       "    .dataframe tbody tr th:only-of-type {\n",
       "        vertical-align: middle;\n",
       "    }\n",
       "\n",
       "    .dataframe tbody tr th {\n",
       "        vertical-align: top;\n",
       "    }\n",
       "\n",
       "    .dataframe thead th {\n",
       "        text-align: right;\n",
       "    }\n",
       "</style>\n",
       "<table border=\"1\" class=\"dataframe\">\n",
       "  <thead>\n",
       "    <tr style=\"text-align: right;\">\n",
       "      <th></th>\n",
       "      <th>srch_id</th>\n",
       "      <th>date_time</th>\n",
       "      <th>site_id</th>\n",
       "      <th>visitor_location_country_id</th>\n",
       "      <th>visitor_hist_starrating</th>\n",
       "      <th>visitor_hist_adr_usd</th>\n",
       "      <th>prop_country_id</th>\n",
       "      <th>prop_id</th>\n",
       "      <th>prop_starrating</th>\n",
       "      <th>prop_review_score</th>\n",
       "      <th>...</th>\n",
       "      <th>new_comp5_rate_percent_diff</th>\n",
       "      <th>new_comp6_rate</th>\n",
       "      <th>new_comp6_inv</th>\n",
       "      <th>new_comp6_rate_percent_diff</th>\n",
       "      <th>new_comp7_rate</th>\n",
       "      <th>new_comp7_inv</th>\n",
       "      <th>new_comp7_rate_percent_diff</th>\n",
       "      <th>new_comp8_rate</th>\n",
       "      <th>new_comp8_inv</th>\n",
       "      <th>new_comp8_rate_percent_diff</th>\n",
       "    </tr>\n",
       "  </thead>\n",
       "  <tbody>\n",
       "    <tr>\n",
       "      <th>827</th>\n",
       "      <td>664572</td>\n",
       "      <td>2012-11-01 00:48:02</td>\n",
       "      <td>24</td>\n",
       "      <td>216</td>\n",
       "      <td>3.375</td>\n",
       "      <td>154.12</td>\n",
       "      <td>99</td>\n",
       "      <td>84066</td>\n",
       "      <td>3</td>\n",
       "      <td>3.0</td>\n",
       "      <td>...</td>\n",
       "      <td>0</td>\n",
       "      <td>0</td>\n",
       "      <td>0</td>\n",
       "      <td>0</td>\n",
       "      <td>1</td>\n",
       "      <td>1</td>\n",
       "      <td>1</td>\n",
       "      <td>0</td>\n",
       "      <td>0</td>\n",
       "      <td>0</td>\n",
       "    </tr>\n",
       "    <tr>\n",
       "      <th>2481</th>\n",
       "      <td>583733</td>\n",
       "      <td>2012-11-01 03:18:56</td>\n",
       "      <td>15</td>\n",
       "      <td>117</td>\n",
       "      <td>3.375</td>\n",
       "      <td>154.12</td>\n",
       "      <td>202</td>\n",
       "      <td>29484</td>\n",
       "      <td>5</td>\n",
       "      <td>5.0</td>\n",
       "      <td>...</td>\n",
       "      <td>0</td>\n",
       "      <td>0</td>\n",
       "      <td>0</td>\n",
       "      <td>0</td>\n",
       "      <td>0</td>\n",
       "      <td>0</td>\n",
       "      <td>0</td>\n",
       "      <td>0</td>\n",
       "      <td>0</td>\n",
       "      <td>0</td>\n",
       "    </tr>\n",
       "    <tr>\n",
       "      <th>4135</th>\n",
       "      <td>649019</td>\n",
       "      <td>2012-11-01 05:47:36</td>\n",
       "      <td>5</td>\n",
       "      <td>158</td>\n",
       "      <td>3.375</td>\n",
       "      <td>154.12</td>\n",
       "      <td>219</td>\n",
       "      <td>1840</td>\n",
       "      <td>3</td>\n",
       "      <td>4.5</td>\n",
       "      <td>...</td>\n",
       "      <td>0</td>\n",
       "      <td>0</td>\n",
       "      <td>0</td>\n",
       "      <td>0</td>\n",
       "      <td>0</td>\n",
       "      <td>0</td>\n",
       "      <td>0</td>\n",
       "      <td>0</td>\n",
       "      <td>0</td>\n",
       "      <td>0</td>\n",
       "    </tr>\n",
       "    <tr>\n",
       "      <th>5789</th>\n",
       "      <td>571848</td>\n",
       "      <td>2012-11-01 06:46:18</td>\n",
       "      <td>5</td>\n",
       "      <td>219</td>\n",
       "      <td>3.375</td>\n",
       "      <td>154.12</td>\n",
       "      <td>219</td>\n",
       "      <td>33331</td>\n",
       "      <td>3</td>\n",
       "      <td>4.0</td>\n",
       "      <td>...</td>\n",
       "      <td>0</td>\n",
       "      <td>0</td>\n",
       "      <td>0</td>\n",
       "      <td>0</td>\n",
       "      <td>0</td>\n",
       "      <td>0</td>\n",
       "      <td>0</td>\n",
       "      <td>0</td>\n",
       "      <td>1</td>\n",
       "      <td>1</td>\n",
       "    </tr>\n",
       "    <tr>\n",
       "      <th>7443</th>\n",
       "      <td>57094</td>\n",
       "      <td>2012-11-01 07:47:43</td>\n",
       "      <td>5</td>\n",
       "      <td>219</td>\n",
       "      <td>3.375</td>\n",
       "      <td>154.12</td>\n",
       "      <td>219</td>\n",
       "      <td>28930</td>\n",
       "      <td>3</td>\n",
       "      <td>4.0</td>\n",
       "      <td>...</td>\n",
       "      <td>0</td>\n",
       "      <td>0</td>\n",
       "      <td>0</td>\n",
       "      <td>0</td>\n",
       "      <td>0</td>\n",
       "      <td>0</td>\n",
       "      <td>0</td>\n",
       "      <td>0</td>\n",
       "      <td>0</td>\n",
       "      <td>0</td>\n",
       "    </tr>\n",
       "  </tbody>\n",
       "</table>\n",
       "<p>5 rows × 80 columns</p>\n",
       "</div>"
      ],
      "text/plain": [
       "      srch_id           date_time  site_id  visitor_location_country_id  \\\n",
       "827    664572 2012-11-01 00:48:02       24                          216   \n",
       "2481   583733 2012-11-01 03:18:56       15                          117   \n",
       "4135   649019 2012-11-01 05:47:36        5                          158   \n",
       "5789   571848 2012-11-01 06:46:18        5                          219   \n",
       "7443    57094 2012-11-01 07:47:43        5                          219   \n",
       "\n",
       "      visitor_hist_starrating  visitor_hist_adr_usd  prop_country_id  prop_id  \\\n",
       "827                     3.375                154.12               99    84066   \n",
       "2481                    3.375                154.12              202    29484   \n",
       "4135                    3.375                154.12              219     1840   \n",
       "5789                    3.375                154.12              219    33331   \n",
       "7443                    3.375                154.12              219    28930   \n",
       "\n",
       "      prop_starrating  prop_review_score  ...  new_comp5_rate_percent_diff  \\\n",
       "827                 3                3.0  ...                            0   \n",
       "2481                5                5.0  ...                            0   \n",
       "4135                3                4.5  ...                            0   \n",
       "5789                3                4.0  ...                            0   \n",
       "7443                3                4.0  ...                            0   \n",
       "\n",
       "      new_comp6_rate  new_comp6_inv  new_comp6_rate_percent_diff  \\\n",
       "827                0              0                            0   \n",
       "2481               0              0                            0   \n",
       "4135               0              0                            0   \n",
       "5789               0              0                            0   \n",
       "7443               0              0                            0   \n",
       "\n",
       "      new_comp7_rate  new_comp7_inv  new_comp7_rate_percent_diff  \\\n",
       "827                1              1                            1   \n",
       "2481               0              0                            0   \n",
       "4135               0              0                            0   \n",
       "5789               0              0                            0   \n",
       "7443               0              0                            0   \n",
       "\n",
       "      new_comp8_rate  new_comp8_inv  new_comp8_rate_percent_diff  \n",
       "827                0              0                            0  \n",
       "2481               0              0                            0  \n",
       "4135               0              0                            0  \n",
       "5789               0              1                            1  \n",
       "7443               0              0                            0  \n",
       "\n",
       "[5 rows x 80 columns]"
      ]
     },
     "execution_count": 16,
     "metadata": {},
     "output_type": "execute_result"
    }
   ],
   "source": [
    "# replace old column NA values to median value\n",
    "all_data_sampled_non_NA = all_data_sampled.fillna(all_data_sampled.median())\n",
    "print(all_data_sampled_non_NA.head())\n",
    "\n",
    "# check NA values\n",
    "all_data_sampled_non_NA.isna().sum()"
   ]
  },
  {
   "cell_type": "code",
   "execution_count": 17,
   "metadata": {},
   "outputs": [
    {
     "data": {
      "text/plain": [
       "srch_id                          0\n",
       "date_time                        0\n",
       "site_id                          0\n",
       "visitor_location_country_id      0\n",
       "visitor_hist_starrating          0\n",
       "visitor_hist_adr_usd             0\n",
       "prop_country_id                  0\n",
       "prop_id                          0\n",
       "prop_starrating                  0\n",
       "prop_review_score                0\n",
       "prop_brand_bool                  0\n",
       "prop_location_score1             0\n",
       "prop_location_score2             0\n",
       "prop_log_historical_price        0\n",
       "price_usd                        0\n",
       "promotion_flag                   0\n",
       "srch_destination_id              0\n",
       "srch_length_of_stay              0\n",
       "srch_booking_window              0\n",
       "srch_adults_count                0\n",
       "srch_children_count              0\n",
       "srch_room_count                  0\n",
       "srch_saturday_night_bool         0\n",
       "srch_query_affinity_score        0\n",
       "orig_destination_distance        0\n",
       "random_bool                      0\n",
       "comp1_rate                       0\n",
       "comp1_inv                        0\n",
       "comp1_rate_percent_diff          0\n",
       "comp2_rate                       0\n",
       "                                ..\n",
       "new_visitor_hist_starrating      0\n",
       "new_visitor_hist_adr_usd         0\n",
       "new_prop_review_score            0\n",
       "new_prop_location_score2         0\n",
       "new_srch_query_affinity_score    0\n",
       "new_orig_destination_distance    0\n",
       "new_comp1_rate                   0\n",
       "new_comp1_inv                    0\n",
       "new_comp1_rate_percent_diff      0\n",
       "new_comp2_rate                   0\n",
       "new_comp2_inv                    0\n",
       "new_comp2_rate_percent_diff      0\n",
       "new_comp3_rate                   0\n",
       "new_comp3_inv                    0\n",
       "new_comp3_rate_percent_diff      0\n",
       "new_comp4_rate                   0\n",
       "new_comp4_inv                    0\n",
       "new_comp4_rate_percent_diff      0\n",
       "new_comp5_rate                   0\n",
       "new_comp5_inv                    0\n",
       "new_comp5_rate_percent_diff      0\n",
       "new_comp6_rate                   0\n",
       "new_comp6_inv                    0\n",
       "new_comp6_rate_percent_diff      0\n",
       "new_comp7_rate                   0\n",
       "new_comp7_inv                    0\n",
       "new_comp7_rate_percent_diff      0\n",
       "new_comp8_rate                   0\n",
       "new_comp8_inv                    0\n",
       "new_comp8_rate_percent_diff      0\n",
       "Length: 80, dtype: int64"
      ]
     },
     "execution_count": 17,
     "metadata": {},
     "output_type": "execute_result"
    }
   ],
   "source": []
  },
  {
   "cell_type": "markdown",
   "metadata": {},
   "source": [
    "Notice: 以上，data preprocessing基本完成。但是是基于sampled size (总共50000条)，因此在Flux set up 好之后，再用所有dataset的数据来run一遍。"
   ]
  },
  {
   "cell_type": "markdown",
   "metadata": {},
   "source": [
    "<h3> Split data into training, validation and test set"
   ]
  },
  {
   "cell_type": "code",
   "execution_count": null,
   "metadata": {},
   "outputs": [],
   "source": [
    "def split_data(data):\n",
    "    '''\n",
    "    This function takes in the whole data set and divide it into training, validation and test data;\n",
    "    split into 0.8 and 0.2 first; second split using the same ratio into training and valiation\n",
    "    '''\n",
    "    training_size_large = int(len(data) * 0.8)   \n",
    "    validation_size = int(training_size_large * 0.2)\n",
    "    training_size = training_size_large - validation_size\n",
    "    test_size = int(len(data) * 0.2)\n",
    "    \n",
    "    print('training size: %d'%training_size)\n",
    "    print('validation size: %d'%validation_size)\n",
    "    print('test size: %d'%test_size)\n",
    "    \n",
    "    # split data manually\n",
    "    training_data = data[0: training_size]\n",
    "    validation_data = data[training_size:(training_size + validation_size)]\n",
    "    test_data = data[(training_size + validation_size): (training_size + validation_size + test_size)]\n",
    "    \n",
    "    return training_data, validation_data, test_data\n",
    "    \n",
    "training_data, validation_data, test_data = split_data(all_data_sampled_non_NA)"
   ]
  },
  {
   "cell_type": "code",
   "execution_count": 18,
   "metadata": {},
   "outputs": [],
   "source": [
    "# training_size_large = int(len(all_data_sampled_non_NA) * 0.8)\n",
    "# validation_size = int(training_size_large * 0.2)\n",
    "# training_size = training_size_large - validation_size\n",
    "# test_size = int(len(all_data_sampled_non_NA) * 0.2)"
   ]
  },
  {
   "cell_type": "code",
   "execution_count": 19,
   "metadata": {},
   "outputs": [
    {
     "name": "stdout",
     "output_type": "stream",
     "text": [
      "training size: 6400\n",
      "validation size: 1600\n",
      "test size: 2000\n"
     ]
    }
   ],
   "source": [
    "# print('training size: %d'%training_size)\n",
    "# print('validation size: %d'%validation_size)\n",
    "# print('test size: %d'%test_size)"
   ]
  },
  {
   "cell_type": "code",
   "execution_count": 20,
   "metadata": {},
   "outputs": [],
   "source": [
    "# Approach1: split data manually\n",
    "# training_data = all_data_sampled_non_NA[0: training_size]\n",
    "# validation_data = all_data_sampled_non_NA[training_size:(training_size + validation_size)]\n",
    "# test_data = all_data_sampled_non_NA[(training_size + validation_size): (training_size + validation_size + test_size)]"
   ]
  },
  {
   "cell_type": "code",
   "execution_count": null,
   "metadata": {},
   "outputs": [],
   "source": []
  },
  {
   "cell_type": "markdown",
   "metadata": {},
   "source": [
    "<h3> (Ongoing) Resample data | into weeks or days:"
   ]
  },
  {
   "cell_type": "code",
   "execution_count": null,
   "metadata": {},
   "outputs": [],
   "source": [
    "def resample_data(data,sample_method = 'W'):\n",
    "    data_resetIndex = data.set_index('date_time')\n",
    "    resampled_data = data_resetIndex.resample('D').median()\n",
    "    return resampled_data\n",
    "\n",
    "daily = resample_data(all_data, sample_method = 'D') #split dataset by day\n",
    "print('there are %d days in total.'%len(daily))\n",
    "# TODO: 将numeric, categorical feats区分开来\n",
    "\n",
    "weekly = resample_data(all_data, sample_method = 'W') #split the whole dataset by weeks\n",
    "print('there are %d weeks in total.'%len(weekly))\n",
    "# TODO: need to exclude boolean values and categorical values"
   ]
  },
  {
   "cell_type": "code",
   "execution_count": 17,
   "metadata": {},
   "outputs": [
    {
     "name": "stdout",
     "output_type": "stream",
     "text": [
      "there are 242 days in total.\n"
     ]
    },
    {
     "data": {
      "text/html": [
       "<div>\n",
       "<style scoped>\n",
       "    .dataframe tbody tr th:only-of-type {\n",
       "        vertical-align: middle;\n",
       "    }\n",
       "\n",
       "    .dataframe tbody tr th {\n",
       "        vertical-align: top;\n",
       "    }\n",
       "\n",
       "    .dataframe thead th {\n",
       "        text-align: right;\n",
       "    }\n",
       "</style>\n",
       "<table border=\"1\" class=\"dataframe\">\n",
       "  <thead>\n",
       "    <tr style=\"text-align: right;\">\n",
       "      <th></th>\n",
       "      <th>srch_id</th>\n",
       "      <th>site_id</th>\n",
       "      <th>visitor_location_country_id</th>\n",
       "      <th>visitor_hist_starrating</th>\n",
       "      <th>visitor_hist_adr_usd</th>\n",
       "      <th>prop_country_id</th>\n",
       "      <th>prop_id</th>\n",
       "      <th>prop_starrating</th>\n",
       "      <th>prop_review_score</th>\n",
       "      <th>prop_brand_bool</th>\n",
       "      <th>...</th>\n",
       "      <th>new_comp5_rate_percent_diff</th>\n",
       "      <th>new_comp6_rate</th>\n",
       "      <th>new_comp6_inv</th>\n",
       "      <th>new_comp6_rate_percent_diff</th>\n",
       "      <th>new_comp7_rate</th>\n",
       "      <th>new_comp7_inv</th>\n",
       "      <th>new_comp7_rate_percent_diff</th>\n",
       "      <th>new_comp8_rate</th>\n",
       "      <th>new_comp8_inv</th>\n",
       "      <th>new_comp8_rate_percent_diff</th>\n",
       "    </tr>\n",
       "    <tr>\n",
       "      <th>date_time</th>\n",
       "      <th></th>\n",
       "      <th></th>\n",
       "      <th></th>\n",
       "      <th></th>\n",
       "      <th></th>\n",
       "      <th></th>\n",
       "      <th></th>\n",
       "      <th></th>\n",
       "      <th></th>\n",
       "      <th></th>\n",
       "      <th></th>\n",
       "      <th></th>\n",
       "      <th></th>\n",
       "      <th></th>\n",
       "      <th></th>\n",
       "      <th></th>\n",
       "      <th></th>\n",
       "      <th></th>\n",
       "      <th></th>\n",
       "      <th></th>\n",
       "      <th></th>\n",
       "    </tr>\n",
       "  </thead>\n",
       "  <tbody>\n",
       "    <tr>\n",
       "      <th>2012-11-01</th>\n",
       "      <td>322879.0</td>\n",
       "      <td>5.0</td>\n",
       "      <td>219.0</td>\n",
       "      <td>3.40</td>\n",
       "      <td>145.64</td>\n",
       "      <td>219.0</td>\n",
       "      <td>69489.0</td>\n",
       "      <td>3.0</td>\n",
       "      <td>4.0</td>\n",
       "      <td>1.0</td>\n",
       "      <td>...</td>\n",
       "      <td>0.0</td>\n",
       "      <td>0.0</td>\n",
       "      <td>0.0</td>\n",
       "      <td>0.0</td>\n",
       "      <td>0.0</td>\n",
       "      <td>0.0</td>\n",
       "      <td>0.0</td>\n",
       "      <td>0.0</td>\n",
       "      <td>0.0</td>\n",
       "      <td>0.0</td>\n",
       "    </tr>\n",
       "    <tr>\n",
       "      <th>2012-11-02</th>\n",
       "      <td>333576.5</td>\n",
       "      <td>5.0</td>\n",
       "      <td>219.0</td>\n",
       "      <td>3.22</td>\n",
       "      <td>145.21</td>\n",
       "      <td>219.0</td>\n",
       "      <td>69845.0</td>\n",
       "      <td>3.0</td>\n",
       "      <td>4.0</td>\n",
       "      <td>1.0</td>\n",
       "      <td>...</td>\n",
       "      <td>0.0</td>\n",
       "      <td>0.0</td>\n",
       "      <td>0.0</td>\n",
       "      <td>0.0</td>\n",
       "      <td>0.0</td>\n",
       "      <td>0.0</td>\n",
       "      <td>0.0</td>\n",
       "      <td>0.0</td>\n",
       "      <td>0.0</td>\n",
       "      <td>0.0</td>\n",
       "    </tr>\n",
       "    <tr>\n",
       "      <th>2012-11-03</th>\n",
       "      <td>352108.0</td>\n",
       "      <td>5.0</td>\n",
       "      <td>219.0</td>\n",
       "      <td>3.43</td>\n",
       "      <td>136.34</td>\n",
       "      <td>219.0</td>\n",
       "      <td>69494.0</td>\n",
       "      <td>3.0</td>\n",
       "      <td>4.0</td>\n",
       "      <td>1.0</td>\n",
       "      <td>...</td>\n",
       "      <td>0.0</td>\n",
       "      <td>0.0</td>\n",
       "      <td>0.0</td>\n",
       "      <td>0.0</td>\n",
       "      <td>0.0</td>\n",
       "      <td>0.0</td>\n",
       "      <td>0.0</td>\n",
       "      <td>0.0</td>\n",
       "      <td>0.0</td>\n",
       "      <td>0.0</td>\n",
       "    </tr>\n",
       "    <tr>\n",
       "      <th>2012-11-04</th>\n",
       "      <td>332504.0</td>\n",
       "      <td>5.0</td>\n",
       "      <td>219.0</td>\n",
       "      <td>3.22</td>\n",
       "      <td>141.14</td>\n",
       "      <td>219.0</td>\n",
       "      <td>69207.0</td>\n",
       "      <td>3.0</td>\n",
       "      <td>4.0</td>\n",
       "      <td>1.0</td>\n",
       "      <td>...</td>\n",
       "      <td>0.0</td>\n",
       "      <td>0.0</td>\n",
       "      <td>0.0</td>\n",
       "      <td>0.0</td>\n",
       "      <td>0.0</td>\n",
       "      <td>0.0</td>\n",
       "      <td>0.0</td>\n",
       "      <td>0.0</td>\n",
       "      <td>0.0</td>\n",
       "      <td>0.0</td>\n",
       "    </tr>\n",
       "    <tr>\n",
       "      <th>2012-11-05</th>\n",
       "      <td>338633.0</td>\n",
       "      <td>5.0</td>\n",
       "      <td>219.0</td>\n",
       "      <td>3.29</td>\n",
       "      <td>139.96</td>\n",
       "      <td>219.0</td>\n",
       "      <td>70336.5</td>\n",
       "      <td>3.0</td>\n",
       "      <td>4.0</td>\n",
       "      <td>1.0</td>\n",
       "      <td>...</td>\n",
       "      <td>0.0</td>\n",
       "      <td>0.0</td>\n",
       "      <td>0.0</td>\n",
       "      <td>0.0</td>\n",
       "      <td>0.0</td>\n",
       "      <td>0.0</td>\n",
       "      <td>0.0</td>\n",
       "      <td>0.0</td>\n",
       "      <td>0.0</td>\n",
       "      <td>0.0</td>\n",
       "    </tr>\n",
       "  </tbody>\n",
       "</table>\n",
       "<p>5 rows × 79 columns</p>\n",
       "</div>"
      ],
      "text/plain": [
       "             srch_id  site_id  visitor_location_country_id  \\\n",
       "date_time                                                    \n",
       "2012-11-01  322879.0      5.0                        219.0   \n",
       "2012-11-02  333576.5      5.0                        219.0   \n",
       "2012-11-03  352108.0      5.0                        219.0   \n",
       "2012-11-04  332504.0      5.0                        219.0   \n",
       "2012-11-05  338633.0      5.0                        219.0   \n",
       "\n",
       "            visitor_hist_starrating  visitor_hist_adr_usd  prop_country_id  \\\n",
       "date_time                                                                    \n",
       "2012-11-01                     3.40                145.64            219.0   \n",
       "2012-11-02                     3.22                145.21            219.0   \n",
       "2012-11-03                     3.43                136.34            219.0   \n",
       "2012-11-04                     3.22                141.14            219.0   \n",
       "2012-11-05                     3.29                139.96            219.0   \n",
       "\n",
       "            prop_id  prop_starrating  prop_review_score  prop_brand_bool  \\\n",
       "date_time                                                                  \n",
       "2012-11-01  69489.0              3.0                4.0              1.0   \n",
       "2012-11-02  69845.0              3.0                4.0              1.0   \n",
       "2012-11-03  69494.0              3.0                4.0              1.0   \n",
       "2012-11-04  69207.0              3.0                4.0              1.0   \n",
       "2012-11-05  70336.5              3.0                4.0              1.0   \n",
       "\n",
       "                       ...               new_comp5_rate_percent_diff  \\\n",
       "date_time              ...                                             \n",
       "2012-11-01             ...                                       0.0   \n",
       "2012-11-02             ...                                       0.0   \n",
       "2012-11-03             ...                                       0.0   \n",
       "2012-11-04             ...                                       0.0   \n",
       "2012-11-05             ...                                       0.0   \n",
       "\n",
       "            new_comp6_rate  new_comp6_inv  new_comp6_rate_percent_diff  \\\n",
       "date_time                                                                \n",
       "2012-11-01             0.0            0.0                          0.0   \n",
       "2012-11-02             0.0            0.0                          0.0   \n",
       "2012-11-03             0.0            0.0                          0.0   \n",
       "2012-11-04             0.0            0.0                          0.0   \n",
       "2012-11-05             0.0            0.0                          0.0   \n",
       "\n",
       "            new_comp7_rate  new_comp7_inv  new_comp7_rate_percent_diff  \\\n",
       "date_time                                                                \n",
       "2012-11-01             0.0            0.0                          0.0   \n",
       "2012-11-02             0.0            0.0                          0.0   \n",
       "2012-11-03             0.0            0.0                          0.0   \n",
       "2012-11-04             0.0            0.0                          0.0   \n",
       "2012-11-05             0.0            0.0                          0.0   \n",
       "\n",
       "            new_comp8_rate  new_comp8_inv  new_comp8_rate_percent_diff  \n",
       "date_time                                                               \n",
       "2012-11-01             0.0            0.0                          0.0  \n",
       "2012-11-02             0.0            0.0                          0.0  \n",
       "2012-11-03             0.0            0.0                          0.0  \n",
       "2012-11-04             0.0            0.0                          0.0  \n",
       "2012-11-05             0.0            0.0                          0.0  \n",
       "\n",
       "[5 rows x 79 columns]"
      ]
     },
     "execution_count": 17,
     "metadata": {},
     "output_type": "execute_result"
    }
   ],
   "source": [
    "# split dataset by day\n",
    "# all_data_resetIndex = all_data.set_index('date_time')\n",
    "# daily = all_data_resetIndex.resample('D').median()\n",
    "# print('there are %d days in total.'%len(daily))\n",
    "# daily.head()"
   ]
  },
  {
   "cell_type": "code",
   "execution_count": 30,
   "metadata": {},
   "outputs": [
    {
     "data": {
      "text/plain": [
       "<matplotlib.axes._subplots.AxesSubplot at 0x1a226782e8>"
      ]
     },
     "execution_count": 30,
     "metadata": {},
     "output_type": "execute_result"
    },
    {
     "data": {
      "image/png": "[encoded data removed]",
      "text/plain": [
       "<Figure size 432x288 with 1 Axes>"
      ]
     },
     "metadata": {
      "needs_background": "light"
     },
     "output_type": "display_data"
    }
   ],
   "source": [
    "weekly[['price_usd']].plot()"
   ]
  },
  {
   "cell_type": "code",
   "execution_count": null,
   "metadata": {},
   "outputs": [],
   "source": []
  },
  {
   "cell_type": "markdown",
   "metadata": {},
   "source": [
    "# Modeling (regression + linear methods)"
   ]
  },
  {
   "cell_type": "markdown",
   "metadata": {},
   "source": [
    "numeric features:  prop_starrating, prop_review_score, prop_location_score1, prop_log_historical_price, srch_adults_count, srch_room_count, orig_destination_distance \n",
    "categorical features: 'srch_saturday_night_bool','promotion_flag','prop_brand_bool','site_id','visitor_location_country_id','prop_country_id','srch_destination_id'"
   ]
  },
  {
   "cell_type": "code",
   "execution_count": null,
   "metadata": {},
   "outputs": [],
   "source": [
    "def get_RMSE(y_pred,y_true,data):\n",
    "    '''\n",
    "    This function takes in the prediction values and the true values,\n",
    "    and the whole data set, and output an rmse score.\n",
    "    '''\n",
    "    return np.sqrt(sum((y_pred - y_true)**2)/len(data))\n",
    "\n"
   ]
  },
  {
   "cell_type": "markdown",
   "metadata": {},
   "source": [
    "<h3> 1.Linear regression (numeric feats):"
   ]
  },
  {
   "cell_type": "markdown",
   "metadata": {},
   "source": [
    "*可以考虑normalization, standardization以及log transform data"
   ]
  },
  {
   "cell_type": "code",
   "execution_count": null,
   "metadata": {},
   "outputs": [],
   "source": [
    "def get_X_y(data,features):\n",
    "    '''\n",
    "    This function takes in the data set, and the features needed for regression model;\n",
    "    and return X, y accordingly.\n",
    "    '''\n",
    "    X = data[features]\n",
    "    y = data['price_usd']\n",
    "    return X,y\n",
    "\n",
    "imp_numeric_feats = ['prop_starrating', 'prop_review_score', 'prop_location_score1', 'prop_log_historical_price', 'srch_adults_count', 'srch_room_count', 'orig_destination_distance']\n",
    "X_train, y_train = get_X_y(training_data,imp_numeric_feats)\n",
    "X_validation, y_validation = get_X_y(validation_data,imp_numeric_feats)"
   ]
  },
  {
   "cell_type": "code",
   "execution_count": 76,
   "metadata": {},
   "outputs": [],
   "source": [
    "# imp_numeric_feats = ['prop_starrating', 'prop_review_score', 'prop_location_score1', 'prop_log_historical_price', 'srch_adults_count', 'srch_room_count', 'orig_destination_distance']\n",
    "\n",
    "# X_train = training_data[imp_numeric_feats]\n",
    "# y_train = training_data['price_usd']\n",
    "\n",
    "# X_validation = validation_data[imp_numeric_feats]\n",
    "# y_validation = validation_data['price_usd']"
   ]
  },
  {
   "cell_type": "code",
   "execution_count": null,
   "metadata": {},
   "outputs": [],
   "source": [
    "def get_modeling_result(model,training_data, validation_data):\n",
    "    '''\n",
    "    This function takes in the training set and validation set, and the model you choose;\n",
    "    output the test RMSE and train RMSE score for evaluation.\n",
    "    '''\n",
    "    reg = model.fit(X_train,y_train)\n",
    "    y_pred_val = reg.predict(X_validation)\n",
    "    y_pred_train = reg.predict(X_train)\n",
    "    \n",
    "    test_RMSE = get_RMSE(y_pred_val,y_validation, validation_data)\n",
    "    train_RMSE = get_RMSE(y_pred_train ,y_train, training_data)\n",
    "    \n",
    "    print('training RMSE:'train_RMSE)\n",
    "    print('test RMSE:'test_RMSE)\n",
    "    return train_RMSE, test_RMSE\n",
    "    \n",
    "train_RMSE, test_RMSE = get_modeling_result(LinearRegression(),training_data, validation_data)"
   ]
  },
  {
   "cell_type": "code",
   "execution_count": 77,
   "metadata": {},
   "outputs": [
    {
     "name": "stdout",
     "output_type": "stream",
     "text": [
      "The first ten predicted price: [189.10882623 114.38983051 137.8582219  244.01291075 271.42144406\n",
      " 166.66980927 132.35797636 143.24134923 177.34609748 143.88667856]\n",
      "test RMSE: 18261.458953464615\n"
     ]
    }
   ],
   "source": [
    "# reg = LinearRegression().fit(X_train,y_train)\n",
    "# y_pred = reg.predict(X_validation)\n",
    "# print('The first ten predicted price:', y_pred[:10])\n",
    "# print('test RMSE:',np.sqrt(sum((y_pred - y_validation)**2)/len(validation_data)))"
   ]
  },
  {
   "cell_type": "code",
   "execution_count": 78,
   "metadata": {},
   "outputs": [
    {
     "name": "stdout",
     "output_type": "stream",
     "text": [
      "The first ten predicted price: [189.10882623 114.38983051 137.8582219  244.01291075 271.42144406\n",
      " 166.66980927 132.35797636 143.24134923 177.34609748 143.88667856]\n",
      "test RMSE: 18261.458953464615\n"
     ]
    }
   ],
   "source": [
    "# reg = LinearRegression().fit(X_train,y_train)\n",
    "# y_pred = reg.predict(X_validation)\n",
    "# print('The first ten predicted price:', y_pred[:10])\n",
    "# print('test RMSE:',np.sqrt(sum((y_pred - y_validation)**2)/len(validation_data)))"
   ]
  },
  {
   "cell_type": "markdown",
   "metadata": {},
   "source": [
    "只使用numeric features去做linear regression, 得到training error: 4809.81, test error: 2720.88"
   ]
  },
  {
   "cell_type": "code",
   "execution_count": 79,
   "metadata": {},
   "outputs": [],
   "source": [
    "# TODO: plot learning curve => 是为了for hyper-param tuning => 暂时先不管\n",
    "# reference: https://scikit-learn.org/stable/auto_examples/model_selection/plot_learning_curve.html\n",
    "# 可以结合timeseries的cross validation"
   ]
  },
  {
   "cell_type": "markdown",
   "metadata": {},
   "source": [
    "<h3> 2.Linear regression (categorical feats):"
   ]
  },
  {
   "cell_type": "code",
   "execution_count": null,
   "metadata": {},
   "outputs": [],
   "source": [
    "# all_data.columns.unique().tolist()"
   ]
  },
  {
   "cell_type": "code",
   "execution_count": 81,
   "metadata": {},
   "outputs": [
    {
     "name": "stdout",
     "output_type": "stream",
     "text": [
      "['random_bool', 'srch_saturday_night_bool', 'promotion_flag', 'prop_brand_bool', 'site_id', 'visitor_location_country_id', 'prop_country_id', 'srch_destination_id', 'srch_id', 'prop_id', 'new_visitor_hist_starrating', 'new_visitor_hist_adr_usd', 'new_prop_review_score', 'new_prop_location_score2', 'new_srch_query_affinity_score', 'new_orig_destination_distance', 'new_comp1_rate', 'new_comp1_inv', 'new_comp1_rate_percent_diff', 'new_comp2_rate', 'new_comp2_inv', 'new_comp2_rate_percent_diff', 'new_comp3_rate', 'new_comp3_inv', 'new_comp3_rate_percent_diff', 'new_comp4_rate', 'new_comp4_inv', 'new_comp4_rate_percent_diff', 'new_comp5_rate', 'new_comp5_inv', 'new_comp5_rate_percent_diff', 'new_comp6_rate', 'new_comp6_inv', 'new_comp6_rate_percent_diff', 'new_comp7_rate', 'new_comp7_inv', 'new_comp7_rate_percent_diff', 'new_comp8_rate', 'new_comp8_inv', 'new_comp8_rate_percent_diff', 'comp1_inv', 'comp2_inv', 'comp3_inv', 'comp4_inv', 'comp5_inv', 'comp6_inv', 'comp7_inv', 'comp8_inv']\n"
     ]
    }
   ],
   "source": [
    "# 需要找到important feats再增加了feats之后 => chi-2 test\n",
    "cat_feats = ['random_bool','srch_saturday_night_bool', 'promotion_flag', 'prop_brand_bool', 'site_id', 'visitor_location_country_id', 'prop_country_id',\n",
    " 'srch_destination_id', 'srch_id', 'prop_id']\n",
    "\n",
    "# get newly created binary columns\n",
    "new_cat_feats = [col for col in training_data if col.startswith('new')]\n",
    "\n",
    "# get comp feats\n",
    "comp_feats = ['comp1_inv','comp2_inv','comp3_inv','comp4_inv','comp5_inv','comp6_inv','comp7_inv','comp8_inv']\n",
    "\n",
    "cat_feats += new_cat_feats\n",
    "cat_feats += comp_feats\n",
    "\n",
    "print(cat_feats)"
   ]
  },
  {
   "cell_type": "code",
   "execution_count": 82,
   "metadata": {},
   "outputs": [
    {
     "name": "stdout",
     "output_type": "stream",
     "text": [
      "sorted in descending by p-value: ['srch_destination_id', 'new_prop_review_score', 'new_srch_query_affinity_score', 'new_comp3_rate_percent_diff', 'new_comp8_rate_percent_diff', 'comp2_inv', 'comp3_inv', 'comp8_inv', 'new_comp3_rate', 'new_comp8_rate', 'new_comp3_inv', 'new_comp2_rate_percent_diff', 'new_prop_location_score2', 'new_comp2_rate', 'new_comp8_inv', 'new_comp2_inv', 'srch_id', 'srch_saturday_night_bool', 'comp5_inv', 'new_comp5_rate_percent_diff', 'random_bool', 'new_comp5_inv', 'new_comp5_rate', 'new_visitor_hist_starrating', 'new_visitor_hist_adr_usd', 'promotion_flag', 'prop_brand_bool', 'comp1_inv', 'prop_id', 'new_orig_destination_distance', 'new_comp4_rate_percent_diff', 'new_comp4_inv', 'new_comp4_rate', 'new_comp7_rate_percent_diff', 'new_comp7_rate', 'new_comp7_inv', 'new_comp6_rate', 'new_comp6_inv', 'new_comp6_rate_percent_diff', 'new_comp1_rate', 'new_comp1_inv', 'new_comp1_rate_percent_diff', 'site_id', 'visitor_location_country_id', 'prop_country_id', 'comp4_inv', 'comp6_inv', 'comp7_inv']\n",
      "sorted in descending by chi2 score: ['new_prop_review_score', 'new_srch_query_affinity_score', 'new_comp8_rate_percent_diff', 'new_comp3_rate_percent_diff', 'new_comp3_rate', 'new_comp8_rate', 'new_comp3_inv', 'new_comp2_rate_percent_diff', 'new_prop_location_score2', 'new_comp2_rate', 'new_comp8_inv', 'new_comp2_inv', 'srch_saturday_night_bool', 'new_comp5_rate_percent_diff', 'random_bool', 'new_comp5_inv', 'new_comp5_rate', 'new_visitor_hist_starrating', 'new_visitor_hist_adr_usd', 'promotion_flag', 'prop_brand_bool', 'new_orig_destination_distance', 'new_comp4_rate_percent_diff', 'comp3_inv', 'comp8_inv', 'new_comp4_inv', 'new_comp4_rate', 'comp2_inv', 'new_comp7_rate_percent_diff', 'new_comp7_rate', 'new_comp7_inv', 'new_comp6_rate', 'new_comp6_inv', 'new_comp6_rate_percent_diff', 'new_comp1_rate', 'new_comp1_inv', 'new_comp1_rate_percent_diff', 'comp5_inv', 'comp1_inv', 'comp6_inv', 'comp4_inv', 'comp7_inv', 'site_id', 'visitor_location_country_id', 'prop_country_id', 'srch_destination_id', 'prop_id', 'srch_id']\n"
     ]
    }
   ],
   "source": [
    "def get_feats_independence_(df,col1,col2):\n",
    "    ct = pd.crosstab(df[col1],df[col2]) \n",
    "    chi2, p, dof, expected = stats.chi2_contingency(ct)\n",
    "    return p,chi2\n",
    "\n",
    "df = training_data\n",
    "p_dct = {}\n",
    "chi2_dct = {}\n",
    "for col in cat_feats:\n",
    "    p,chi2 = get_feats_independence_(df,col,'price_usd')\n",
    "    \n",
    "    p_dct[col] = p\n",
    "    chi2_dct[col] = chi2\n",
    "#     print('p_value for variable {} is {}.'.format(col,p))\n",
    "#     print('chi2 score for variable {} is {}'.format(col,chi2))\n",
    "\n",
    "# print(p_dct)\n",
    "# print(chi2_dct)\n",
    "\n",
    "# sort the categorical variables based on p-value\n",
    "print('sorted in descending by p-value:',sorted(p_dct.keys(),key=lambda x:p_dct[x], reverse = True))\n",
    "\n",
    "# sort the categorical variables based on chi2\n",
    "print('sorted in descending by chi2 score:', sorted(chi2_dct.keys(),key=lambda x:chi2_dct[x]))"
   ]
  },
  {
   "cell_type": "code",
   "execution_count": 83,
   "metadata": {},
   "outputs": [
    {
     "name": "stdout",
     "output_type": "stream",
     "text": [
      "important features: ['promotion_flag', 'prop_brand_bool', 'site_id', 'visitor_location_country_id', 'prop_country_id', 'prop_id', 'new_visitor_hist_starrating', 'new_visitor_hist_adr_usd', 'new_orig_destination_distance', 'new_comp1_rate', 'new_comp1_inv', 'new_comp1_rate_percent_diff', 'new_comp4_rate', 'new_comp4_inv', 'new_comp4_rate_percent_diff', 'new_comp5_rate', 'new_comp5_inv', 'new_comp6_rate', 'new_comp6_inv', 'new_comp6_rate_percent_diff', 'new_comp7_rate', 'new_comp7_inv', 'new_comp7_rate_percent_diff', 'comp1_inv', 'comp4_inv', 'comp6_inv', 'comp7_inv']\n",
      "non-important features: ['random_bool', 'srch_saturday_night_bool', 'srch_destination_id', 'srch_id', 'new_prop_review_score', 'new_prop_location_score2', 'new_srch_query_affinity_score', 'new_comp2_rate', 'new_comp2_inv', 'new_comp2_rate_percent_diff', 'new_comp3_rate', 'new_comp3_inv', 'new_comp3_rate_percent_diff', 'new_comp5_rate_percent_diff', 'new_comp8_rate', 'new_comp8_inv', 'new_comp8_rate_percent_diff', 'comp2_inv', 'comp3_inv', 'comp5_inv', 'comp8_inv']\n"
     ]
    }
   ],
   "source": [
    "imp_cat_feats = [feat for feat in p_dct.keys() if p_dct[feat] < 0.05]\n",
    "non_imp_cat_feats = [feat for feat in p_dct.keys() if feat not in imp_cat_feats]\n",
    "\n",
    "print('important features:',imp_cat_feats)\n",
    "print('non-important features:',non_imp_cat_feats)"
   ]
  },
  {
   "cell_type": "code",
   "execution_count": 88,
   "metadata": {},
   "outputs": [
    {
     "data": {
      "text/plain": [
       "Text(0.5, 0, 'p-value')"
      ]
     },
     "execution_count": 88,
     "metadata": {},
     "output_type": "execute_result"
    },
    {
     "data": {
      "image/png": "[encoded data removed]",
      "text/plain": [
       "<Figure size 720x432 with 1 Axes>"
      ]
     },
     "metadata": {
      "needs_background": "light"
     },
     "output_type": "display_data"
    }
   ],
   "source": [
    "# plot ranking categorical feature importance\n",
    "f = plt.figure(figsize=(10,6))\n",
    "ax = sns.barplot(y=imp_cat_feats,x=[p_dct[feat] for feat in imp_cat_feats])\n",
    "ax.set_title('p-value of important categorical features')\n",
    "ax.set_xlabel('p-value')"
   ]
  },
  {
   "cell_type": "code",
   "execution_count": 87,
   "metadata": {},
   "outputs": [
    {
     "data": {
      "text/plain": [
       "Text(0.5, 0, 'chi2 score')"
      ]
     },
     "execution_count": 87,
     "metadata": {},
     "output_type": "execute_result"
    },
    {
     "data": {
      "image/png": "[encoded data removed]",
      "text/plain": [
       "<Figure size 720x432 with 1 Axes>"
      ]
     },
     "metadata": {
      "needs_background": "light"
     },
     "output_type": "display_data"
    }
   ],
   "source": [
    "# get chi2 score for those important categorical feats\n",
    "f = plt.figure(figsize=(10,6))\n",
    "chi2_imp_cat_values = [chi2_dct[feat] for feat in imp_cat_feats]\n",
    "ax = sns.barplot(y=imp_cat_feats,x=chi2_imp_cat_values)\n",
    "ax.set_title('chi2 score of categorical features')\n",
    "ax.set_xlabel('chi2 score')"
   ]
  },
  {
   "cell_type": "markdown",
   "metadata": {},
   "source": [
    "<h4> Build linear regression for categorical variables:"
   ]
  },
  {
   "cell_type": "code",
   "execution_count": null,
   "metadata": {},
   "outputs": [],
   "source": [
    "X_train, y_train = get_X_y(training_data,imp_cat_feats)\n",
    "X_validation, y_validation = get_X_y(validation_data,imp_cat_feats)\n",
    "\n",
    "train_RMSE, test_RMSE = get_modeling_result(LinearRegression(),training_data, validation_data)"
   ]
  },
  {
   "cell_type": "code",
   "execution_count": 92,
   "metadata": {},
   "outputs": [],
   "source": [
    "# X_train = training_data[imp_cat_feats]\n",
    "# y_train = training_data['price_usd']\n",
    "\n",
    "# X_validation = validation_data[imp_cat_feats]\n",
    "# y_validation = validation_data['price_usd']"
   ]
  },
  {
   "cell_type": "code",
   "execution_count": 93,
   "metadata": {},
   "outputs": [
    {
     "name": "stdout",
     "output_type": "stream",
     "text": [
      "The first ten predicted price: [254.52609957 230.65718314 125.11135582 257.44711702 205.43134243\n",
      " 135.12933166 183.66844904 145.83852426 147.10023204 215.96845213]\n",
      "test RMSE: 2738.1325401474164\n"
     ]
    }
   ],
   "source": [
    "# reg = LinearRegression().fit(X_train,y_train)\n",
    "# y_pred = reg.predict(X_validation)\n",
    "# print('The first ten predicted price:', y_pred[:10])\n",
    "# print('test RMSE:',np.sqrt(sum((y_pred - y_validation)**2)/len(validation_data)))"
   ]
  },
  {
   "cell_type": "code",
   "execution_count": 94,
   "metadata": {},
   "outputs": [
    {
     "name": "stdout",
     "output_type": "stream",
     "text": [
      "training RMSE: 4802.441783710707\n"
     ]
    }
   ],
   "source": [
    "# y_pred_train = reg.predict(X_train)\n",
    "# print('training RMSE:',np.sqrt(sum((y_pred_train - y_train)**2)/len(training_data)))"
   ]
  },
  {
   "cell_type": "markdown",
   "metadata": {},
   "source": [
    "只使用categorical features去做linear regression, 得到training error: 4802.44, test error: 2738.13 <br>\n",
    "为什么只用categorical feats去做prediction, error比只用numeric feats去做的还小.... <br>\n",
    "如何比较training error, test error的结果？ <br>\n"
   ]
  },
  {
   "cell_type": "markdown",
   "metadata": {},
   "source": [
    "注意：\n",
    "- 'comp1_inv'可以算categorical也可以算numeric variables?\n",
    "- 删去：random_bool"
   ]
  },
  {
   "cell_type": "code",
   "execution_count": null,
   "metadata": {},
   "outputs": [],
   "source": []
  },
  {
   "cell_type": "markdown",
   "metadata": {},
   "source": [
    "<h3> 3.TODO: LSTM + neural net"
   ]
  },
  {
   "cell_type": "code",
   "execution_count": 35,
   "metadata": {},
   "outputs": [
    {
     "data": {
      "text/html": [
       "<div>\n",
       "<style scoped>\n",
       "    .dataframe tbody tr th:only-of-type {\n",
       "        vertical-align: middle;\n",
       "    }\n",
       "\n",
       "    .dataframe tbody tr th {\n",
       "        vertical-align: top;\n",
       "    }\n",
       "\n",
       "    .dataframe thead th {\n",
       "        text-align: right;\n",
       "    }\n",
       "</style>\n",
       "<table border=\"1\" class=\"dataframe\">\n",
       "  <thead>\n",
       "    <tr style=\"text-align: right;\">\n",
       "      <th></th>\n",
       "      <th>srch_id</th>\n",
       "      <th>site_id</th>\n",
       "      <th>visitor_location_country_id</th>\n",
       "      <th>visitor_hist_starrating</th>\n",
       "      <th>visitor_hist_adr_usd</th>\n",
       "      <th>prop_country_id</th>\n",
       "      <th>prop_id</th>\n",
       "      <th>prop_starrating</th>\n",
       "      <th>prop_review_score</th>\n",
       "      <th>prop_brand_bool</th>\n",
       "      <th>...</th>\n",
       "      <th>new_comp5_rate_percent_diff</th>\n",
       "      <th>new_comp6_rate</th>\n",
       "      <th>new_comp6_inv</th>\n",
       "      <th>new_comp6_rate_percent_diff</th>\n",
       "      <th>new_comp7_rate</th>\n",
       "      <th>new_comp7_inv</th>\n",
       "      <th>new_comp7_rate_percent_diff</th>\n",
       "      <th>new_comp8_rate</th>\n",
       "      <th>new_comp8_inv</th>\n",
       "      <th>new_comp8_rate_percent_diff</th>\n",
       "    </tr>\n",
       "    <tr>\n",
       "      <th>date_time</th>\n",
       "      <th></th>\n",
       "      <th></th>\n",
       "      <th></th>\n",
       "      <th></th>\n",
       "      <th></th>\n",
       "      <th></th>\n",
       "      <th></th>\n",
       "      <th></th>\n",
       "      <th></th>\n",
       "      <th></th>\n",
       "      <th></th>\n",
       "      <th></th>\n",
       "      <th></th>\n",
       "      <th></th>\n",
       "      <th></th>\n",
       "      <th></th>\n",
       "      <th></th>\n",
       "      <th></th>\n",
       "      <th></th>\n",
       "      <th></th>\n",
       "      <th></th>\n",
       "    </tr>\n",
       "  </thead>\n",
       "  <tbody>\n",
       "    <tr>\n",
       "      <th>2012-11-01 00:08:39</th>\n",
       "      <td>178890</td>\n",
       "      <td>16</td>\n",
       "      <td>31</td>\n",
       "      <td>3.42</td>\n",
       "      <td>149.38</td>\n",
       "      <td>215</td>\n",
       "      <td>14808</td>\n",
       "      <td>4</td>\n",
       "      <td>3.5</td>\n",
       "      <td>1</td>\n",
       "      <td>...</td>\n",
       "      <td>0</td>\n",
       "      <td>0</td>\n",
       "      <td>0</td>\n",
       "      <td>0</td>\n",
       "      <td>0</td>\n",
       "      <td>0</td>\n",
       "      <td>0</td>\n",
       "      <td>0</td>\n",
       "      <td>0</td>\n",
       "      <td>0</td>\n",
       "    </tr>\n",
       "    <tr>\n",
       "      <th>2012-11-01 00:26:35</th>\n",
       "      <td>81553</td>\n",
       "      <td>32</td>\n",
       "      <td>220</td>\n",
       "      <td>3.42</td>\n",
       "      <td>149.38</td>\n",
       "      <td>219</td>\n",
       "      <td>134786</td>\n",
       "      <td>5</td>\n",
       "      <td>4.5</td>\n",
       "      <td>0</td>\n",
       "      <td>...</td>\n",
       "      <td>0</td>\n",
       "      <td>0</td>\n",
       "      <td>0</td>\n",
       "      <td>0</td>\n",
       "      <td>0</td>\n",
       "      <td>0</td>\n",
       "      <td>0</td>\n",
       "      <td>0</td>\n",
       "      <td>0</td>\n",
       "      <td>0</td>\n",
       "    </tr>\n",
       "    <tr>\n",
       "      <th>2012-11-01 00:48:02</th>\n",
       "      <td>664572</td>\n",
       "      <td>24</td>\n",
       "      <td>216</td>\n",
       "      <td>3.42</td>\n",
       "      <td>149.38</td>\n",
       "      <td>99</td>\n",
       "      <td>112765</td>\n",
       "      <td>3</td>\n",
       "      <td>4.0</td>\n",
       "      <td>0</td>\n",
       "      <td>...</td>\n",
       "      <td>0</td>\n",
       "      <td>1</td>\n",
       "      <td>1</td>\n",
       "      <td>0</td>\n",
       "      <td>1</td>\n",
       "      <td>1</td>\n",
       "      <td>0</td>\n",
       "      <td>0</td>\n",
       "      <td>0</td>\n",
       "      <td>0</td>\n",
       "    </tr>\n",
       "    <tr>\n",
       "      <th>2012-11-01 01:14:26</th>\n",
       "      <td>149992</td>\n",
       "      <td>24</td>\n",
       "      <td>216</td>\n",
       "      <td>3.42</td>\n",
       "      <td>149.38</td>\n",
       "      <td>219</td>\n",
       "      <td>67619</td>\n",
       "      <td>4</td>\n",
       "      <td>4.5</td>\n",
       "      <td>1</td>\n",
       "      <td>...</td>\n",
       "      <td>0</td>\n",
       "      <td>0</td>\n",
       "      <td>0</td>\n",
       "      <td>0</td>\n",
       "      <td>0</td>\n",
       "      <td>0</td>\n",
       "      <td>0</td>\n",
       "      <td>1</td>\n",
       "      <td>1</td>\n",
       "      <td>1</td>\n",
       "    </tr>\n",
       "    <tr>\n",
       "      <th>2012-11-01 01:58:26</th>\n",
       "      <td>297210</td>\n",
       "      <td>5</td>\n",
       "      <td>219</td>\n",
       "      <td>3.42</td>\n",
       "      <td>149.38</td>\n",
       "      <td>219</td>\n",
       "      <td>99355</td>\n",
       "      <td>3</td>\n",
       "      <td>3.0</td>\n",
       "      <td>1</td>\n",
       "      <td>...</td>\n",
       "      <td>0</td>\n",
       "      <td>0</td>\n",
       "      <td>0</td>\n",
       "      <td>0</td>\n",
       "      <td>0</td>\n",
       "      <td>0</td>\n",
       "      <td>0</td>\n",
       "      <td>1</td>\n",
       "      <td>1</td>\n",
       "      <td>0</td>\n",
       "    </tr>\n",
       "  </tbody>\n",
       "</table>\n",
       "<p>5 rows × 79 columns</p>\n",
       "</div>"
      ],
      "text/plain": [
       "                     srch_id  site_id  visitor_location_country_id  \\\n",
       "date_time                                                            \n",
       "2012-11-01 00:08:39   178890       16                           31   \n",
       "2012-11-01 00:26:35    81553       32                          220   \n",
       "2012-11-01 00:48:02   664572       24                          216   \n",
       "2012-11-01 01:14:26   149992       24                          216   \n",
       "2012-11-01 01:58:26   297210        5                          219   \n",
       "\n",
       "                     visitor_hist_starrating  visitor_hist_adr_usd  \\\n",
       "date_time                                                            \n",
       "2012-11-01 00:08:39                     3.42                149.38   \n",
       "2012-11-01 00:26:35                     3.42                149.38   \n",
       "2012-11-01 00:48:02                     3.42                149.38   \n",
       "2012-11-01 01:14:26                     3.42                149.38   \n",
       "2012-11-01 01:58:26                     3.42                149.38   \n",
       "\n",
       "                     prop_country_id  prop_id  prop_starrating  \\\n",
       "date_time                                                        \n",
       "2012-11-01 00:08:39              215    14808                4   \n",
       "2012-11-01 00:26:35              219   134786                5   \n",
       "2012-11-01 00:48:02               99   112765                3   \n",
       "2012-11-01 01:14:26              219    67619                4   \n",
       "2012-11-01 01:58:26              219    99355                3   \n",
       "\n",
       "                     prop_review_score  prop_brand_bool  \\\n",
       "date_time                                                 \n",
       "2012-11-01 00:08:39                3.5                1   \n",
       "2012-11-01 00:26:35                4.5                0   \n",
       "2012-11-01 00:48:02                4.0                0   \n",
       "2012-11-01 01:14:26                4.5                1   \n",
       "2012-11-01 01:58:26                3.0                1   \n",
       "\n",
       "                                ...               new_comp5_rate_percent_diff  \\\n",
       "date_time                       ...                                             \n",
       "2012-11-01 00:08:39             ...                                         0   \n",
       "2012-11-01 00:26:35             ...                                         0   \n",
       "2012-11-01 00:48:02             ...                                         0   \n",
       "2012-11-01 01:14:26             ...                                         0   \n",
       "2012-11-01 01:58:26             ...                                         0   \n",
       "\n",
       "                     new_comp6_rate  new_comp6_inv  \\\n",
       "date_time                                            \n",
       "2012-11-01 00:08:39               0              0   \n",
       "2012-11-01 00:26:35               0              0   \n",
       "2012-11-01 00:48:02               1              1   \n",
       "2012-11-01 01:14:26               0              0   \n",
       "2012-11-01 01:58:26               0              0   \n",
       "\n",
       "                     new_comp6_rate_percent_diff  new_comp7_rate  \\\n",
       "date_time                                                          \n",
       "2012-11-01 00:08:39                            0               0   \n",
       "2012-11-01 00:26:35                            0               0   \n",
       "2012-11-01 00:48:02                            0               1   \n",
       "2012-11-01 01:14:26                            0               0   \n",
       "2012-11-01 01:58:26                            0               0   \n",
       "\n",
       "                     new_comp7_inv  new_comp7_rate_percent_diff  \\\n",
       "date_time                                                         \n",
       "2012-11-01 00:08:39              0                            0   \n",
       "2012-11-01 00:26:35              0                            0   \n",
       "2012-11-01 00:48:02              1                            0   \n",
       "2012-11-01 01:14:26              0                            0   \n",
       "2012-11-01 01:58:26              0                            0   \n",
       "\n",
       "                     new_comp8_rate  new_comp8_inv  \\\n",
       "date_time                                            \n",
       "2012-11-01 00:08:39               0              0   \n",
       "2012-11-01 00:26:35               0              0   \n",
       "2012-11-01 00:48:02               0              0   \n",
       "2012-11-01 01:14:26               1              1   \n",
       "2012-11-01 01:58:26               1              1   \n",
       "\n",
       "                     new_comp8_rate_percent_diff  \n",
       "date_time                                         \n",
       "2012-11-01 00:08:39                            0  \n",
       "2012-11-01 00:26:35                            0  \n",
       "2012-11-01 00:48:02                            0  \n",
       "2012-11-01 01:14:26                            1  \n",
       "2012-11-01 01:58:26                            0  \n",
       "\n",
       "[5 rows x 79 columns]"
      ]
     },
     "execution_count": 35,
     "metadata": {},
     "output_type": "execute_result"
    }
   ],
   "source": [
    "training_data_= training_data.set_index('date_time') \n",
    "training_data_.head()"
   ]
  },
  {
   "cell_type": "code",
   "execution_count": 36,
   "metadata": {},
   "outputs": [],
   "source": [
    "from sklearn.preprocessing import MinMaxScaler\n",
    "sc = MinMaxScaler(feature_range = (0, 1))\n",
    "training_set_scaled = sc.fit_transform(training_data_)"
   ]
  },
  {
   "cell_type": "code",
   "execution_count": 37,
   "metadata": {},
   "outputs": [],
   "source": [
    "feats = [col for col in training_data_.columns.unique().tolist() if col != 'price_usd' ]\n",
    "target = 'price_usd'\n",
    "\n",
    "X_train_LSTM = training_data_[feats]\n",
    "y_train_LSTM = training_data_[target]"
   ]
  },
  {
   "cell_type": "code",
   "execution_count": null,
   "metadata": {},
   "outputs": [
    {
     "name": "stderr",
     "output_type": "stream",
     "text": [
      "Using TensorFlow backend.\n"
     ]
    },
    {
     "name": "stdout",
     "output_type": "stream",
     "text": [
      "Epoch 1/5\n",
      " 1120/32000 [>.............................] - ETA: 7:53 - loss: 194471.4876"
     ]
    }
   ],
   "source": [
    "from keras.models import Sequential\n",
    "from keras.layers import Dense\n",
    "from keras.layers import LSTM\n",
    "from keras.layers import Dropout\n",
    "\n",
    "X_train_LSTM, y_train_LSTM = np.array(X_train_LSTM), np.array(y_train_LSTM)\n",
    "\n",
    "# reshaping\n",
    "X_train_LSTM = np.reshape(X_train_LSTM, (X_train_LSTM.shape[0], X_train_LSTM.shape[1], 1))\n",
    "\n",
    "# Initialising the RNN\n",
    "regressor = Sequential()\n",
    "\n",
    "# Adding the first LSTM layer and some Dropout regularisation\n",
    "regressor.add(LSTM(units = 50, return_sequences = True, input_shape = (X_train_LSTM.shape[1], 1)))\n",
    "regressor.add(Dropout(0.2))\n",
    "\n",
    "# Adding a second LSTM layer and some Dropout regularisation\n",
    "regressor.add(LSTM(units = 50, return_sequences = True))\n",
    "regressor.add(Dropout(0.2))\n",
    "\n",
    "# Adding a third LSTM layer and some Dropout regularisation\n",
    "regressor.add(LSTM(units = 50, return_sequences = True))\n",
    "regressor.add(Dropout(0.2))\n",
    "\n",
    "# Adding a fourth LSTM layer and some Dropout regularisation\n",
    "regressor.add(LSTM(units = 50))\n",
    "regressor.add(Dropout(0.2))\n",
    "\n",
    "# Adding the output layer\n",
    "regressor.add(Dense(units = 1))\n",
    "\n",
    "# Compiling the RNN\n",
    "regressor.compile(optimizer = 'adam', loss = 'mean_squared_error')\n",
    "\n",
    "# Fitting the RNN to the Training set\n",
    "regressor.fit(X_train_LSTM, y_train_LSTM, epochs = 5, batch_size = 32)"
   ]
  },
  {
   "cell_type": "code",
   "execution_count": null,
   "metadata": {},
   "outputs": [],
   "source": [
    "# TODO：plot learning curve"
   ]
  },
  {
   "cell_type": "code",
   "execution_count": null,
   "metadata": {},
   "outputs": [],
   "source": []
  },
  {
   "cell_type": "markdown",
   "metadata": {},
   "source": [
    "<h3> 4.PCA on numeric features:"
   ]
  },
  {
   "cell_type": "code",
   "execution_count": null,
   "metadata": {},
   "outputs": [],
   "source": [
    "# get all numeric features\n",
    "all_numeric_feats = ['visitor_hist_starrating','visitor_hist_adr_usd','prop_starrating','prop_review_score','prop_location_score1','prop_location_score2',\\\n",
    "                     'prop_log_historical_price','srch_length_of_stay','srch_booking_window','srch_adults_count','srch_children_count','srch_room_count','srch_query_affinity_score',\\\n",
    "                     'orig_destination_distance','comp1_rate','comp1_rate_percent_diff','comp2_rate','comp2_rate_percent_diff','comp3_rate','comp3_rate_percent_diff','comp4_rate',\\\n",
    "                     'comp4_rate_percent_diff','comp5_rate','comp5_rate_percent_diff','comp6_rate','comp6_rate_percent_diff','comp7_rate','comp7_rate_percent_diff','comp8_rate',\\\n",
    "                     'comp8_rate_percent_diff']\n",
    "\n",
    "X_train, y_train = get_X_y(training_data, all_numeric_feats)\n",
    "X_validation, y_validation = get_X_y(validation_data, all_numeric_feats)"
   ]
  },
  {
   "cell_type": "code",
   "execution_count": 36,
   "metadata": {},
   "outputs": [],
   "source": [
    "# # get all numeric features\n",
    "# all_numeric_feats = ['visitor_hist_starrating','visitor_hist_adr_usd','prop_starrating','prop_review_score','prop_location_score1','prop_location_score2',\\\n",
    "#                      'prop_log_historical_price','srch_length_of_stay','srch_booking_window','srch_adults_count','srch_children_count','srch_room_count','srch_query_affinity_score',\\\n",
    "#                      'orig_destination_distance','comp1_rate','comp1_rate_percent_diff','comp2_rate','comp2_rate_percent_diff','comp3_rate','comp3_rate_percent_diff','comp4_rate',\\\n",
    "#                      'comp4_rate_percent_diff','comp5_rate','comp5_rate_percent_diff','comp6_rate','comp6_rate_percent_diff','comp7_rate','comp7_rate_percent_diff','comp8_rate',\\\n",
    "#                      'comp8_rate_percent_diff']\n",
    "\n",
    "# X_train = training_data[all_numeric_feats]\n",
    "# y_train = training_data['price_usd']\n",
    "\n",
    "# X_validation = validation_data[all_numeric_feats]\n",
    "# y_validation = validation_data['price_usd']"
   ]
  },
  {
   "cell_type": "code",
   "execution_count": null,
   "metadata": {},
   "outputs": [],
   "source": []
  },
  {
   "cell_type": "code",
   "execution_count": null,
   "metadata": {},
   "outputs": [],
   "source": [
    "from sklearn.preprocessing import StandardScaler\n",
    "from sklearn.decomposition import PCA\n",
    "\n",
    "def get_PCA_result(X_train, X_validation, features):\n",
    "    '''\n",
    "    This function takes in X_train, X_validation, the features selected for modeling.\n",
    "    Output is the explained ratio ranked in decending order, and the plot.\n",
    "    '''\n",
    "    # standardization when using PCA\n",
    "    sc = StandardScaler()  \n",
    "    X_train_standardized = sc.fit_transform(X_train)  \n",
    "    X_validation_standardized = sc.transform(X_validation) \n",
    "    \n",
    "    pca = PCA(n_components=len(features))   # PC number equal to feature number\n",
    "    pca.fit(X_train_standardized)\n",
    "\n",
    "    ax = sns.lineplot(list(range(1,len(pca.explained_variance_ratio_)+1)),list(pca.explained_variance_ratio_) )\n",
    "    ax.set_title('PCA explained ratios')\n",
    "    ax.set_xlabel('PC')\n",
    "    ax.set_ylabel('explained ratio')\n",
    "\n",
    "get_PCA_result(X_train, X_validation, all_numeric_feats)    "
   ]
  },
  {
   "cell_type": "code",
   "execution_count": 37,
   "metadata": {},
   "outputs": [
    {
     "name": "stderr",
     "output_type": "stream",
     "text": [
      "/Users/yuanlii/Desktop/SI699_hotel_price_prediction/venv/lib/python3.6/site-packages/sklearn/preprocessing/data.py:625: DataConversionWarning: Data with input dtype int64, float64 were all converted to float64 by StandardScaler.\n",
      "  return self.partial_fit(X, y)\n",
      "/Users/yuanlii/Desktop/SI699_hotel_price_prediction/venv/lib/python3.6/site-packages/sklearn/base.py:462: DataConversionWarning: Data with input dtype int64, float64 were all converted to float64 by StandardScaler.\n",
      "  return self.fit(X, **fit_params).transform(X)\n",
      "/Users/yuanlii/Desktop/SI699_hotel_price_prediction/venv/lib/python3.6/site-packages/ipykernel_launcher.py:9: DataConversionWarning: Data with input dtype int64, float64 were all converted to float64 by StandardScaler.\n",
      "  if __name__ == '__main__':\n"
     ]
    }
   ],
   "source": [
    "# from sklearn.preprocessing import StandardScaler\n",
    "\n",
    "# '''\n",
    "# need to use standardization when using PCA\n",
    "# '''\n",
    "\n",
    "# sc = StandardScaler()  \n",
    "# X_train_standardized = sc.fit_transform(X_train)  \n",
    "# X_validation_standardized = sc.transform(X_validation) "
   ]
  },
  {
   "cell_type": "code",
   "execution_count": 70,
   "metadata": {},
   "outputs": [
    {
     "data": {
      "text/plain": [
       "array([0.10060284, 0.07386688])"
      ]
     },
     "execution_count": 70,
     "metadata": {},
     "output_type": "execute_result"
    }
   ],
   "source": [
    "# from sklearn.decomposition import PCA\n",
    "# pca = PCA(n_components=len(all_numeric_feats))\n",
    "# # pca = PCA(n_components=2)\n",
    "# pca.fit(X_train_standardized)\n",
    "# pca.explained_variance_ratio_ "
   ]
  },
  {
   "cell_type": "code",
   "execution_count": 66,
   "metadata": {},
   "outputs": [
    {
     "data": {
      "text/plain": [
       "Text(0, 0.5, 'explained ratio')"
      ]
     },
     "execution_count": 66,
     "metadata": {},
     "output_type": "execute_result"
    },
    {
     "data": {
      "image/png": "[encoded data removed]",
      "text/plain": [
       "<Figure size 432x288 with 1 Axes>"
      ]
     },
     "metadata": {
      "needs_background": "light"
     },
     "output_type": "display_data"
    }
   ],
   "source": [
    "# ax = sns.lineplot(list(range(1,len(pca.explained_variance_ratio_)+1)),list(pca.explained_variance_ratio_) )\n",
    "# ax.set_title('PCA explained ratios')\n",
    "# ax.set_xlabel('PC')\n",
    "# ax.set_ylabel('explained ratio')"
   ]
  },
  {
   "cell_type": "markdown",
   "metadata": {},
   "source": [
    "<h4> what if using only those important features?"
   ]
  },
  {
   "cell_type": "markdown",
   "metadata": {},
   "source": [
    "*need to rewrite code chuncks into function"
   ]
  },
  {
   "cell_type": "code",
   "execution_count": null,
   "metadata": {},
   "outputs": [],
   "source": [
    "X_train, y_train = get_X_y(training_data,imp_numeric_feats)\n",
    "X_validation, y_validation = get_X_y(validation_data,imp_numeric_feats)\n",
    "get_PCA_result(X_train, X_validation, imp_numeric_feats)"
   ]
  },
  {
   "cell_type": "code",
   "execution_count": 91,
   "metadata": {},
   "outputs": [
    {
     "name": "stderr",
     "output_type": "stream",
     "text": [
      "/Users/yuanlii/Desktop/SI699_hotel_price_prediction/venv/lib/python3.6/site-packages/sklearn/preprocessing/data.py:625: DataConversionWarning: Data with input dtype int64, float64 were all converted to float64 by StandardScaler.\n",
      "  return self.partial_fit(X, y)\n",
      "/Users/yuanlii/Desktop/SI699_hotel_price_prediction/venv/lib/python3.6/site-packages/sklearn/base.py:462: DataConversionWarning: Data with input dtype int64, float64 were all converted to float64 by StandardScaler.\n",
      "  return self.fit(X, **fit_params).transform(X)\n",
      "/Users/yuanlii/Desktop/SI699_hotel_price_prediction/venv/lib/python3.6/site-packages/ipykernel_launcher.py:8: DataConversionWarning: Data with input dtype int64, float64 were all converted to float64 by StandardScaler.\n",
      "  \n"
     ]
    },
    {
     "data": {
      "text/plain": [
       "Text(0, 0.5, 'explained ratio')"
      ]
     },
     "execution_count": 91,
     "metadata": {},
     "output_type": "execute_result"
    },
    {
     "data": {
      "image/png": "[encoded data removed]",
      "text/plain": [
       "<Figure size 432x288 with 1 Axes>"
      ]
     },
     "metadata": {
      "needs_background": "light"
     },
     "output_type": "display_data"
    }
   ],
   "source": [
    "# X_train = training_data[imp_numeric_feats]\n",
    "# y_train = training_data['price_usd']\n",
    "\n",
    "# X_validation = validation_data[imp_numeric_feats]\n",
    "# y_validation = validation_data['price_usd']\n",
    "\n",
    "# X_train_standardized = sc.fit_transform(X_train)  \n",
    "# X_validation_standardized = sc.transform(X_validation) \n",
    "\n",
    "# pca = PCA(n_components=len(imp_numeric_feats))\n",
    "# pca.fit(X_train_standardized)\n",
    "\n",
    "# ax = sns.lineplot(list(range(1,len(pca.explained_variance_ratio_)+1)),list(pca.explained_variance_ratio_) )\n",
    "# ax.set_title('PCA explained ratios (only selecting important features)')\n",
    "# ax.set_xlabel('PC')\n",
    "# ax.set_ylabel('explained ratio')"
   ]
  },
  {
   "cell_type": "code",
   "execution_count": null,
   "metadata": {},
   "outputs": [],
   "source": []
  },
  {
   "cell_type": "markdown",
   "metadata": {},
   "source": [
    "<h3> 5.Linear SVM for prediction"
   ]
  },
  {
   "cell_type": "markdown",
   "metadata": {},
   "source": [
    "can tune param C to compare different performance"
   ]
  },
  {
   "cell_type": "code",
   "execution_count": null,
   "metadata": {},
   "outputs": [],
   "source": [
    "import time \n",
    "start_time = time.time()\n",
    "end = time.time()\n",
    "print('execution time: %d' % (end - start))"
   ]
  },
  {
   "cell_type": "code",
   "execution_count": null,
   "metadata": {},
   "outputs": [],
   "source": [
    "def get_rmse(y_pred,y_true,data):\n",
    "    '''\n",
    "    This function takes in the prediction values and the true values,\n",
    "    and the whole data set, and output an rmse score.\n",
    "    '''\n",
    "    return np.sqrt(sum((y_pred - y_true)**2)/len(data))"
   ]
  },
  {
   "cell_type": "code",
   "execution_count": null,
   "metadata": {},
   "outputs": [],
   "source": [
    "from sklearn.svm import SVR\n",
    "\n",
    "start_time = time.time()\n",
    "\n",
    "svr_rbf = SVR(kernel='rbf', C=1e3, gamma=0.1)\n",
    "svr_lin = SVR(kernel='linear', C=1e3)\n",
    "svr_poly = SVR(kernel='poly', C=1e3, degree=2)\n",
    "\n",
    "# get training error\n",
    "y_rbf = svr_rbf.fit(X_train, y_train).predict(X_train)\n",
    "y_lin = svr_lin.fit(X_train, y_train).predict(X_train)\n",
    "y_poly = svr_poly.fit(X_train, y_train).predict(X_train)\n",
    "\n",
    "rmse_rbf_train = np.sqrt(sum((y_rbf - y_train)**2)/len(training_data))\n",
    "rmse_rbf_train\n",
    "\n",
    "end = time.time()\n",
    "print('execution time: %d' % (end - start))"
   ]
  },
  {
   "cell_type": "code",
   "execution_count": null,
   "metadata": {},
   "outputs": [],
   "source": []
  },
  {
   "cell_type": "code",
   "execution_count": null,
   "metadata": {},
   "outputs": [],
   "source": []
  }
 ],
 "metadata": {
  "kernelspec": {
   "display_name": "Python 3",
   "language": "python",
   "name": "python3"
  },
  "language_info": {
   "codemirror_mode": {
    "name": "ipython",
    "version": 3
   },
   "file_extension": ".py",
   "mimetype": "text/x-python",
   "name": "python",
   "nbconvert_exporter": "python",
   "pygments_lexer": "ipython3",
   "version": "3.6.8"
  }
 },
 "nbformat": 4,
 "nbformat_minor": 2
}
