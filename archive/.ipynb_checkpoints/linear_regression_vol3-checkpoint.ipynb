{
 "cells": [
  {
   "cell_type": "markdown",
   "metadata": {},
   "source": [
    "# Modeling"
   ]
  },
  {
   "cell_type": "markdown",
   "metadata": {},
   "source": [
    "<h3> Prepare data "
   ]
  },
  {
   "cell_type": "code",
   "execution_count": 1,
   "metadata": {},
   "outputs": [],
   "source": [
    "import pandas as pd\n",
    "import numpy as np\n",
    "import seaborn as sns\n",
    "import matplotlib.pyplot as plt\n",
    "import matplotlib\n",
    "\n",
    "from scipy.stats import skew\n",
    "from sklearn.model_selection import train_test_split\n",
    "\n",
    "import pandas as pd\n",
    "import numpy as np\n",
    "import scipy.stats as stats\n",
    "from scipy.stats import chi2_contingency\n",
    "\n",
    "import seaborn as sns\n",
    "import matplotlib.pyplot as plt\n",
    "\n",
    "from sklearn.linear_model import LinearRegression\n",
    "from sklearn.metrics import accuracy_score\n",
    "\n",
    "from sklearn.preprocessing import StandardScaler\n",
    "from sklearn.decomposition import PCA"
   ]
  },
  {
   "cell_type": "code",
   "execution_count": 3,
   "metadata": {},
   "outputs": [
    {
     "ename": "NameError",
     "evalue": "name 'pd' is not defined",
     "output_type": "error",
     "traceback": [
      "\u001b[0;31m---------------------------------------------------------------------------\u001b[0m",
      "\u001b[0;31mNameError\u001b[0m                                 Traceback (most recent call last)",
      "\u001b[0;32m<ipython-input-3-b987e7f628cc>\u001b[0m in \u001b[0;36m<module>\u001b[0;34m\u001b[0m\n\u001b[0;32m----> 1\u001b[0;31m \u001b[0mtrain\u001b[0m \u001b[0;34m=\u001b[0m \u001b[0mpd\u001b[0m\u001b[0;34m.\u001b[0m\u001b[0mread_csv\u001b[0m\u001b[0;34m(\u001b[0m\u001b[0;34m'./expedia_data/train.csv'\u001b[0m\u001b[0;34m)\u001b[0m\u001b[0;34m\u001b[0m\u001b[0;34m\u001b[0m\u001b[0m\n\u001b[0m\u001b[1;32m      2\u001b[0m \u001b[0mtest\u001b[0m \u001b[0;34m=\u001b[0m \u001b[0mpd\u001b[0m\u001b[0;34m.\u001b[0m\u001b[0mread_csv\u001b[0m\u001b[0;34m(\u001b[0m\u001b[0;34m'./expedia_data/test.csv'\u001b[0m\u001b[0;34m)\u001b[0m\u001b[0;34m\u001b[0m\u001b[0;34m\u001b[0m\u001b[0m\n\u001b[1;32m      3\u001b[0m \u001b[0;34m\u001b[0m\u001b[0m\n\u001b[1;32m      4\u001b[0m \u001b[0mprint\u001b[0m\u001b[0;34m(\u001b[0m\u001b[0;34m'training data has %d records'\u001b[0m\u001b[0;34m%\u001b[0m\u001b[0mlen\u001b[0m\u001b[0;34m(\u001b[0m\u001b[0mtrain\u001b[0m\u001b[0;34m)\u001b[0m\u001b[0;34m)\u001b[0m\u001b[0;34m\u001b[0m\u001b[0;34m\u001b[0m\u001b[0m\n\u001b[1;32m      5\u001b[0m \u001b[0mprint\u001b[0m\u001b[0;34m(\u001b[0m\u001b[0;34m'test data has %d records'\u001b[0m\u001b[0;34m%\u001b[0m\u001b[0mlen\u001b[0m\u001b[0;34m(\u001b[0m\u001b[0mtest\u001b[0m\u001b[0;34m)\u001b[0m\u001b[0;34m)\u001b[0m\u001b[0;34m\u001b[0m\u001b[0;34m\u001b[0m\u001b[0m\n",
      "\u001b[0;31mNameError\u001b[0m: name 'pd' is not defined"
     ]
    }
   ],
   "source": [
    "train = pd.read_csv('./expedia_data/train.csv')\n",
    "test = pd.read_csv('./expedia_data/test.csv')\n",
    "\n",
    "print('training data has %d records'%len(train))\n",
    "print('test data has %d records'%len(test))"
   ]
  },
  {
   "cell_type": "code",
   "execution_count": 4,
   "metadata": {},
   "outputs": [
    {
     "name": "stdout",
     "output_type": "stream",
     "text": [
      "Columns only available in training data: ['position', 'click_bool', 'gross_bookings_usd', 'booking_bool']\n"
     ]
    }
   ],
   "source": [
    "cols_train_only = [col for col in train.columns.unique().tolist() if col not in test.columns.unique().tolist()]\n",
    "print('Columns only available in training data:',cols_train_only)\n",
    "\n",
    "train = train.drop(columns = cols_train_only)\n",
    "train.head()"
   ]
  },
  {
   "cell_type": "code",
   "execution_count": 8,
   "metadata": {},
   "outputs": [
    {
     "data": {
      "text/html": [
       "<div>\n",
       "<style scoped>\n",
       "    .dataframe tbody tr th:only-of-type {\n",
       "        vertical-align: middle;\n",
       "    }\n",
       "\n",
       "    .dataframe tbody tr th {\n",
       "        vertical-align: top;\n",
       "    }\n",
       "\n",
       "    .dataframe thead th {\n",
       "        text-align: right;\n",
       "    }\n",
       "</style>\n",
       "<table border=\"1\" class=\"dataframe\">\n",
       "  <thead>\n",
       "    <tr style=\"text-align: right;\">\n",
       "      <th></th>\n",
       "      <th>srch_id</th>\n",
       "      <th>date_time</th>\n",
       "      <th>site_id</th>\n",
       "      <th>visitor_location_country_id</th>\n",
       "      <th>visitor_hist_starrating</th>\n",
       "      <th>visitor_hist_adr_usd</th>\n",
       "      <th>prop_country_id</th>\n",
       "      <th>prop_id</th>\n",
       "      <th>prop_starrating</th>\n",
       "      <th>prop_review_score</th>\n",
       "      <th>...</th>\n",
       "      <th>comp5_rate_percent_diff</th>\n",
       "      <th>comp6_rate</th>\n",
       "      <th>comp6_inv</th>\n",
       "      <th>comp6_rate_percent_diff</th>\n",
       "      <th>comp7_rate</th>\n",
       "      <th>comp7_inv</th>\n",
       "      <th>comp7_rate_percent_diff</th>\n",
       "      <th>comp8_rate</th>\n",
       "      <th>comp8_inv</th>\n",
       "      <th>comp8_rate_percent_diff</th>\n",
       "    </tr>\n",
       "  </thead>\n",
       "  <tbody>\n",
       "    <tr>\n",
       "      <th>0</th>\n",
       "      <td>1</td>\n",
       "      <td>2013-04-04 08:32:15</td>\n",
       "      <td>12</td>\n",
       "      <td>187</td>\n",
       "      <td>NaN</td>\n",
       "      <td>NaN</td>\n",
       "      <td>219</td>\n",
       "      <td>893</td>\n",
       "      <td>3</td>\n",
       "      <td>3.5</td>\n",
       "      <td>...</td>\n",
       "      <td>NaN</td>\n",
       "      <td>NaN</td>\n",
       "      <td>NaN</td>\n",
       "      <td>NaN</td>\n",
       "      <td>NaN</td>\n",
       "      <td>NaN</td>\n",
       "      <td>NaN</td>\n",
       "      <td>0.0</td>\n",
       "      <td>0.0</td>\n",
       "      <td>NaN</td>\n",
       "    </tr>\n",
       "    <tr>\n",
       "      <th>1</th>\n",
       "      <td>1</td>\n",
       "      <td>2013-04-04 08:32:15</td>\n",
       "      <td>12</td>\n",
       "      <td>187</td>\n",
       "      <td>NaN</td>\n",
       "      <td>NaN</td>\n",
       "      <td>219</td>\n",
       "      <td>10404</td>\n",
       "      <td>4</td>\n",
       "      <td>4.0</td>\n",
       "      <td>...</td>\n",
       "      <td>NaN</td>\n",
       "      <td>NaN</td>\n",
       "      <td>NaN</td>\n",
       "      <td>NaN</td>\n",
       "      <td>NaN</td>\n",
       "      <td>NaN</td>\n",
       "      <td>NaN</td>\n",
       "      <td>0.0</td>\n",
       "      <td>0.0</td>\n",
       "      <td>NaN</td>\n",
       "    </tr>\n",
       "    <tr>\n",
       "      <th>2</th>\n",
       "      <td>1</td>\n",
       "      <td>2013-04-04 08:32:15</td>\n",
       "      <td>12</td>\n",
       "      <td>187</td>\n",
       "      <td>NaN</td>\n",
       "      <td>NaN</td>\n",
       "      <td>219</td>\n",
       "      <td>21315</td>\n",
       "      <td>3</td>\n",
       "      <td>4.5</td>\n",
       "      <td>...</td>\n",
       "      <td>NaN</td>\n",
       "      <td>NaN</td>\n",
       "      <td>NaN</td>\n",
       "      <td>NaN</td>\n",
       "      <td>NaN</td>\n",
       "      <td>NaN</td>\n",
       "      <td>NaN</td>\n",
       "      <td>0.0</td>\n",
       "      <td>0.0</td>\n",
       "      <td>NaN</td>\n",
       "    </tr>\n",
       "    <tr>\n",
       "      <th>3</th>\n",
       "      <td>1</td>\n",
       "      <td>2013-04-04 08:32:15</td>\n",
       "      <td>12</td>\n",
       "      <td>187</td>\n",
       "      <td>NaN</td>\n",
       "      <td>NaN</td>\n",
       "      <td>219</td>\n",
       "      <td>27348</td>\n",
       "      <td>2</td>\n",
       "      <td>4.0</td>\n",
       "      <td>...</td>\n",
       "      <td>NaN</td>\n",
       "      <td>NaN</td>\n",
       "      <td>NaN</td>\n",
       "      <td>NaN</td>\n",
       "      <td>NaN</td>\n",
       "      <td>NaN</td>\n",
       "      <td>NaN</td>\n",
       "      <td>-1.0</td>\n",
       "      <td>0.0</td>\n",
       "      <td>5.0</td>\n",
       "    </tr>\n",
       "    <tr>\n",
       "      <th>4</th>\n",
       "      <td>1</td>\n",
       "      <td>2013-04-04 08:32:15</td>\n",
       "      <td>12</td>\n",
       "      <td>187</td>\n",
       "      <td>NaN</td>\n",
       "      <td>NaN</td>\n",
       "      <td>219</td>\n",
       "      <td>29604</td>\n",
       "      <td>4</td>\n",
       "      <td>3.5</td>\n",
       "      <td>...</td>\n",
       "      <td>NaN</td>\n",
       "      <td>NaN</td>\n",
       "      <td>NaN</td>\n",
       "      <td>NaN</td>\n",
       "      <td>NaN</td>\n",
       "      <td>NaN</td>\n",
       "      <td>NaN</td>\n",
       "      <td>0.0</td>\n",
       "      <td>0.0</td>\n",
       "      <td>NaN</td>\n",
       "    </tr>\n",
       "  </tbody>\n",
       "</table>\n",
       "<p>5 rows × 50 columns</p>\n",
       "</div>"
      ],
      "text/plain": [
       "   srch_id            date_time  site_id  visitor_location_country_id  \\\n",
       "0        1  2013-04-04 08:32:15       12                          187   \n",
       "1        1  2013-04-04 08:32:15       12                          187   \n",
       "2        1  2013-04-04 08:32:15       12                          187   \n",
       "3        1  2013-04-04 08:32:15       12                          187   \n",
       "4        1  2013-04-04 08:32:15       12                          187   \n",
       "\n",
       "   visitor_hist_starrating  visitor_hist_adr_usd  prop_country_id  prop_id  \\\n",
       "0                      NaN                   NaN              219      893   \n",
       "1                      NaN                   NaN              219    10404   \n",
       "2                      NaN                   NaN              219    21315   \n",
       "3                      NaN                   NaN              219    27348   \n",
       "4                      NaN                   NaN              219    29604   \n",
       "\n",
       "   prop_starrating  prop_review_score  ...  comp5_rate_percent_diff  \\\n",
       "0                3                3.5  ...                      NaN   \n",
       "1                4                4.0  ...                      NaN   \n",
       "2                3                4.5  ...                      NaN   \n",
       "3                2                4.0  ...                      NaN   \n",
       "4                4                3.5  ...                      NaN   \n",
       "\n",
       "   comp6_rate  comp6_inv  comp6_rate_percent_diff  comp7_rate  comp7_inv  \\\n",
       "0         NaN        NaN                      NaN         NaN        NaN   \n",
       "1         NaN        NaN                      NaN         NaN        NaN   \n",
       "2         NaN        NaN                      NaN         NaN        NaN   \n",
       "3         NaN        NaN                      NaN         NaN        NaN   \n",
       "4         NaN        NaN                      NaN         NaN        NaN   \n",
       "\n",
       "   comp7_rate_percent_diff  comp8_rate  comp8_inv  comp8_rate_percent_diff  \n",
       "0                      NaN         0.0        0.0                      NaN  \n",
       "1                      NaN         0.0        0.0                      NaN  \n",
       "2                      NaN         0.0        0.0                      NaN  \n",
       "3                      NaN        -1.0        0.0                      5.0  \n",
       "4                      NaN         0.0        0.0                      NaN  \n",
       "\n",
       "[5 rows x 50 columns]"
      ]
     },
     "execution_count": 8,
     "metadata": {},
     "output_type": "execute_result"
    }
   ],
   "source": [
    "# combine train and test data\n",
    "all_data = pd.concat([train, test], ignore_index=True)\n",
    "print(all_data.head())\n",
    "print('Whole dataset has %d records' % len(all_data))"
   ]
  },
  {
   "cell_type": "code",
   "execution_count": 10,
   "metadata": {},
   "outputs": [],
   "source": [
    "all_data['date_time'] = pd.to_datetime(all_data.date_time)\n",
    "all_data.sort_values(by=['date_time'],inplace=True)\n",
    "all_data = all_data.reset_index(drop=True)\n",
    "all_data.head()"
   ]
  },
  {
   "cell_type": "code",
   "execution_count": 12,
   "metadata": {},
   "outputs": [
    {
     "data": {
      "text/plain": [
       "['visitor_hist_starrating',\n",
       " 'visitor_hist_adr_usd',\n",
       " 'prop_review_score',\n",
       " 'prop_location_score2',\n",
       " 'srch_query_affinity_score',\n",
       " 'orig_destination_distance',\n",
       " 'comp1_rate',\n",
       " 'comp1_inv',\n",
       " 'comp1_rate_percent_diff',\n",
       " 'comp2_rate',\n",
       " 'comp2_inv',\n",
       " 'comp2_rate_percent_diff',\n",
       " 'comp3_rate',\n",
       " 'comp3_inv',\n",
       " 'comp3_rate_percent_diff',\n",
       " 'comp4_rate',\n",
       " 'comp4_inv',\n",
       " 'comp4_rate_percent_diff',\n",
       " 'comp5_rate',\n",
       " 'comp5_inv',\n",
       " 'comp5_rate_percent_diff',\n",
       " 'comp6_rate',\n",
       " 'comp6_inv',\n",
       " 'comp6_rate_percent_diff',\n",
       " 'comp7_rate',\n",
       " 'comp7_inv',\n",
       " 'comp7_rate_percent_diff',\n",
       " 'comp8_rate',\n",
       " 'comp8_inv',\n",
       " 'comp8_rate_percent_diff']"
      ]
     },
     "execution_count": 12,
     "metadata": {},
     "output_type": "execute_result"
    }
   ],
   "source": [
    "# handle NA values\n",
    "NA_columns = []\n",
    "for col in all_data.columns.unique().tolist():\n",
    "    if all_data[col].isna().values.any() == True:\n",
    "        NA_columns.append(col)\n",
    "\n",
    "NA_columns"
   ]
  },
  {
   "cell_type": "code",
   "execution_count": 14,
   "metadata": {},
   "outputs": [],
   "source": [
    "def create_binary_feat(df, col):\n",
    "    '''\n",
    "    input: dataframe\n",
    "    output: a dataframe with a new binary column based on old column\n",
    "    if value in old col is not NA, then set 1; otherwise, set 0\n",
    "\n",
    "    '''\n",
    "    new_col = 'new_'+ col\n",
    "    df[new_col] = df[col].apply(lambda x: 1 if x >= 0 else 0)\n",
    "\n",
    "for col in NA_columns:\n",
    "    create_binary_feat(all_data, col)"
   ]
  },
  {
   "cell_type": "code",
   "execution_count": 15,
   "metadata": {},
   "outputs": [
    {
     "ename": "KeyboardInterrupt",
     "evalue": "",
     "output_type": "error",
     "traceback": [
      "\u001b[0;31m---------------------------------------------------------------------------\u001b[0m",
      "\u001b[0;31mKeyboardInterrupt\u001b[0m                         Traceback (most recent call last)",
      "\u001b[0;32m<ipython-input-15-2fd198e568bb>\u001b[0m in \u001b[0;36m<module>\u001b[0;34m\u001b[0m\n\u001b[0;32m----> 1\u001b[0;31m \u001b[0mall_data\u001b[0m\u001b[0;34m.\u001b[0m\u001b[0mto_csv\u001b[0m\u001b[0;34m(\u001b[0m\u001b[0;34m'all_data_clean.csv'\u001b[0m\u001b[0;34m,\u001b[0m\u001b[0mindex\u001b[0m \u001b[0;34m=\u001b[0m \u001b[0;32mFalse\u001b[0m\u001b[0;34m,\u001b[0m \u001b[0mencoding\u001b[0m \u001b[0;34m=\u001b[0m \u001b[0;34m'utf-8'\u001b[0m\u001b[0;34m)\u001b[0m\u001b[0;34m\u001b[0m\u001b[0;34m\u001b[0m\u001b[0m\n\u001b[0m",
      "\u001b[0;32m~/Desktop/SI699_hotel_price_prediction/venv/lib/python3.6/site-packages/pandas/core/generic.py\u001b[0m in \u001b[0;36mto_csv\u001b[0;34m(self, path_or_buf, sep, na_rep, float_format, columns, header, index, index_label, mode, encoding, compression, quoting, quotechar, line_terminator, chunksize, tupleize_cols, date_format, doublequote, escapechar, decimal)\u001b[0m\n\u001b[1;32m   3018\u001b[0m                                  \u001b[0mdoublequote\u001b[0m\u001b[0;34m=\u001b[0m\u001b[0mdoublequote\u001b[0m\u001b[0;34m,\u001b[0m\u001b[0;34m\u001b[0m\u001b[0;34m\u001b[0m\u001b[0m\n\u001b[1;32m   3019\u001b[0m                                  escapechar=escapechar, decimal=decimal)\n\u001b[0;32m-> 3020\u001b[0;31m         \u001b[0mformatter\u001b[0m\u001b[0;34m.\u001b[0m\u001b[0msave\u001b[0m\u001b[0;34m(\u001b[0m\u001b[0;34m)\u001b[0m\u001b[0;34m\u001b[0m\u001b[0;34m\u001b[0m\u001b[0m\n\u001b[0m\u001b[1;32m   3021\u001b[0m \u001b[0;34m\u001b[0m\u001b[0m\n\u001b[1;32m   3022\u001b[0m         \u001b[0;32mif\u001b[0m \u001b[0mpath_or_buf\u001b[0m \u001b[0;32mis\u001b[0m \u001b[0;32mNone\u001b[0m\u001b[0;34m:\u001b[0m\u001b[0;34m\u001b[0m\u001b[0;34m\u001b[0m\u001b[0m\n",
      "\u001b[0;32m~/Desktop/SI699_hotel_price_prediction/venv/lib/python3.6/site-packages/pandas/io/formats/csvs.py\u001b[0m in \u001b[0;36msave\u001b[0;34m(self)\u001b[0m\n\u001b[1;32m    170\u001b[0m                 \u001b[0mself\u001b[0m\u001b[0;34m.\u001b[0m\u001b[0mwriter\u001b[0m \u001b[0;34m=\u001b[0m \u001b[0mUnicodeWriter\u001b[0m\u001b[0;34m(\u001b[0m\u001b[0mf\u001b[0m\u001b[0;34m,\u001b[0m \u001b[0;34m**\u001b[0m\u001b[0mwriter_kwargs\u001b[0m\u001b[0;34m)\u001b[0m\u001b[0;34m\u001b[0m\u001b[0;34m\u001b[0m\u001b[0m\n\u001b[1;32m    171\u001b[0m \u001b[0;34m\u001b[0m\u001b[0m\n\u001b[0;32m--> 172\u001b[0;31m             \u001b[0mself\u001b[0m\u001b[0;34m.\u001b[0m\u001b[0m_save\u001b[0m\u001b[0;34m(\u001b[0m\u001b[0;34m)\u001b[0m\u001b[0;34m\u001b[0m\u001b[0;34m\u001b[0m\u001b[0m\n\u001b[0m\u001b[1;32m    173\u001b[0m \u001b[0;34m\u001b[0m\u001b[0m\n\u001b[1;32m    174\u001b[0m         \u001b[0;32mfinally\u001b[0m\u001b[0;34m:\u001b[0m\u001b[0;34m\u001b[0m\u001b[0;34m\u001b[0m\u001b[0m\n",
      "\u001b[0;32m~/Desktop/SI699_hotel_price_prediction/venv/lib/python3.6/site-packages/pandas/io/formats/csvs.py\u001b[0m in \u001b[0;36m_save\u001b[0;34m(self)\u001b[0m\n\u001b[1;32m    286\u001b[0m                 \u001b[0;32mbreak\u001b[0m\u001b[0;34m\u001b[0m\u001b[0;34m\u001b[0m\u001b[0m\n\u001b[1;32m    287\u001b[0m \u001b[0;34m\u001b[0m\u001b[0m\n\u001b[0;32m--> 288\u001b[0;31m             \u001b[0mself\u001b[0m\u001b[0;34m.\u001b[0m\u001b[0m_save_chunk\u001b[0m\u001b[0;34m(\u001b[0m\u001b[0mstart_i\u001b[0m\u001b[0;34m,\u001b[0m \u001b[0mend_i\u001b[0m\u001b[0;34m)\u001b[0m\u001b[0;34m\u001b[0m\u001b[0;34m\u001b[0m\u001b[0m\n\u001b[0m\u001b[1;32m    289\u001b[0m \u001b[0;34m\u001b[0m\u001b[0m\n\u001b[1;32m    290\u001b[0m     \u001b[0;32mdef\u001b[0m \u001b[0m_save_chunk\u001b[0m\u001b[0;34m(\u001b[0m\u001b[0mself\u001b[0m\u001b[0;34m,\u001b[0m \u001b[0mstart_i\u001b[0m\u001b[0;34m,\u001b[0m \u001b[0mend_i\u001b[0m\u001b[0;34m)\u001b[0m\u001b[0;34m:\u001b[0m\u001b[0;34m\u001b[0m\u001b[0;34m\u001b[0m\u001b[0m\n",
      "\u001b[0;32m~/Desktop/SI699_hotel_price_prediction/venv/lib/python3.6/site-packages/pandas/io/formats/csvs.py\u001b[0m in \u001b[0;36m_save_chunk\u001b[0;34m(self, start_i, end_i)\u001b[0m\n\u001b[1;32m    300\u001b[0m                                   \u001b[0mdecimal\u001b[0m\u001b[0;34m=\u001b[0m\u001b[0mself\u001b[0m\u001b[0;34m.\u001b[0m\u001b[0mdecimal\u001b[0m\u001b[0;34m,\u001b[0m\u001b[0;34m\u001b[0m\u001b[0;34m\u001b[0m\u001b[0m\n\u001b[1;32m    301\u001b[0m                                   \u001b[0mdate_format\u001b[0m\u001b[0;34m=\u001b[0m\u001b[0mself\u001b[0m\u001b[0;34m.\u001b[0m\u001b[0mdate_format\u001b[0m\u001b[0;34m,\u001b[0m\u001b[0;34m\u001b[0m\u001b[0;34m\u001b[0m\u001b[0m\n\u001b[0;32m--> 302\u001b[0;31m                                   quoting=self.quoting)\n\u001b[0m\u001b[1;32m    303\u001b[0m \u001b[0;34m\u001b[0m\u001b[0m\n\u001b[1;32m    304\u001b[0m             \u001b[0;32mfor\u001b[0m \u001b[0mcol_loc\u001b[0m\u001b[0;34m,\u001b[0m \u001b[0mcol\u001b[0m \u001b[0;32min\u001b[0m \u001b[0mzip\u001b[0m\u001b[0;34m(\u001b[0m\u001b[0mb\u001b[0m\u001b[0;34m.\u001b[0m\u001b[0mmgr_locs\u001b[0m\u001b[0;34m,\u001b[0m \u001b[0md\u001b[0m\u001b[0;34m)\u001b[0m\u001b[0;34m:\u001b[0m\u001b[0;34m\u001b[0m\u001b[0;34m\u001b[0m\u001b[0m\n",
      "\u001b[0;32m~/Desktop/SI699_hotel_price_prediction/venv/lib/python3.6/site-packages/pandas/core/internals/blocks.py\u001b[0m in \u001b[0;36mto_native_types\u001b[0;34m(self, slicer, na_rep, date_format, quoting, **kwargs)\u001b[0m\n\u001b[1;32m   2209\u001b[0m \u001b[0;34m\u001b[0m\u001b[0m\n\u001b[1;32m   2210\u001b[0m         \u001b[0;32mfrom\u001b[0m \u001b[0mpandas\u001b[0m\u001b[0;34m.\u001b[0m\u001b[0mio\u001b[0m\u001b[0;34m.\u001b[0m\u001b[0mformats\u001b[0m\u001b[0;34m.\u001b[0m\u001b[0mformat\u001b[0m \u001b[0;32mimport\u001b[0m \u001b[0m_get_format_datetime64_from_values\u001b[0m\u001b[0;34m\u001b[0m\u001b[0;34m\u001b[0m\u001b[0m\n\u001b[0;32m-> 2211\u001b[0;31m         \u001b[0mfmt\u001b[0m \u001b[0;34m=\u001b[0m \u001b[0m_get_format_datetime64_from_values\u001b[0m\u001b[0;34m(\u001b[0m\u001b[0mvalues\u001b[0m\u001b[0;34m,\u001b[0m \u001b[0mdate_format\u001b[0m\u001b[0;34m)\u001b[0m\u001b[0;34m\u001b[0m\u001b[0;34m\u001b[0m\u001b[0m\n\u001b[0m\u001b[1;32m   2212\u001b[0m \u001b[0;34m\u001b[0m\u001b[0m\n\u001b[1;32m   2213\u001b[0m         result = tslib.format_array_from_datetime(\n",
      "\u001b[0;32m~/Desktop/SI699_hotel_price_prediction/venv/lib/python3.6/site-packages/pandas/io/formats/format.py\u001b[0m in \u001b[0;36m_get_format_datetime64_from_values\u001b[0;34m(values, date_format)\u001b[0m\n\u001b[1;32m   1300\u001b[0m \u001b[0;32mdef\u001b[0m \u001b[0m_get_format_datetime64_from_values\u001b[0m\u001b[0;34m(\u001b[0m\u001b[0mvalues\u001b[0m\u001b[0;34m,\u001b[0m \u001b[0mdate_format\u001b[0m\u001b[0;34m)\u001b[0m\u001b[0;34m:\u001b[0m\u001b[0;34m\u001b[0m\u001b[0;34m\u001b[0m\u001b[0m\n\u001b[1;32m   1301\u001b[0m     \u001b[0;34m\"\"\" given values and a date_format, return a string format \"\"\"\u001b[0m\u001b[0;34m\u001b[0m\u001b[0;34m\u001b[0m\u001b[0m\n\u001b[0;32m-> 1302\u001b[0;31m     \u001b[0mis_dates_only\u001b[0m \u001b[0;34m=\u001b[0m \u001b[0m_is_dates_only\u001b[0m\u001b[0;34m(\u001b[0m\u001b[0mvalues\u001b[0m\u001b[0;34m)\u001b[0m\u001b[0;34m\u001b[0m\u001b[0;34m\u001b[0m\u001b[0m\n\u001b[0m\u001b[1;32m   1303\u001b[0m     \u001b[0;32mif\u001b[0m \u001b[0mis_dates_only\u001b[0m\u001b[0;34m:\u001b[0m\u001b[0;34m\u001b[0m\u001b[0;34m\u001b[0m\u001b[0m\n\u001b[1;32m   1304\u001b[0m         \u001b[0;32mreturn\u001b[0m \u001b[0mdate_format\u001b[0m \u001b[0;32mor\u001b[0m \u001b[0;34m\"%Y-%m-%d\"\u001b[0m\u001b[0;34m\u001b[0m\u001b[0;34m\u001b[0m\u001b[0m\n",
      "\u001b[0;32m~/Desktop/SI699_hotel_price_prediction/venv/lib/python3.6/site-packages/pandas/io/formats/format.py\u001b[0m in \u001b[0;36m_is_dates_only\u001b[0;34m(values)\u001b[0m\n\u001b[1;32m   1254\u001b[0m \u001b[0;34m\u001b[0m\u001b[0m\n\u001b[1;32m   1255\u001b[0m     \u001b[0mvalues_int\u001b[0m \u001b[0;34m=\u001b[0m \u001b[0mvalues\u001b[0m\u001b[0;34m.\u001b[0m\u001b[0masi8\u001b[0m\u001b[0;34m\u001b[0m\u001b[0;34m\u001b[0m\u001b[0m\n\u001b[0;32m-> 1256\u001b[0;31m     \u001b[0mconsider_values\u001b[0m \u001b[0;34m=\u001b[0m \u001b[0mvalues_int\u001b[0m \u001b[0;34m!=\u001b[0m \u001b[0miNaT\u001b[0m\u001b[0;34m\u001b[0m\u001b[0;34m\u001b[0m\u001b[0m\n\u001b[0m\u001b[1;32m   1257\u001b[0m     \u001b[0mone_day_nanos\u001b[0m \u001b[0;34m=\u001b[0m \u001b[0;34m(\u001b[0m\u001b[0;36m86400\u001b[0m \u001b[0;34m*\u001b[0m \u001b[0;36m1e9\u001b[0m\u001b[0;34m)\u001b[0m\u001b[0;34m\u001b[0m\u001b[0;34m\u001b[0m\u001b[0m\n\u001b[1;32m   1258\u001b[0m     even_days = np.logical_and(consider_values,\n",
      "\u001b[0;31mKeyboardInterrupt\u001b[0m: "
     ]
    }
   ],
   "source": [
    "# output to csv file \n",
    "'''\n",
    "good is that no need to run the above codes each time;\n",
    "TODO: remember to handle NA values later, \n",
    "since currently it's too computational expensive to run\n",
    "\n",
    "'''\n",
    "all_data.to_csv('all_data_clean.csv',index = False, encoding = 'utf-8')"
   ]
  },
  {
   "cell_type": "markdown",
   "metadata": {},
   "source": [
    "<h4> ---- 以上可以run出来 ----"
   ]
  },
  {
   "cell_type": "markdown",
   "metadata": {},
   "source": [
    "<h5>待run:"
   ]
  },
  {
   "cell_type": "code",
   "execution_count": null,
   "metadata": {},
   "outputs": [],
   "source": [
    "# TODO：replace old column NA values to median value\n",
    "all_data_non_NA = all_data.fillna(all_data.median())\n",
    "all_data_non_NA.head()"
   ]
  },
  {
   "cell_type": "code",
   "execution_count": null,
   "metadata": {},
   "outputs": [],
   "source": []
  },
  {
   "cell_type": "markdown",
   "metadata": {},
   "source": [
    "<h4> Sample data into smaller size (10000)"
   ]
  },
  {
   "cell_type": "code",
   "execution_count": 4,
   "metadata": {},
   "outputs": [],
   "source": [
    "all_data = pd.read_csv('./all_data_fixed.csv')"
   ]
  },
  {
   "cell_type": "code",
   "execution_count": 5,
   "metadata": {},
   "outputs": [],
   "source": [
    "# all_data['date_time'] = pd.to_datetime(all_data.date_time)\n",
    "# all_data.sort_values(by=['date_time'],inplace=True)\n",
    "# all_data = all_data.reset_index(drop=True)\n",
    "# all_data.head()"
   ]
  },
  {
   "cell_type": "code",
   "execution_count": 6,
   "metadata": {},
   "outputs": [],
   "source": [
    "# all_data.to_csv('all_data_fixed.csv', index = False)"
   ]
  },
  {
   "cell_type": "code",
   "execution_count": 10,
   "metadata": {},
   "outputs": [
    {
     "name": "stdout",
     "output_type": "stream",
     "text": [
      "45 899955\n"
     ]
    }
   ],
   "source": [
    "def get_sampled_data(size, data):\n",
    "    '''\n",
    "    This function takes in the whole dataset, \n",
    "    and outout a sampled subset with data size specified\n",
    "    '''\n",
    "    interval_range = len(data)//size\n",
    "    mid_idx_lst = []\n",
    "    for i in range(1,size+1):\n",
    "        mid_idx = (interval_range*(i-1) + interval_range*i)//2\n",
    "        mid_idx_lst.append(mid_idx)\n",
    "\n",
    "    print(mid_idx_lst[0],mid_idx_lst[-1])\n",
    "    data_sampled = data.iloc[mid_idx_lst]\n",
    "    return data_sampled\n",
    "    \n",
    "all_data_sampled = get_sampled_data(10000, all_data)"
   ]
  },
  {
   "cell_type": "code",
   "execution_count": 11,
   "metadata": {},
   "outputs": [
    {
     "name": "stdout",
     "output_type": "stream",
     "text": [
      "     srch_id            date_time  site_id  visitor_location_country_id  \\\n",
      "45     21951  2012-11-01 00:03:24       24                          216   \n",
      "135    81578  2012-11-01 00:08:29        5                          219   \n",
      "225   383846  2012-11-01 00:10:31        5                          100   \n",
      "315   355773  2012-11-01 00:13:03        5                           23   \n",
      "405   625417  2012-11-01 00:21:36        5                          219   \n",
      "\n",
      "     visitor_hist_starrating  visitor_hist_adr_usd  prop_country_id  prop_id  \\\n",
      "45                      3.29               139.985               31     9230   \n",
      "135                     3.29               139.985              219    20587   \n",
      "225                     3.29               139.985               98    36763   \n",
      "315                     3.29               139.985               32    77298   \n",
      "405                     2.73                92.300              219     7919   \n",
      "\n",
      "     prop_starrating  prop_review_score  ...  new_comp5_rate_percent_diff  \\\n",
      "45                 1                2.0  ...                            1   \n",
      "135                4                4.5  ...                            1   \n",
      "225                5                5.0  ...                            1   \n",
      "315                5                4.0  ...                            0   \n",
      "405                4                3.5  ...                            0   \n",
      "\n",
      "     new_comp6_rate  new_comp6_inv  new_comp6_rate_percent_diff  \\\n",
      "45                0              0                            0   \n",
      "135               0              0                            0   \n",
      "225               0              0                            0   \n",
      "315               1              1                            0   \n",
      "405               0              0                            0   \n",
      "\n",
      "     new_comp7_rate  new_comp7_inv  new_comp7_rate_percent_diff  \\\n",
      "45                0              0                            0   \n",
      "135               0              0                            0   \n",
      "225               0              0                            0   \n",
      "315               1              1                            1   \n",
      "405               0              0                            0   \n",
      "\n",
      "     new_comp8_rate  new_comp8_inv  new_comp8_rate_percent_diff  \n",
      "45                0              0                            0  \n",
      "135               0              1                            1  \n",
      "225               0              0                            0  \n",
      "315               0              0                            0  \n",
      "405               1              1                            0  \n",
      "\n",
      "[5 rows x 80 columns]\n"
     ]
    },
    {
     "data": {
      "text/plain": [
       "srch_id                          0\n",
       "date_time                        0\n",
       "site_id                          0\n",
       "visitor_location_country_id      0\n",
       "visitor_hist_starrating          0\n",
       "visitor_hist_adr_usd             0\n",
       "prop_country_id                  0\n",
       "prop_id                          0\n",
       "prop_starrating                  0\n",
       "prop_review_score                0\n",
       "prop_brand_bool                  0\n",
       "prop_location_score1             0\n",
       "prop_location_score2             0\n",
       "prop_log_historical_price        0\n",
       "price_usd                        0\n",
       "promotion_flag                   0\n",
       "srch_destination_id              0\n",
       "srch_length_of_stay              0\n",
       "srch_booking_window              0\n",
       "srch_adults_count                0\n",
       "srch_children_count              0\n",
       "srch_room_count                  0\n",
       "srch_saturday_night_bool         0\n",
       "srch_query_affinity_score        0\n",
       "orig_destination_distance        0\n",
       "random_bool                      0\n",
       "comp1_rate                       0\n",
       "comp1_inv                        0\n",
       "comp1_rate_percent_diff          0\n",
       "comp2_rate                       0\n",
       "                                ..\n",
       "new_visitor_hist_starrating      0\n",
       "new_visitor_hist_adr_usd         0\n",
       "new_prop_review_score            0\n",
       "new_prop_location_score2         0\n",
       "new_srch_query_affinity_score    0\n",
       "new_orig_destination_distance    0\n",
       "new_comp1_rate                   0\n",
       "new_comp1_inv                    0\n",
       "new_comp1_rate_percent_diff      0\n",
       "new_comp2_rate                   0\n",
       "new_comp2_inv                    0\n",
       "new_comp2_rate_percent_diff      0\n",
       "new_comp3_rate                   0\n",
       "new_comp3_inv                    0\n",
       "new_comp3_rate_percent_diff      0\n",
       "new_comp4_rate                   0\n",
       "new_comp4_inv                    0\n",
       "new_comp4_rate_percent_diff      0\n",
       "new_comp5_rate                   0\n",
       "new_comp5_inv                    0\n",
       "new_comp5_rate_percent_diff      0\n",
       "new_comp6_rate                   0\n",
       "new_comp6_inv                    0\n",
       "new_comp6_rate_percent_diff      0\n",
       "new_comp7_rate                   0\n",
       "new_comp7_inv                    0\n",
       "new_comp7_rate_percent_diff      0\n",
       "new_comp8_rate                   0\n",
       "new_comp8_inv                    0\n",
       "new_comp8_rate_percent_diff      0\n",
       "Length: 80, dtype: int64"
      ]
     },
     "execution_count": 11,
     "metadata": {},
     "output_type": "execute_result"
    }
   ],
   "source": [
    "# replace old column NA values to median value\n",
    "all_data_sampled_non_NA = all_data_sampled.fillna(all_data_sampled.median())\n",
    "print(all_data_sampled_non_NA.head())\n",
    "\n",
    "# check NA values\n",
    "all_data_sampled_non_NA.isna().sum()"
   ]
  },
  {
   "cell_type": "markdown",
   "metadata": {},
   "source": [
    "Notice: 以上，data preprocessing基本完成。但是是基于sampled size (总共50000条)，因此在Flux set up 好之后，再用所有dataset的数据来run一遍。"
   ]
  },
  {
   "cell_type": "markdown",
   "metadata": {},
   "source": [
    "<h3> Split data into training, validation and test set"
   ]
  },
  {
   "cell_type": "code",
   "execution_count": 12,
   "metadata": {},
   "outputs": [
    {
     "name": "stdout",
     "output_type": "stream",
     "text": [
      "training size: 6400\n",
      "validation size: 1600\n",
      "test size: 2000\n"
     ]
    }
   ],
   "source": [
    "def split_data(data):\n",
    "    '''\n",
    "    This function takes in the whole data set and divide it into training, validation and test data;\n",
    "    split into 0.8 and 0.2 first; second split using the same ratio into training and valiation\n",
    "    '''\n",
    "    training_size_large = int(len(data) * 0.8)   \n",
    "    validation_size = int(training_size_large * 0.2)\n",
    "    training_size = training_size_large - validation_size\n",
    "    test_size = int(len(data) * 0.2)\n",
    "    \n",
    "    print('training size: %d'%training_size)\n",
    "    print('validation size: %d'%validation_size)\n",
    "    print('test size: %d'%test_size)\n",
    "    \n",
    "    # split data manually\n",
    "    training_data = data[0: training_size]\n",
    "    validation_data = data[training_size:(training_size + validation_size)]\n",
    "    test_data = data[(training_size + validation_size): (training_size + validation_size + test_size)]\n",
    "    \n",
    "    return training_data, validation_data, test_data\n",
    "    \n",
    "training_data, validation_data, test_data = split_data(all_data_sampled_non_NA)"
   ]
  },
  {
   "cell_type": "markdown",
   "metadata": {},
   "source": [
    "<h3> (Ongoing) Resample data | into weeks or days:"
   ]
  },
  {
   "cell_type": "code",
   "execution_count": 25,
   "metadata": {},
   "outputs": [
    {
     "name": "stdout",
     "output_type": "stream",
     "text": [
      "there are 217 days in total.\n",
      "there are 32 weeks in total.\n"
     ]
    },
    {
     "data": {
      "image/png": "[encoded data removed]",
      "text/plain": [
       "<Figure size 432x288 with 1 Axes>"
      ]
     },
     "metadata": {
      "needs_background": "light"
     },
     "output_type": "display_data"
    },
    {
     "data": {
      "image/png": "[encoded data removed]",
      "text/plain": [
       "<Figure size 432x288 with 1 Axes>"
      ]
     },
     "metadata": {
      "needs_background": "light"
     },
     "output_type": "display_data"
    }
   ],
   "source": [
    "def resample_data(data,sample_method = 'W'):\n",
    "    data_resetIndex = data.set_index('date_time')\n",
    "    resampled_data = data_resetIndex.resample(sample_method).median()\n",
    "    resampled_data[['price_usd']].plot()\n",
    "    return resampled_data\n",
    "\n",
    "daily = resample_data(all_data, sample_method = 'D') #split dataset by day\n",
    "print('there are %d days in total.'%len(daily))\n",
    "# TODO: 将numeric, categorical feats区分开来\n",
    "\n",
    "weekly = resample_data(all_data, sample_method = 'W') #split the whole dataset by weeks\n",
    "print('there are %d weeks in total.'%len(weekly))\n",
    "# TODO: need to exclude boolean values and categorical values"
   ]
  },
  {
   "cell_type": "code",
   "execution_count": null,
   "metadata": {},
   "outputs": [],
   "source": []
  },
  {
   "cell_type": "markdown",
   "metadata": {},
   "source": [
    "# Modeling (regression + linear methods)"
   ]
  },
  {
   "cell_type": "markdown",
   "metadata": {},
   "source": [
    "numeric features:  prop_starrating, prop_review_score, prop_location_score1, prop_log_historical_price, srch_adults_count, srch_room_count, orig_destination_distance \n",
    "categorical features: 'srch_saturday_night_bool','promotion_flag','prop_brand_bool','site_id','visitor_location_country_id','prop_country_id','srch_destination_id'"
   ]
  },
  {
   "cell_type": "code",
   "execution_count": 26,
   "metadata": {},
   "outputs": [],
   "source": [
    "def get_RMSE(y_pred,y_true,data):\n",
    "    '''\n",
    "    This function takes in the prediction values and the true values,\n",
    "    and the whole data set, and output an rmse score.\n",
    "    '''\n",
    "    return np.sqrt(sum((y_pred - y_true)**2)/len(data))"
   ]
  },
  {
   "cell_type": "markdown",
   "metadata": {},
   "source": [
    "<h3> 1.Linear regression (numeric feats):"
   ]
  },
  {
   "cell_type": "markdown",
   "metadata": {},
   "source": [
    "*可以考虑normalization, standardization以及log transform data"
   ]
  },
  {
   "cell_type": "code",
   "execution_count": 28,
   "metadata": {},
   "outputs": [],
   "source": [
    "def get_X_y(data,features):\n",
    "    '''\n",
    "    This function takes in the data set, and the features needed for regression model;\n",
    "    and return X, y accordingly.\n",
    "    '''\n",
    "    X = data[features]\n",
    "    y = data['price_usd']\n",
    "    return X,y\n",
    "\n",
    "imp_numeric_feats = ['prop_starrating', 'prop_review_score', 'prop_location_score1', 'prop_log_historical_price', 'srch_adults_count', 'srch_room_count', 'orig_destination_distance']\n",
    "X_train, y_train = get_X_y(training_data,imp_numeric_feats)\n",
    "X_validation, y_validation = get_X_y(validation_data,imp_numeric_feats)"
   ]
  },
  {
   "cell_type": "code",
   "execution_count": 76,
   "metadata": {},
   "outputs": [],
   "source": [
    "# imp_numeric_feats = ['prop_starrating', 'prop_review_score', 'prop_location_score1', 'prop_log_historical_price', 'srch_adults_count', 'srch_room_count', 'orig_destination_distance']\n",
    "\n",
    "# X_train = training_data[imp_numeric_feats]\n",
    "# y_train = training_data['price_usd']\n",
    "\n",
    "# X_validation = validation_data[imp_numeric_feats]\n",
    "# y_validation = validation_data['price_usd']"
   ]
  },
  {
   "cell_type": "code",
   "execution_count": 30,
   "metadata": {},
   "outputs": [
    {
     "name": "stdout",
     "output_type": "stream",
     "text": [
      "training RMSE: 2088.102271519992\n",
      "test RMSE: 146.9639279062244\n"
     ]
    }
   ],
   "source": [
    "def get_modeling_result(model,training_data, validation_data):\n",
    "    '''\n",
    "    This function takes in the training set and validation set, and the model you choose;\n",
    "    output the test RMSE and train RMSE score for evaluation.\n",
    "    '''\n",
    "    reg = model.fit(X_train,y_train)\n",
    "    y_pred_val = reg.predict(X_validation)\n",
    "    y_pred_train = reg.predict(X_train)\n",
    "    \n",
    "    test_RMSE = get_RMSE(y_pred_val,y_validation, validation_data)\n",
    "    train_RMSE = get_RMSE(y_pred_train ,y_train, training_data)\n",
    "    \n",
    "    print('training RMSE:',train_RMSE)\n",
    "    print('test RMSE:',test_RMSE)\n",
    "    return train_RMSE, test_RMSE\n",
    "    \n",
    "train_RMSE, test_RMSE = get_modeling_result(LinearRegression(),training_data, validation_data)"
   ]
  },
  {
   "cell_type": "markdown",
   "metadata": {},
   "source": [
    "* RMSE here depends on the size of data => may not have good interpretation for now (but can be used as comparison)"
   ]
  },
  {
   "cell_type": "markdown",
   "metadata": {},
   "source": [
    "只使用numeric features去做linear regression, 得到training error: 4809.81, test error: 2720.88"
   ]
  },
  {
   "cell_type": "code",
   "execution_count": 79,
   "metadata": {},
   "outputs": [],
   "source": [
    "# TODO: plot learning curve => 是为了for hyper-param tuning => 暂时先不管\n",
    "# reference: https://scikit-learn.org/stable/auto_examples/model_selection/plot_learning_curve.html\n",
    "# 可以结合timeseries的cross validation"
   ]
  },
  {
   "cell_type": "markdown",
   "metadata": {},
   "source": [
    "<h3> 2.Linear regression (categorical feats):"
   ]
  },
  {
   "cell_type": "code",
   "execution_count": null,
   "metadata": {},
   "outputs": [],
   "source": [
    "# all_data.columns.unique().tolist()"
   ]
  },
  {
   "cell_type": "code",
   "execution_count": 31,
   "metadata": {},
   "outputs": [
    {
     "name": "stdout",
     "output_type": "stream",
     "text": [
      "['random_bool', 'srch_saturday_night_bool', 'promotion_flag', 'prop_brand_bool', 'site_id', 'visitor_location_country_id', 'prop_country_id', 'srch_destination_id', 'srch_id', 'prop_id', 'new_visitor_hist_starrating', 'new_visitor_hist_adr_usd', 'new_prop_review_score', 'new_prop_location_score2', 'new_srch_query_affinity_score', 'new_orig_destination_distance', 'new_comp1_rate', 'new_comp1_inv', 'new_comp1_rate_percent_diff', 'new_comp2_rate', 'new_comp2_inv', 'new_comp2_rate_percent_diff', 'new_comp3_rate', 'new_comp3_inv', 'new_comp3_rate_percent_diff', 'new_comp4_rate', 'new_comp4_inv', 'new_comp4_rate_percent_diff', 'new_comp5_rate', 'new_comp5_inv', 'new_comp5_rate_percent_diff', 'new_comp6_rate', 'new_comp6_inv', 'new_comp6_rate_percent_diff', 'new_comp7_rate', 'new_comp7_inv', 'new_comp7_rate_percent_diff', 'new_comp8_rate', 'new_comp8_inv', 'new_comp8_rate_percent_diff', 'comp1_inv', 'comp2_inv', 'comp3_inv', 'comp4_inv', 'comp5_inv', 'comp6_inv', 'comp7_inv', 'comp8_inv']\n"
     ]
    }
   ],
   "source": [
    "# 需要找到important feats再增加了feats之后 => chi-2 test\n",
    "cat_feats = ['random_bool','srch_saturday_night_bool', 'promotion_flag', 'prop_brand_bool', 'site_id', 'visitor_location_country_id', 'prop_country_id',\n",
    " 'srch_destination_id', 'srch_id', 'prop_id',]\n",
    "\n",
    "# get newly created binary columns\n",
    "new_cat_feats = [col for col in training_data if col.startswith('new')]\n",
    "\n",
    "# get comp feats\n",
    "comp_feats = ['comp1_inv','comp2_inv','comp3_inv','comp4_inv','comp5_inv','comp6_inv','comp7_inv','comp8_inv']\n",
    "\n",
    "cat_feats += new_cat_feats\n",
    "cat_feats += comp_feats\n",
    "\n",
    "print(cat_feats)"
   ]
  },
  {
   "cell_type": "code",
   "execution_count": 33,
   "metadata": {},
   "outputs": [
    {
     "name": "stdout",
     "output_type": "stream",
     "text": [
      "sorted in descending by p-value: ['srch_destination_id', 'new_prop_review_score', 'new_srch_query_affinity_score', 'new_comp8_rate_percent_diff', 'comp3_inv', 'comp8_inv', 'comp2_inv', 'new_comp3_rate_percent_diff', 'new_comp3_rate', 'new_comp2_rate_percent_diff', 'new_comp8_rate', 'new_comp3_inv', 'new_prop_location_score2', 'new_comp2_rate', 'new_comp5_rate_percent_diff', 'new_comp2_inv', 'new_comp8_inv', 'srch_saturday_night_bool', 'srch_id', 'new_comp5_inv', 'new_comp5_rate', 'random_bool', 'comp5_inv', 'comp6_inv', 'new_visitor_hist_starrating', 'new_visitor_hist_adr_usd', 'promotion_flag', 'prop_brand_bool', 'new_orig_destination_distance', 'prop_id', 'new_comp4_inv', 'new_comp4_rate', 'new_comp4_rate_percent_diff', 'comp4_inv', 'new_comp7_rate_percent_diff', 'new_comp7_rate', 'new_comp7_inv', 'new_comp6_rate_percent_diff', 'new_comp1_rate', 'new_comp1_inv', 'new_comp1_rate_percent_diff', 'new_comp6_rate', 'new_comp6_inv', 'comp1_inv', 'comp7_inv', 'site_id', 'visitor_location_country_id', 'prop_country_id']\n",
      "sorted in descending by chi2 score: ['new_prop_review_score', 'new_srch_query_affinity_score', 'new_comp8_rate_percent_diff', 'new_comp3_rate_percent_diff', 'new_comp3_rate', 'new_comp2_rate_percent_diff', 'new_comp8_rate', 'new_comp3_inv', 'new_prop_location_score2', 'new_comp2_rate', 'new_comp5_rate_percent_diff', 'new_comp2_inv', 'new_comp8_inv', 'srch_saturday_night_bool', 'new_comp5_inv', 'new_comp5_rate', 'random_bool', 'new_visitor_hist_starrating', 'new_visitor_hist_adr_usd', 'promotion_flag', 'prop_brand_bool', 'comp8_inv', 'new_orig_destination_distance', 'comp3_inv', 'new_comp4_inv', 'comp2_inv', 'new_comp4_rate', 'new_comp4_rate_percent_diff', 'new_comp7_rate_percent_diff', 'new_comp7_rate', 'new_comp7_inv', 'new_comp6_rate_percent_diff', 'new_comp1_rate', 'new_comp1_inv', 'new_comp1_rate_percent_diff', 'new_comp6_rate', 'new_comp6_inv', 'comp5_inv', 'comp6_inv', 'comp4_inv', 'comp1_inv', 'comp7_inv', 'site_id', 'visitor_location_country_id', 'prop_country_id', 'srch_destination_id', 'prop_id', 'srch_id']\n"
     ]
    }
   ],
   "source": [
    "def get_feats_independence_(df,col1,col2):\n",
    "    ct = pd.crosstab(df[col1],df[col2]) \n",
    "    chi2, p, dof, expected = stats.chi2_contingency(ct)\n",
    "    return p,chi2\n",
    "\n",
    "df = training_data\n",
    "p_dct = {}\n",
    "chi2_dct = {}\n",
    "for col in cat_feats:\n",
    "    p,chi2 = get_feats_independence_(df,col,'price_usd')\n",
    "    \n",
    "    p_dct[col] = p\n",
    "    chi2_dct[col] = chi2\n",
    "#     print('p_value for variable {} is {}.'.format(col,p))\n",
    "#     print('chi2 score for variable {} is {}'.format(col,chi2))\n",
    "\n",
    "# print(p_dct)\n",
    "# print(chi2_dct)\n",
    "\n",
    "# sort the categorical variables based on p-value\n",
    "print('sorted in descending by p-value:',sorted(p_dct.keys(),key=lambda x:p_dct[x], reverse = True))\n",
    "\n",
    "# sort the categorical variables based on chi2\n",
    "print('sorted in descending by chi2 score:', sorted(chi2_dct.keys(),key=lambda x:chi2_dct[x]))"
   ]
  },
  {
   "cell_type": "code",
   "execution_count": 34,
   "metadata": {},
   "outputs": [
    {
     "name": "stdout",
     "output_type": "stream",
     "text": [
      "important features: ['random_bool', 'promotion_flag', 'prop_brand_bool', 'site_id', 'visitor_location_country_id', 'prop_country_id', 'prop_id', 'new_visitor_hist_starrating', 'new_visitor_hist_adr_usd', 'new_orig_destination_distance', 'new_comp1_rate', 'new_comp1_inv', 'new_comp1_rate_percent_diff', 'new_comp4_rate', 'new_comp4_inv', 'new_comp4_rate_percent_diff', 'new_comp5_rate', 'new_comp6_rate', 'new_comp6_inv', 'new_comp6_rate_percent_diff', 'new_comp7_rate', 'new_comp7_inv', 'new_comp7_rate_percent_diff', 'comp1_inv', 'comp4_inv', 'comp5_inv', 'comp6_inv', 'comp7_inv']\n",
      "non-important features: ['srch_saturday_night_bool', 'srch_destination_id', 'srch_id', 'new_prop_review_score', 'new_prop_location_score2', 'new_srch_query_affinity_score', 'new_comp2_rate', 'new_comp2_inv', 'new_comp2_rate_percent_diff', 'new_comp3_rate', 'new_comp3_inv', 'new_comp3_rate_percent_diff', 'new_comp5_inv', 'new_comp5_rate_percent_diff', 'new_comp8_rate', 'new_comp8_inv', 'new_comp8_rate_percent_diff', 'comp2_inv', 'comp3_inv', 'comp8_inv']\n"
     ]
    }
   ],
   "source": [
    "imp_cat_feats = [feat for feat in p_dct.keys() if p_dct[feat] < 0.05]\n",
    "non_imp_cat_feats = [feat for feat in p_dct.keys() if feat not in imp_cat_feats]\n",
    "\n",
    "print('important features:',imp_cat_feats)\n",
    "print('non-important features:',non_imp_cat_feats)"
   ]
  },
  {
   "cell_type": "code",
   "execution_count": 88,
   "metadata": {},
   "outputs": [
    {
     "data": {
      "text/plain": [
       "Text(0.5, 0, 'p-value')"
      ]
     },
     "execution_count": 88,
     "metadata": {},
     "output_type": "execute_result"
    },
    {
     "data": {
      "image/png": "[encoded data removed]",
      "text/plain": [
       "<Figure size 720x432 with 1 Axes>"
      ]
     },
     "metadata": {
      "needs_background": "light"
     },
     "output_type": "display_data"
    }
   ],
   "source": [
    "# plot ranking categorical feature importance\n",
    "f = plt.figure(figsize=(10,6))\n",
    "ax = sns.barplot(y=imp_cat_feats,x=[p_dct[feat] for feat in imp_cat_feats])\n",
    "ax.set_title('p-value of important categorical features')\n",
    "ax.set_xlabel('p-value')"
   ]
  },
  {
   "cell_type": "code",
   "execution_count": 87,
   "metadata": {},
   "outputs": [
    {
     "data": {
      "text/plain": [
       "Text(0.5, 0, 'chi2 score')"
      ]
     },
     "execution_count": 87,
     "metadata": {},
     "output_type": "execute_result"
    },
    {
     "data": {
      "image/png": "[encoded data removed]",
      "text/plain": [
       "<Figure size 720x432 with 1 Axes>"
      ]
     },
     "metadata": {
      "needs_background": "light"
     },
     "output_type": "display_data"
    }
   ],
   "source": [
    "# get chi2 score for those important categorical feats\n",
    "f = plt.figure(figsize=(10,6))\n",
    "chi2_imp_cat_values = [chi2_dct[feat] for feat in imp_cat_feats]\n",
    "ax = sns.barplot(y=imp_cat_feats,x=chi2_imp_cat_values)\n",
    "ax.set_title('chi2 score of categorical features')\n",
    "ax.set_xlabel('chi2 score')"
   ]
  },
  {
   "cell_type": "markdown",
   "metadata": {},
   "source": [
    "<h4> Build linear regression for categorical variables:"
   ]
  },
  {
   "cell_type": "code",
   "execution_count": 35,
   "metadata": {},
   "outputs": [
    {
     "name": "stdout",
     "output_type": "stream",
     "text": [
      "training RMSE: 2089.027467560985\n",
      "test RMSE: 141.3624104523119\n"
     ]
    }
   ],
   "source": [
    "X_train, y_train = get_X_y(training_data,imp_cat_feats)\n",
    "X_validation, y_validation = get_X_y(validation_data,imp_cat_feats)\n",
    "\n",
    "train_RMSE, test_RMSE = get_modeling_result(LinearRegression(),training_data, validation_data)"
   ]
  },
  {
   "cell_type": "markdown",
   "metadata": {},
   "source": [
    "只使用categorical features去做linear regression, 得到training error: 4802.44, test error: 2738.13 <br>\n",
    "为什么只用categorical feats去做prediction, error比只用numeric feats去做的还小.... <br>\n",
    "如何比较training error, test error的结果？ <br>\n"
   ]
  },
  {
   "cell_type": "markdown",
   "metadata": {},
   "source": [
    "注意：\n",
    "- 'comp1_inv'可以算categorical也可以算numeric variables?\n",
    "- 删去：random_bool"
   ]
  },
  {
   "cell_type": "code",
   "execution_count": null,
   "metadata": {},
   "outputs": [],
   "source": [
    "# TODO：plot learning curve"
   ]
  },
  {
   "cell_type": "code",
   "execution_count": null,
   "metadata": {},
   "outputs": [],
   "source": []
  },
  {
   "cell_type": "markdown",
   "metadata": {},
   "source": [
    "<h3> 4.PCA on numeric features:"
   ]
  },
  {
   "cell_type": "code",
   "execution_count": 40,
   "metadata": {},
   "outputs": [],
   "source": [
    "# get all numeric features\n",
    "all_numeric_feats = ['visitor_hist_starrating','visitor_hist_adr_usd','prop_starrating','prop_review_score','prop_location_score1','prop_location_score2',\\\n",
    "                     'prop_log_historical_price','srch_length_of_stay','srch_booking_window','srch_adults_count','srch_children_count','srch_room_count','srch_query_affinity_score',\\\n",
    "                     'orig_destination_distance','comp1_rate','comp1_rate_percent_diff','comp2_rate','comp2_rate_percent_diff','comp3_rate','comp3_rate_percent_diff','comp4_rate',\\\n",
    "                     'comp4_rate_percent_diff','comp5_rate','comp5_rate_percent_diff','comp6_rate','comp6_rate_percent_diff','comp7_rate','comp7_rate_percent_diff','comp8_rate',\\\n",
    "                     'comp8_rate_percent_diff']\n",
    "\n",
    "X_train, y_train = get_X_y(training_data, all_numeric_feats)\n",
    "X_validation, y_validation = get_X_y(validation_data, all_numeric_feats)"
   ]
  },
  {
   "cell_type": "code",
   "execution_count": 36,
   "metadata": {},
   "outputs": [],
   "source": [
    "# # get all numeric features\n",
    "# all_numeric_feats = ['visitor_hist_starrating','visitor_hist_adr_usd','prop_starrating','prop_review_score','prop_location_score1','prop_location_score2',\\\n",
    "#                      'prop_log_historical_price','srch_length_of_stay','srch_booking_window','srch_adults_count','srch_children_count','srch_room_count','srch_query_affinity_score',\\\n",
    "#                      'orig_destination_distance','comp1_rate','comp1_rate_percent_diff','comp2_rate','comp2_rate_percent_diff','comp3_rate','comp3_rate_percent_diff','comp4_rate',\\\n",
    "#                      'comp4_rate_percent_diff','comp5_rate','comp5_rate_percent_diff','comp6_rate','comp6_rate_percent_diff','comp7_rate','comp7_rate_percent_diff','comp8_rate',\\\n",
    "#                      'comp8_rate_percent_diff']\n",
    "\n",
    "# X_train = training_data[all_numeric_feats]\n",
    "# y_train = training_data['price_usd']\n",
    "\n",
    "# X_validation = validation_data[all_numeric_feats]\n",
    "# y_validation = validation_data['price_usd']"
   ]
  },
  {
   "cell_type": "code",
   "execution_count": 41,
   "metadata": {},
   "outputs": [
    {
     "name": "stderr",
     "output_type": "stream",
     "text": [
      "/Users/yuanlii/Desktop/SI699_hotel_price_prediction/venv/lib/python3.7/site-packages/sklearn/preprocessing/data.py:625: DataConversionWarning: Data with input dtype int64, float64 were all converted to float64 by StandardScaler.\n",
      "  return self.partial_fit(X, y)\n",
      "/Users/yuanlii/Desktop/SI699_hotel_price_prediction/venv/lib/python3.7/site-packages/sklearn/base.py:462: DataConversionWarning: Data with input dtype int64, float64 were all converted to float64 by StandardScaler.\n",
      "  return self.fit(X, **fit_params).transform(X)\n",
      "/Users/yuanlii/Desktop/SI699_hotel_price_prediction/venv/lib/python3.7/site-packages/ipykernel_launcher.py:12: DataConversionWarning: Data with input dtype int64, float64 were all converted to float64 by StandardScaler.\n",
      "  if sys.path[0] == '':\n"
     ]
    },
    {
     "data": {
      "image/png": "[encoded data removed]",
      "text/plain": [
       "<Figure size 432x288 with 1 Axes>"
      ]
     },
     "metadata": {
      "needs_background": "light"
     },
     "output_type": "display_data"
    }
   ],
   "source": [
    "from sklearn.preprocessing import StandardScaler\n",
    "from sklearn.decomposition import PCA\n",
    "\n",
    "def get_PCA_result(X_train, X_validation, features):\n",
    "    '''\n",
    "    This function takes in X_train, X_validation, the features selected for modeling.\n",
    "    Output is the explained ratio ranked in decending order, and the plot.\n",
    "    '''\n",
    "    # standardization when using PCA\n",
    "    sc = StandardScaler()  \n",
    "    X_train_standardized = sc.fit_transform(X_train)  \n",
    "    X_validation_standardized = sc.transform(X_validation) \n",
    "    \n",
    "    pca = PCA(n_components=len(features))   # PC number equal to feature number\n",
    "    pca.fit(X_train_standardized)\n",
    "\n",
    "    ax = sns.lineplot(list(range(1,len(pca.explained_variance_ratio_)+1)),list(pca.explained_variance_ratio_) )\n",
    "    ax.set_title('PCA explained ratios')\n",
    "    ax.set_xlabel('PC')\n",
    "    ax.set_ylabel('explained ratio')\n",
    "\n",
    "get_PCA_result(X_train, X_validation, all_numeric_feats)    "
   ]
  },
  {
   "cell_type": "markdown",
   "metadata": {},
   "source": [
    "<h4> what if using only those important features?"
   ]
  },
  {
   "cell_type": "markdown",
   "metadata": {},
   "source": [
    "*need to rewrite code chuncks into function"
   ]
  },
  {
   "cell_type": "code",
   "execution_count": 48,
   "metadata": {},
   "outputs": [
    {
     "ename": "NameError",
     "evalue": "name 'get_X_y' is not defined",
     "output_type": "error",
     "traceback": [
      "\u001b[0;31m---------------------------------------------------------------------------\u001b[0m",
      "\u001b[0;31mNameError\u001b[0m                                 Traceback (most recent call last)",
      "\u001b[0;32m<ipython-input-48-295c89d2fe40>\u001b[0m in \u001b[0;36m<module>\u001b[0;34m\u001b[0m\n\u001b[0;32m----> 1\u001b[0;31m \u001b[0mX_train\u001b[0m\u001b[0;34m,\u001b[0m \u001b[0my_train\u001b[0m \u001b[0;34m=\u001b[0m \u001b[0mget_X_y\u001b[0m\u001b[0;34m(\u001b[0m\u001b[0mtraining_data\u001b[0m\u001b[0;34m,\u001b[0m\u001b[0mimp_numeric_feats\u001b[0m\u001b[0;34m)\u001b[0m\u001b[0;34m\u001b[0m\u001b[0;34m\u001b[0m\u001b[0m\n\u001b[0m\u001b[1;32m      2\u001b[0m \u001b[0mX_validation\u001b[0m\u001b[0;34m,\u001b[0m \u001b[0my_validation\u001b[0m \u001b[0;34m=\u001b[0m \u001b[0mget_X_y\u001b[0m\u001b[0;34m(\u001b[0m\u001b[0mvalidation_data\u001b[0m\u001b[0;34m,\u001b[0m\u001b[0mimp_numeric_feats\u001b[0m\u001b[0;34m)\u001b[0m\u001b[0;34m\u001b[0m\u001b[0;34m\u001b[0m\u001b[0m\n\u001b[1;32m      3\u001b[0m \u001b[0mget_PCA_result\u001b[0m\u001b[0;34m(\u001b[0m\u001b[0mX_train\u001b[0m\u001b[0;34m,\u001b[0m \u001b[0mX_validation\u001b[0m\u001b[0;34m,\u001b[0m \u001b[0mimp_numeric_feats\u001b[0m\u001b[0;34m)\u001b[0m\u001b[0;34m\u001b[0m\u001b[0;34m\u001b[0m\u001b[0m\n",
      "\u001b[0;31mNameError\u001b[0m: name 'get_X_y' is not defined"
     ]
    }
   ],
   "source": [
    "X_train, y_train = get_X_y(training_data,imp_numeric_feats)\n",
    "X_validation, y_validation = get_X_y(validation_data,imp_numeric_feats)\n",
    "get_PCA_result(X_train, X_validation, imp_numeric_feats)"
   ]
  },
  {
   "cell_type": "markdown",
   "metadata": {},
   "source": [
    "<h3> 5. TODO: Linear SVM for prediction"
   ]
  },
  {
   "cell_type": "markdown",
   "metadata": {},
   "source": [
    "can tune param C to compare different performance"
   ]
  },
  {
   "cell_type": "markdown",
   "metadata": {},
   "source": [
    "* TODO: still need a lot of time to run => wait using Flux"
   ]
  },
  {
   "cell_type": "code",
   "execution_count": 43,
   "metadata": {},
   "outputs": [
    {
     "name": "stdout",
     "output_type": "stream",
     "text": [
      "execution time: 0\n"
     ]
    }
   ],
   "source": [
    "import time \n",
    "start = time.time()\n",
    "end = time.time()\n",
    "print('execution time: %d' % (end - start))"
   ]
  },
  {
   "cell_type": "code",
   "execution_count": 44,
   "metadata": {},
   "outputs": [],
   "source": [
    "def get_rmse(y_pred,y_true,data):\n",
    "    '''\n",
    "    This function takes in the prediction values and the true values,\n",
    "    and the whole data set, and output an rmse score.\n",
    "    '''\n",
    "    return np.sqrt(sum((y_pred - y_true)**2)/len(data))"
   ]
  },
  {
   "cell_type": "code",
   "execution_count": null,
   "metadata": {},
   "outputs": [],
   "source": [
    "from sklearn.svm import SVR\n",
    "\n",
    "start_time = time.time()\n",
    "\n",
    "svr_rbf = SVR(kernel='rbf', C=1e3, gamma=0.1)\n",
    "svr_lin = SVR(kernel='linear', C=1e3)\n",
    "svr_poly = SVR(kernel='poly', C=1e3, degree=2)\n",
    "\n",
    "# get training error\n",
    "y_rbf = svr_rbf.fit(X_train, y_train).predict(X_train)\n",
    "y_lin = svr_lin.fit(X_train, y_train).predict(X_train)\n",
    "y_poly = svr_poly.fit(X_train, y_train).predict(X_train)\n",
    "\n",
    "rmse_lin_train = np.sqrt(sum((y_lin - y_train)**2)/len(training_data))\n",
    "print('RMSE for rmse_lin_train %d'%rmse_lin_train)\n",
    "\n",
    "end = time.time()\n",
    "print('execution time: %d' % (end - start))"
   ]
  },
  {
   "cell_type": "code",
   "execution_count": null,
   "metadata": {},
   "outputs": [],
   "source": []
  },
  {
   "cell_type": "markdown",
   "metadata": {},
   "source": [
    "<h3> 3.TODO: neural network + LSTM"
   ]
  },
  {
   "cell_type": "code",
   "execution_count": 49,
   "metadata": {},
   "outputs": [],
   "source": [
    "from keras.models import Sequential\n",
    "from keras.layers import Dense\n",
    "from keras.layers import LSTM\n",
    "from keras.layers import Dropout"
   ]
  },
  {
   "cell_type": "code",
   "execution_count": 112,
   "metadata": {},
   "outputs": [],
   "source": [
    "# replace old column NA values to median value\n",
    "all_data_sampled_non_NA = all_data_sampled.fillna(all_data_sampled.median())\n",
    "\n",
    "# check NA values\n",
    "# all_data_sampled_non_NA.isna().sum()"
   ]
  },
  {
   "cell_type": "code",
   "execution_count": 113,
   "metadata": {},
   "outputs": [
    {
     "data": {
      "text/html": [
       "<div>\n",
       "<style scoped>\n",
       "    .dataframe tbody tr th:only-of-type {\n",
       "        vertical-align: middle;\n",
       "    }\n",
       "\n",
       "    .dataframe tbody tr th {\n",
       "        vertical-align: top;\n",
       "    }\n",
       "\n",
       "    .dataframe thead th {\n",
       "        text-align: right;\n",
       "    }\n",
       "</style>\n",
       "<table border=\"1\" class=\"dataframe\">\n",
       "  <thead>\n",
       "    <tr style=\"text-align: right;\">\n",
       "      <th></th>\n",
       "      <th>srch_id</th>\n",
       "      <th>site_id</th>\n",
       "      <th>visitor_location_country_id</th>\n",
       "      <th>visitor_hist_starrating</th>\n",
       "      <th>visitor_hist_adr_usd</th>\n",
       "      <th>prop_country_id</th>\n",
       "      <th>prop_id</th>\n",
       "      <th>prop_starrating</th>\n",
       "      <th>prop_review_score</th>\n",
       "      <th>prop_brand_bool</th>\n",
       "      <th>...</th>\n",
       "      <th>new_comp5_rate_percent_diff</th>\n",
       "      <th>new_comp6_rate</th>\n",
       "      <th>new_comp6_inv</th>\n",
       "      <th>new_comp6_rate_percent_diff</th>\n",
       "      <th>new_comp7_rate</th>\n",
       "      <th>new_comp7_inv</th>\n",
       "      <th>new_comp7_rate_percent_diff</th>\n",
       "      <th>new_comp8_rate</th>\n",
       "      <th>new_comp8_inv</th>\n",
       "      <th>new_comp8_rate_percent_diff</th>\n",
       "    </tr>\n",
       "    <tr>\n",
       "      <th>date_time</th>\n",
       "      <th></th>\n",
       "      <th></th>\n",
       "      <th></th>\n",
       "      <th></th>\n",
       "      <th></th>\n",
       "      <th></th>\n",
       "      <th></th>\n",
       "      <th></th>\n",
       "      <th></th>\n",
       "      <th></th>\n",
       "      <th></th>\n",
       "      <th></th>\n",
       "      <th></th>\n",
       "      <th></th>\n",
       "      <th></th>\n",
       "      <th></th>\n",
       "      <th></th>\n",
       "      <th></th>\n",
       "      <th></th>\n",
       "      <th></th>\n",
       "      <th></th>\n",
       "    </tr>\n",
       "  </thead>\n",
       "  <tbody>\n",
       "    <tr>\n",
       "      <th>2012-11-01 00:03:24</th>\n",
       "      <td>21951</td>\n",
       "      <td>24</td>\n",
       "      <td>216</td>\n",
       "      <td>3.29</td>\n",
       "      <td>139.985</td>\n",
       "      <td>31</td>\n",
       "      <td>9230</td>\n",
       "      <td>1</td>\n",
       "      <td>2.0</td>\n",
       "      <td>0</td>\n",
       "      <td>...</td>\n",
       "      <td>1</td>\n",
       "      <td>0</td>\n",
       "      <td>0</td>\n",
       "      <td>0</td>\n",
       "      <td>0</td>\n",
       "      <td>0</td>\n",
       "      <td>0</td>\n",
       "      <td>0</td>\n",
       "      <td>0</td>\n",
       "      <td>0</td>\n",
       "    </tr>\n",
       "    <tr>\n",
       "      <th>2012-11-01 00:08:29</th>\n",
       "      <td>81578</td>\n",
       "      <td>5</td>\n",
       "      <td>219</td>\n",
       "      <td>3.29</td>\n",
       "      <td>139.985</td>\n",
       "      <td>219</td>\n",
       "      <td>20587</td>\n",
       "      <td>4</td>\n",
       "      <td>4.5</td>\n",
       "      <td>0</td>\n",
       "      <td>...</td>\n",
       "      <td>1</td>\n",
       "      <td>0</td>\n",
       "      <td>0</td>\n",
       "      <td>0</td>\n",
       "      <td>0</td>\n",
       "      <td>0</td>\n",
       "      <td>0</td>\n",
       "      <td>0</td>\n",
       "      <td>1</td>\n",
       "      <td>1</td>\n",
       "    </tr>\n",
       "    <tr>\n",
       "      <th>2012-11-01 00:10:31</th>\n",
       "      <td>383846</td>\n",
       "      <td>5</td>\n",
       "      <td>100</td>\n",
       "      <td>3.29</td>\n",
       "      <td>139.985</td>\n",
       "      <td>98</td>\n",
       "      <td>36763</td>\n",
       "      <td>5</td>\n",
       "      <td>5.0</td>\n",
       "      <td>1</td>\n",
       "      <td>...</td>\n",
       "      <td>1</td>\n",
       "      <td>0</td>\n",
       "      <td>0</td>\n",
       "      <td>0</td>\n",
       "      <td>0</td>\n",
       "      <td>0</td>\n",
       "      <td>0</td>\n",
       "      <td>0</td>\n",
       "      <td>0</td>\n",
       "      <td>0</td>\n",
       "    </tr>\n",
       "    <tr>\n",
       "      <th>2012-11-01 00:13:03</th>\n",
       "      <td>355773</td>\n",
       "      <td>5</td>\n",
       "      <td>23</td>\n",
       "      <td>3.29</td>\n",
       "      <td>139.985</td>\n",
       "      <td>32</td>\n",
       "      <td>77298</td>\n",
       "      <td>5</td>\n",
       "      <td>4.0</td>\n",
       "      <td>1</td>\n",
       "      <td>...</td>\n",
       "      <td>0</td>\n",
       "      <td>1</td>\n",
       "      <td>1</td>\n",
       "      <td>0</td>\n",
       "      <td>1</td>\n",
       "      <td>1</td>\n",
       "      <td>1</td>\n",
       "      <td>0</td>\n",
       "      <td>0</td>\n",
       "      <td>0</td>\n",
       "    </tr>\n",
       "    <tr>\n",
       "      <th>2012-11-01 00:21:36</th>\n",
       "      <td>625417</td>\n",
       "      <td>5</td>\n",
       "      <td>219</td>\n",
       "      <td>2.73</td>\n",
       "      <td>92.300</td>\n",
       "      <td>219</td>\n",
       "      <td>7919</td>\n",
       "      <td>4</td>\n",
       "      <td>3.5</td>\n",
       "      <td>1</td>\n",
       "      <td>...</td>\n",
       "      <td>0</td>\n",
       "      <td>0</td>\n",
       "      <td>0</td>\n",
       "      <td>0</td>\n",
       "      <td>0</td>\n",
       "      <td>0</td>\n",
       "      <td>0</td>\n",
       "      <td>1</td>\n",
       "      <td>1</td>\n",
       "      <td>0</td>\n",
       "    </tr>\n",
       "  </tbody>\n",
       "</table>\n",
       "<p>5 rows × 79 columns</p>\n",
       "</div>"
      ],
      "text/plain": [
       "                     srch_id  site_id  visitor_location_country_id  \\\n",
       "date_time                                                            \n",
       "2012-11-01 00:03:24    21951       24                          216   \n",
       "2012-11-01 00:08:29    81578        5                          219   \n",
       "2012-11-01 00:10:31   383846        5                          100   \n",
       "2012-11-01 00:13:03   355773        5                           23   \n",
       "2012-11-01 00:21:36   625417        5                          219   \n",
       "\n",
       "                     visitor_hist_starrating  visitor_hist_adr_usd  \\\n",
       "date_time                                                            \n",
       "2012-11-01 00:03:24                     3.29               139.985   \n",
       "2012-11-01 00:08:29                     3.29               139.985   \n",
       "2012-11-01 00:10:31                     3.29               139.985   \n",
       "2012-11-01 00:13:03                     3.29               139.985   \n",
       "2012-11-01 00:21:36                     2.73                92.300   \n",
       "\n",
       "                     prop_country_id  prop_id  prop_starrating  \\\n",
       "date_time                                                        \n",
       "2012-11-01 00:03:24               31     9230                1   \n",
       "2012-11-01 00:08:29              219    20587                4   \n",
       "2012-11-01 00:10:31               98    36763                5   \n",
       "2012-11-01 00:13:03               32    77298                5   \n",
       "2012-11-01 00:21:36              219     7919                4   \n",
       "\n",
       "                     prop_review_score  prop_brand_bool  ...  \\\n",
       "date_time                                                ...   \n",
       "2012-11-01 00:03:24                2.0                0  ...   \n",
       "2012-11-01 00:08:29                4.5                0  ...   \n",
       "2012-11-01 00:10:31                5.0                1  ...   \n",
       "2012-11-01 00:13:03                4.0                1  ...   \n",
       "2012-11-01 00:21:36                3.5                1  ...   \n",
       "\n",
       "                     new_comp5_rate_percent_diff  new_comp6_rate  \\\n",
       "date_time                                                          \n",
       "2012-11-01 00:03:24                            1               0   \n",
       "2012-11-01 00:08:29                            1               0   \n",
       "2012-11-01 00:10:31                            1               0   \n",
       "2012-11-01 00:13:03                            0               1   \n",
       "2012-11-01 00:21:36                            0               0   \n",
       "\n",
       "                     new_comp6_inv  new_comp6_rate_percent_diff  \\\n",
       "date_time                                                         \n",
       "2012-11-01 00:03:24              0                            0   \n",
       "2012-11-01 00:08:29              0                            0   \n",
       "2012-11-01 00:10:31              0                            0   \n",
       "2012-11-01 00:13:03              1                            0   \n",
       "2012-11-01 00:21:36              0                            0   \n",
       "\n",
       "                     new_comp7_rate  new_comp7_inv  \\\n",
       "date_time                                            \n",
       "2012-11-01 00:03:24               0              0   \n",
       "2012-11-01 00:08:29               0              0   \n",
       "2012-11-01 00:10:31               0              0   \n",
       "2012-11-01 00:13:03               1              1   \n",
       "2012-11-01 00:21:36               0              0   \n",
       "\n",
       "                     new_comp7_rate_percent_diff  new_comp8_rate  \\\n",
       "date_time                                                          \n",
       "2012-11-01 00:03:24                            0               0   \n",
       "2012-11-01 00:08:29                            0               0   \n",
       "2012-11-01 00:10:31                            0               0   \n",
       "2012-11-01 00:13:03                            1               0   \n",
       "2012-11-01 00:21:36                            0               1   \n",
       "\n",
       "                     new_comp8_inv  new_comp8_rate_percent_diff  \n",
       "date_time                                                        \n",
       "2012-11-01 00:03:24              0                            0  \n",
       "2012-11-01 00:08:29              1                            1  \n",
       "2012-11-01 00:10:31              0                            0  \n",
       "2012-11-01 00:13:03              0                            0  \n",
       "2012-11-01 00:21:36              1                            0  \n",
       "\n",
       "[5 rows x 79 columns]"
      ]
     },
     "execution_count": 113,
     "metadata": {},
     "output_type": "execute_result"
    }
   ],
   "source": [
    "all_data_sampled_non_NA = all_data_sampled_non_NA.set_index('date_time')\n",
    "all_data_sampled_non_NA.head()"
   ]
  },
  {
   "cell_type": "markdown",
   "metadata": {},
   "source": [
    "LSTM is sensitive to data range, so need to standardize."
   ]
  },
  {
   "cell_type": "code",
   "execution_count": 114,
   "metadata": {},
   "outputs": [],
   "source": [
    "# X is the housing price at given time (t), Y isthe housing price at given time (t+1)\n",
    "# convert an array of values into a dataset matrix\n",
    "\n",
    "def create_dataset(dataset,look_back=1):\n",
    "    dataX, dataY = [],[]\n",
    "    for i in range(len(dataset)-look_back-1):\n",
    "        a = dataset[i:(i+look_back),0]\n",
    "        dataX.append(a)\n",
    "        dataY.append(dataset[i+look_back,0])\n",
    "    \n",
    "    return np.array(dataX), np.array(dataY)\n",
    "\n",
    "np.random.seed(7)\n"
   ]
  },
  {
   "cell_type": "markdown",
   "metadata": {},
   "source": [
    "Q: use all data to normalize?"
   ]
  },
  {
   "cell_type": "code",
   "execution_count": 115,
   "metadata": {},
   "outputs": [
    {
     "name": "stdout",
     "output_type": "stream",
     "text": [
      "training size: 6400\n",
      "validation size: 1600\n",
      "test size: 2000\n"
     ]
    },
    {
     "name": "stderr",
     "output_type": "stream",
     "text": [
      "/Users/yuanlii/Desktop/SI699_hotel_price_prediction/venv/lib/python3.7/site-packages/sklearn/preprocessing/data.py:323: DataConversionWarning: Data with input dtype int64, float64 were all converted to float64 by MinMaxScaler.\n",
      "  return self.partial_fit(X, y)\n"
     ]
    }
   ],
   "source": [
    "# normalize the dataset\n",
    "from sklearn.preprocessing import MinMaxScaler\n",
    "sc = MinMaxScaler(feature_range = (0, 1))\n",
    "all_data_sampled_non_NA = sc.fit_transform(all_data_sampled_non_NA)   \n",
    "training_data, validation_data, test_data = split_data(all_data_sampled_non_NA)"
   ]
  },
  {
   "cell_type": "code",
   "execution_count": 132,
   "metadata": {},
   "outputs": [
    {
     "data": {
      "text/plain": [
       "(6400, 79)"
      ]
     },
     "execution_count": 132,
     "metadata": {},
     "output_type": "execute_result"
    }
   ],
   "source": [
    "all_data_sampled_non_NA.shape\n",
    "training_data.shape"
   ]
  },
  {
   "cell_type": "code",
   "execution_count": 116,
   "metadata": {},
   "outputs": [],
   "source": [
    "# prepare the train and test datasets for modeling\n",
    "look_back = 1\n",
    "trainX,trainY = create_dataset(training_data,look_back)\n",
    "validationX,validationY = create_dataset(validation_data,look_back) "
   ]
  },
  {
   "cell_type": "code",
   "execution_count": 117,
   "metadata": {},
   "outputs": [
    {
     "data": {
      "text/plain": [
       "(6398, 1)"
      ]
     },
     "execution_count": 117,
     "metadata": {},
     "output_type": "execute_result"
    }
   ],
   "source": [
    "trainX.shape"
   ]
  },
  {
   "cell_type": "code",
   "execution_count": 119,
   "metadata": {},
   "outputs": [
    {
     "name": "stdout",
     "output_type": "stream",
     "text": [
      "(6398, 1, 1)\n",
      "(1598, 1, 1)\n"
     ]
    }
   ],
   "source": [
    "# reshape input to be [samples,time steps, features]\n",
    "trainX = np.reshape(trainX,(trainX.shape[0],1,trainX.shape[1]))\n",
    "validationX = np.reshape(validationX,(validationX.shape[0],1,validationX.shape[1]))\n",
    "\n",
    "print(trainX.shape)\n",
    "print(validationX.shape)"
   ]
  },
  {
   "cell_type": "code",
   "execution_count": 109,
   "metadata": {},
   "outputs": [
    {
     "name": "stdout",
     "output_type": "stream",
     "text": [
      "Epoch 1/100\n"
     ]
    },
    {
     "ename": "KeyboardInterrupt",
     "evalue": "",
     "output_type": "error",
     "traceback": [
      "\u001b[0;31m---------------------------------------------------------------------------\u001b[0m",
      "\u001b[0;31mKeyboardInterrupt\u001b[0m                         Traceback (most recent call last)",
      "\u001b[0;32m<ipython-input-109-dfb3fc9c8612>\u001b[0m in \u001b[0;36m<module>\u001b[0;34m\u001b[0m\n\u001b[1;32m      5\u001b[0m \u001b[0mmodel\u001b[0m\u001b[0;34m.\u001b[0m\u001b[0madd\u001b[0m\u001b[0;34m(\u001b[0m\u001b[0mDense\u001b[0m\u001b[0;34m(\u001b[0m\u001b[0;36m1\u001b[0m\u001b[0;34m)\u001b[0m\u001b[0;34m)\u001b[0m\u001b[0;34m\u001b[0m\u001b[0;34m\u001b[0m\u001b[0m\n\u001b[1;32m      6\u001b[0m \u001b[0mmodel\u001b[0m\u001b[0;34m.\u001b[0m\u001b[0mcompile\u001b[0m\u001b[0;34m(\u001b[0m\u001b[0mloss\u001b[0m\u001b[0;34m=\u001b[0m \u001b[0;34m'mean_squared_error'\u001b[0m\u001b[0;34m,\u001b[0m\u001b[0moptimizer\u001b[0m\u001b[0;34m=\u001b[0m\u001b[0;34m'adam'\u001b[0m\u001b[0;34m)\u001b[0m\u001b[0;34m\u001b[0m\u001b[0;34m\u001b[0m\u001b[0m\n\u001b[0;32m----> 7\u001b[0;31m \u001b[0mmodel\u001b[0m\u001b[0;34m.\u001b[0m\u001b[0mfit\u001b[0m\u001b[0;34m(\u001b[0m\u001b[0mtrainX\u001b[0m\u001b[0;34m,\u001b[0m\u001b[0mtrainY\u001b[0m\u001b[0;34m,\u001b[0m\u001b[0mepochs\u001b[0m \u001b[0;34m=\u001b[0m \u001b[0;36m100\u001b[0m\u001b[0;34m,\u001b[0m\u001b[0mbatch_size\u001b[0m\u001b[0;34m=\u001b[0m\u001b[0;36m1\u001b[0m\u001b[0;34m,\u001b[0m\u001b[0mverbose\u001b[0m\u001b[0;34m=\u001b[0m\u001b[0;36m2\u001b[0m\u001b[0;34m)\u001b[0m\u001b[0;34m\u001b[0m\u001b[0;34m\u001b[0m\u001b[0m\n\u001b[0m",
      "\u001b[0;32m~/Desktop/SI699_hotel_price_prediction/venv/lib/python3.7/site-packages/keras/engine/training.py\u001b[0m in \u001b[0;36mfit\u001b[0;34m(self, x, y, batch_size, epochs, verbose, callbacks, validation_split, validation_data, shuffle, class_weight, sample_weight, initial_epoch, steps_per_epoch, validation_steps, **kwargs)\u001b[0m\n\u001b[1;32m   1037\u001b[0m                                         \u001b[0minitial_epoch\u001b[0m\u001b[0;34m=\u001b[0m\u001b[0minitial_epoch\u001b[0m\u001b[0;34m,\u001b[0m\u001b[0;34m\u001b[0m\u001b[0;34m\u001b[0m\u001b[0m\n\u001b[1;32m   1038\u001b[0m                                         \u001b[0msteps_per_epoch\u001b[0m\u001b[0;34m=\u001b[0m\u001b[0msteps_per_epoch\u001b[0m\u001b[0;34m,\u001b[0m\u001b[0;34m\u001b[0m\u001b[0;34m\u001b[0m\u001b[0m\n\u001b[0;32m-> 1039\u001b[0;31m                                         validation_steps=validation_steps)\n\u001b[0m\u001b[1;32m   1040\u001b[0m \u001b[0;34m\u001b[0m\u001b[0m\n\u001b[1;32m   1041\u001b[0m     def evaluate(self, x=None, y=None,\n",
      "\u001b[0;32m~/Desktop/SI699_hotel_price_prediction/venv/lib/python3.7/site-packages/keras/engine/training_arrays.py\u001b[0m in \u001b[0;36mfit_loop\u001b[0;34m(model, f, ins, out_labels, batch_size, epochs, verbose, callbacks, val_f, val_ins, shuffle, callback_metrics, initial_epoch, steps_per_epoch, validation_steps)\u001b[0m\n\u001b[1;32m    197\u001b[0m                     \u001b[0mins_batch\u001b[0m\u001b[0;34m[\u001b[0m\u001b[0mi\u001b[0m\u001b[0;34m]\u001b[0m \u001b[0;34m=\u001b[0m \u001b[0mins_batch\u001b[0m\u001b[0;34m[\u001b[0m\u001b[0mi\u001b[0m\u001b[0;34m]\u001b[0m\u001b[0;34m.\u001b[0m\u001b[0mtoarray\u001b[0m\u001b[0;34m(\u001b[0m\u001b[0;34m)\u001b[0m\u001b[0;34m\u001b[0m\u001b[0;34m\u001b[0m\u001b[0m\n\u001b[1;32m    198\u001b[0m \u001b[0;34m\u001b[0m\u001b[0m\n\u001b[0;32m--> 199\u001b[0;31m                 \u001b[0mouts\u001b[0m \u001b[0;34m=\u001b[0m \u001b[0mf\u001b[0m\u001b[0;34m(\u001b[0m\u001b[0mins_batch\u001b[0m\u001b[0;34m)\u001b[0m\u001b[0;34m\u001b[0m\u001b[0;34m\u001b[0m\u001b[0m\n\u001b[0m\u001b[1;32m    200\u001b[0m                 \u001b[0mouts\u001b[0m \u001b[0;34m=\u001b[0m \u001b[0mto_list\u001b[0m\u001b[0;34m(\u001b[0m\u001b[0mouts\u001b[0m\u001b[0;34m)\u001b[0m\u001b[0;34m\u001b[0m\u001b[0;34m\u001b[0m\u001b[0m\n\u001b[1;32m    201\u001b[0m                 \u001b[0;32mfor\u001b[0m \u001b[0ml\u001b[0m\u001b[0;34m,\u001b[0m \u001b[0mo\u001b[0m \u001b[0;32min\u001b[0m \u001b[0mzip\u001b[0m\u001b[0;34m(\u001b[0m\u001b[0mout_labels\u001b[0m\u001b[0;34m,\u001b[0m \u001b[0mouts\u001b[0m\u001b[0;34m)\u001b[0m\u001b[0;34m:\u001b[0m\u001b[0;34m\u001b[0m\u001b[0;34m\u001b[0m\u001b[0m\n",
      "\u001b[0;32m~/Desktop/SI699_hotel_price_prediction/venv/lib/python3.7/site-packages/keras/backend/tensorflow_backend.py\u001b[0m in \u001b[0;36m__call__\u001b[0;34m(self, inputs)\u001b[0m\n\u001b[1;32m   2713\u001b[0m                 \u001b[0;32mreturn\u001b[0m \u001b[0mself\u001b[0m\u001b[0;34m.\u001b[0m\u001b[0m_legacy_call\u001b[0m\u001b[0;34m(\u001b[0m\u001b[0minputs\u001b[0m\u001b[0;34m)\u001b[0m\u001b[0;34m\u001b[0m\u001b[0;34m\u001b[0m\u001b[0m\n\u001b[1;32m   2714\u001b[0m \u001b[0;34m\u001b[0m\u001b[0m\n\u001b[0;32m-> 2715\u001b[0;31m             \u001b[0;32mreturn\u001b[0m \u001b[0mself\u001b[0m\u001b[0;34m.\u001b[0m\u001b[0m_call\u001b[0m\u001b[0;34m(\u001b[0m\u001b[0minputs\u001b[0m\u001b[0;34m)\u001b[0m\u001b[0;34m\u001b[0m\u001b[0;34m\u001b[0m\u001b[0m\n\u001b[0m\u001b[1;32m   2716\u001b[0m         \u001b[0;32melse\u001b[0m\u001b[0;34m:\u001b[0m\u001b[0;34m\u001b[0m\u001b[0;34m\u001b[0m\u001b[0m\n\u001b[1;32m   2717\u001b[0m             \u001b[0;32mif\u001b[0m \u001b[0mpy_any\u001b[0m\u001b[0;34m(\u001b[0m\u001b[0mis_tensor\u001b[0m\u001b[0;34m(\u001b[0m\u001b[0mx\u001b[0m\u001b[0;34m)\u001b[0m \u001b[0;32mfor\u001b[0m \u001b[0mx\u001b[0m \u001b[0;32min\u001b[0m \u001b[0minputs\u001b[0m\u001b[0;34m)\u001b[0m\u001b[0;34m:\u001b[0m\u001b[0;34m\u001b[0m\u001b[0;34m\u001b[0m\u001b[0m\n",
      "\u001b[0;32m~/Desktop/SI699_hotel_price_prediction/venv/lib/python3.7/site-packages/keras/backend/tensorflow_backend.py\u001b[0m in \u001b[0;36m_call\u001b[0;34m(self, inputs)\u001b[0m\n\u001b[1;32m   2673\u001b[0m             \u001b[0mfetched\u001b[0m \u001b[0;34m=\u001b[0m \u001b[0mself\u001b[0m\u001b[0;34m.\u001b[0m\u001b[0m_callable_fn\u001b[0m\u001b[0;34m(\u001b[0m\u001b[0;34m*\u001b[0m\u001b[0marray_vals\u001b[0m\u001b[0;34m,\u001b[0m \u001b[0mrun_metadata\u001b[0m\u001b[0;34m=\u001b[0m\u001b[0mself\u001b[0m\u001b[0;34m.\u001b[0m\u001b[0mrun_metadata\u001b[0m\u001b[0;34m)\u001b[0m\u001b[0;34m\u001b[0m\u001b[0;34m\u001b[0m\u001b[0m\n\u001b[1;32m   2674\u001b[0m         \u001b[0;32melse\u001b[0m\u001b[0;34m:\u001b[0m\u001b[0;34m\u001b[0m\u001b[0;34m\u001b[0m\u001b[0m\n\u001b[0;32m-> 2675\u001b[0;31m             \u001b[0mfetched\u001b[0m \u001b[0;34m=\u001b[0m \u001b[0mself\u001b[0m\u001b[0;34m.\u001b[0m\u001b[0m_callable_fn\u001b[0m\u001b[0;34m(\u001b[0m\u001b[0;34m*\u001b[0m\u001b[0marray_vals\u001b[0m\u001b[0;34m)\u001b[0m\u001b[0;34m\u001b[0m\u001b[0;34m\u001b[0m\u001b[0m\n\u001b[0m\u001b[1;32m   2676\u001b[0m         \u001b[0;32mreturn\u001b[0m \u001b[0mfetched\u001b[0m\u001b[0;34m[\u001b[0m\u001b[0;34m:\u001b[0m\u001b[0mlen\u001b[0m\u001b[0;34m(\u001b[0m\u001b[0mself\u001b[0m\u001b[0;34m.\u001b[0m\u001b[0moutputs\u001b[0m\u001b[0;34m)\u001b[0m\u001b[0;34m]\u001b[0m\u001b[0;34m\u001b[0m\u001b[0;34m\u001b[0m\u001b[0m\n\u001b[1;32m   2677\u001b[0m \u001b[0;34m\u001b[0m\u001b[0m\n",
      "\u001b[0;32m~/Desktop/SI699_hotel_price_prediction/venv/lib/python3.7/site-packages/tensorflow/python/client/session.py\u001b[0m in \u001b[0;36m__call__\u001b[0;34m(self, *args, **kwargs)\u001b[0m\n\u001b[1;32m   1437\u001b[0m           ret = tf_session.TF_SessionRunCallable(\n\u001b[1;32m   1438\u001b[0m               \u001b[0mself\u001b[0m\u001b[0;34m.\u001b[0m\u001b[0m_session\u001b[0m\u001b[0;34m.\u001b[0m\u001b[0m_session\u001b[0m\u001b[0;34m,\u001b[0m \u001b[0mself\u001b[0m\u001b[0;34m.\u001b[0m\u001b[0m_handle\u001b[0m\u001b[0;34m,\u001b[0m \u001b[0margs\u001b[0m\u001b[0;34m,\u001b[0m \u001b[0mstatus\u001b[0m\u001b[0;34m,\u001b[0m\u001b[0;34m\u001b[0m\u001b[0;34m\u001b[0m\u001b[0m\n\u001b[0;32m-> 1439\u001b[0;31m               run_metadata_ptr)\n\u001b[0m\u001b[1;32m   1440\u001b[0m         \u001b[0;32mif\u001b[0m \u001b[0mrun_metadata\u001b[0m\u001b[0;34m:\u001b[0m\u001b[0;34m\u001b[0m\u001b[0;34m\u001b[0m\u001b[0m\n\u001b[1;32m   1441\u001b[0m           \u001b[0mproto_data\u001b[0m \u001b[0;34m=\u001b[0m \u001b[0mtf_session\u001b[0m\u001b[0;34m.\u001b[0m\u001b[0mTF_GetBuffer\u001b[0m\u001b[0;34m(\u001b[0m\u001b[0mrun_metadata_ptr\u001b[0m\u001b[0;34m)\u001b[0m\u001b[0;34m\u001b[0m\u001b[0;34m\u001b[0m\u001b[0m\n",
      "\u001b[0;32m~/Desktop/SI699_hotel_price_prediction/venv/lib/python3.7/site-packages/tensorflow/python/framework/errors_impl.py\u001b[0m in \u001b[0;36m__exit__\u001b[0;34m(self, type_arg, value_arg, traceback_arg)\u001b[0m\n\u001b[1;32m    522\u001b[0m   \u001b[0;32mdef\u001b[0m \u001b[0m__exit__\u001b[0m\u001b[0;34m(\u001b[0m\u001b[0mself\u001b[0m\u001b[0;34m,\u001b[0m \u001b[0mtype_arg\u001b[0m\u001b[0;34m,\u001b[0m \u001b[0mvalue_arg\u001b[0m\u001b[0;34m,\u001b[0m \u001b[0mtraceback_arg\u001b[0m\u001b[0;34m)\u001b[0m\u001b[0;34m:\u001b[0m\u001b[0;34m\u001b[0m\u001b[0;34m\u001b[0m\u001b[0m\n\u001b[1;32m    523\u001b[0m     \u001b[0;32mtry\u001b[0m\u001b[0;34m:\u001b[0m\u001b[0;34m\u001b[0m\u001b[0;34m\u001b[0m\u001b[0m\n\u001b[0;32m--> 524\u001b[0;31m       \u001b[0;32mif\u001b[0m \u001b[0mc_api\u001b[0m\u001b[0;34m.\u001b[0m\u001b[0mTF_GetCode\u001b[0m\u001b[0;34m(\u001b[0m\u001b[0mself\u001b[0m\u001b[0;34m.\u001b[0m\u001b[0mstatus\u001b[0m\u001b[0;34m.\u001b[0m\u001b[0mstatus\u001b[0m\u001b[0;34m)\u001b[0m \u001b[0;34m!=\u001b[0m \u001b[0;36m0\u001b[0m\u001b[0;34m:\u001b[0m\u001b[0;34m\u001b[0m\u001b[0;34m\u001b[0m\u001b[0m\n\u001b[0m\u001b[1;32m    525\u001b[0m         raise _make_specific_exception(\n\u001b[1;32m    526\u001b[0m             \u001b[0;32mNone\u001b[0m\u001b[0;34m,\u001b[0m \u001b[0;32mNone\u001b[0m\u001b[0;34m,\u001b[0m\u001b[0;34m\u001b[0m\u001b[0;34m\u001b[0m\u001b[0m\n",
      "\u001b[0;31mKeyboardInterrupt\u001b[0m: "
     ]
    }
   ],
   "source": [
    "# create and fit LSTM network\n",
    "\n",
    "model = Sequential()\n",
    "model.add(LSTM(4, input_shape=(1,look_back)))\n",
    "model.add(Dense(1))\n",
    "model.compile(loss= 'mean_squared_error',optimizer='adam')\n",
    "model.fit(trainX,trainY,epochs = 100,batch_size=1,verbose=2)"
   ]
  },
  {
   "cell_type": "code",
   "execution_count": 125,
   "metadata": {},
   "outputs": [
    {
     "name": "stdout",
     "output_type": "stream",
     "text": [
      "(6398, 1)\n",
      "(1598, 1)\n"
     ]
    }
   ],
   "source": [
    "# make prediction\n",
    "trainPredict = model.predict(trainX)\n",
    "validationPredict = model.predict(validationX)\n",
    "\n",
    "print(trainPredict.shape)\n",
    "print(validationPredict.shape)"
   ]
  },
  {
   "cell_type": "code",
   "execution_count": 129,
   "metadata": {},
   "outputs": [
    {
     "data": {
      "text/plain": [
       "(1598,)"
      ]
     },
     "execution_count": 129,
     "metadata": {},
     "output_type": "execute_result"
    }
   ],
   "source": [
    "trainY.shape\n",
    "validationY.shape"
   ]
  },
  {
   "cell_type": "code",
   "execution_count": 130,
   "metadata": {},
   "outputs": [
    {
     "ename": "ValueError",
     "evalue": "non-broadcastable output operand with shape (6398,1) doesn't match the broadcast shape (6398,79)",
     "output_type": "error",
     "traceback": [
      "\u001b[0;31m---------------------------------------------------------------------------\u001b[0m",
      "\u001b[0;31mValueError\u001b[0m                                Traceback (most recent call last)",
      "\u001b[0;32m<ipython-input-130-92ccb60a5a66>\u001b[0m in \u001b[0;36m<module>\u001b[0;34m\u001b[0m\n\u001b[1;32m      1\u001b[0m \u001b[0;31m# inverted predictions\u001b[0m\u001b[0;34m\u001b[0m\u001b[0;34m\u001b[0m\u001b[0;34m\u001b[0m\u001b[0m\n\u001b[0;32m----> 2\u001b[0;31m \u001b[0mtrainPredict\u001b[0m \u001b[0;34m=\u001b[0m \u001b[0msc\u001b[0m\u001b[0;34m.\u001b[0m\u001b[0minverse_transform\u001b[0m\u001b[0;34m(\u001b[0m\u001b[0mtrainPredict\u001b[0m\u001b[0;34m)\u001b[0m\u001b[0;34m\u001b[0m\u001b[0;34m\u001b[0m\u001b[0m\n\u001b[0m\u001b[1;32m      3\u001b[0m \u001b[0mtrainY\u001b[0m \u001b[0;34m=\u001b[0m \u001b[0msc\u001b[0m\u001b[0;34m.\u001b[0m\u001b[0minverse_transform\u001b[0m\u001b[0;34m(\u001b[0m\u001b[0;34m[\u001b[0m\u001b[0mtrainY\u001b[0m\u001b[0;34m]\u001b[0m\u001b[0;34m)\u001b[0m\u001b[0;34m\u001b[0m\u001b[0;34m\u001b[0m\u001b[0m\n\u001b[1;32m      4\u001b[0m \u001b[0mvalidationPredict\u001b[0m \u001b[0;34m=\u001b[0m \u001b[0msc\u001b[0m\u001b[0;34m.\u001b[0m\u001b[0minverse_transform\u001b[0m\u001b[0;34m(\u001b[0m\u001b[0mvalidationPredict\u001b[0m\u001b[0;34m)\u001b[0m\u001b[0;34m\u001b[0m\u001b[0;34m\u001b[0m\u001b[0m\n\u001b[1;32m      5\u001b[0m \u001b[0mvalidationY\u001b[0m \u001b[0;34m=\u001b[0m \u001b[0msc\u001b[0m\u001b[0;34m.\u001b[0m\u001b[0minverse_transform\u001b[0m\u001b[0;34m(\u001b[0m\u001b[0;34m[\u001b[0m\u001b[0mvalidationY\u001b[0m\u001b[0;34m]\u001b[0m\u001b[0;34m)\u001b[0m\u001b[0;34m\u001b[0m\u001b[0;34m\u001b[0m\u001b[0m\n",
      "\u001b[0;32m~/Desktop/SI699_hotel_price_prediction/venv/lib/python3.7/site-packages/sklearn/preprocessing/data.py\u001b[0m in \u001b[0;36minverse_transform\u001b[0;34m(self, X)\u001b[0m\n\u001b[1;32m    402\u001b[0m                         force_all_finite=\"allow-nan\")\n\u001b[1;32m    403\u001b[0m \u001b[0;34m\u001b[0m\u001b[0m\n\u001b[0;32m--> 404\u001b[0;31m         \u001b[0mX\u001b[0m \u001b[0;34m-=\u001b[0m \u001b[0mself\u001b[0m\u001b[0;34m.\u001b[0m\u001b[0mmin_\u001b[0m\u001b[0;34m\u001b[0m\u001b[0;34m\u001b[0m\u001b[0m\n\u001b[0m\u001b[1;32m    405\u001b[0m         \u001b[0mX\u001b[0m \u001b[0;34m/=\u001b[0m \u001b[0mself\u001b[0m\u001b[0;34m.\u001b[0m\u001b[0mscale_\u001b[0m\u001b[0;34m\u001b[0m\u001b[0;34m\u001b[0m\u001b[0m\n\u001b[1;32m    406\u001b[0m         \u001b[0;32mreturn\u001b[0m \u001b[0mX\u001b[0m\u001b[0;34m\u001b[0m\u001b[0;34m\u001b[0m\u001b[0m\n",
      "\u001b[0;31mValueError\u001b[0m: non-broadcastable output operand with shape (6398,1) doesn't match the broadcast shape (6398,79)"
     ]
    }
   ],
   "source": [
    "# inverted predictions\n",
    "trainPredict = sc.inverse_transform(trainPredict)\n",
    "trainY = sc.inverse_transform([trainY])\n",
    "validationPredict = sc.inverse_transform(validationPredict)\n",
    "validationY = sc.inverse_transform([validationY])\n",
    "\n",
    "### broadcasting error: problem maybe in scaler() part => using (6398,79) to fit the min_max scaler, so (6398,1) cannot be converted back"
   ]
  },
  {
   "cell_type": "code",
   "execution_count": null,
   "metadata": {},
   "outputs": [],
   "source": [
    "# TODO: compute RMSE score"
   ]
  },
  {
   "cell_type": "code",
   "execution_count": null,
   "metadata": {},
   "outputs": [],
   "source": [
    "# TODO: plot result"
   ]
  },
  {
   "cell_type": "code",
   "execution_count": null,
   "metadata": {},
   "outputs": [],
   "source": []
  },
  {
   "cell_type": "code",
   "execution_count": 26,
   "metadata": {},
   "outputs": [],
   "source": [
    "# feats = [col for col in training_data_.columns.unique().tolist() if col != 'price_usd' ]\n",
    "# target = 'price_usd'\n",
    "\n",
    "# X_train_LSTM = training_data_[feats]\n",
    "# y_train_LSTM = training_data_[target]"
   ]
  },
  {
   "cell_type": "code",
   "execution_count": null,
   "metadata": {},
   "outputs": [],
   "source": []
  }
 ],
 "metadata": {
  "kernelspec": {
   "display_name": "Python 3",
   "language": "python",
   "name": "python3"
  },
  "language_info": {
   "codemirror_mode": {
    "name": "ipython",
    "version": 3
   },
   "file_extension": ".py",
   "mimetype": "text/x-python",
   "name": "python",
   "nbconvert_exporter": "python",
   "pygments_lexer": "ipython3",
   "version": "3.7.2"
  }
 },
 "nbformat": 4,
 "nbformat_minor": 2
}
