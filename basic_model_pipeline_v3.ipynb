{
 "cells": [
  {
   "cell_type": "code",
   "execution_count": 2,
   "metadata": {},
   "outputs": [],
   "source": [
    "import pandas as pd\n",
    "import numpy as np\n",
    "import seaborn as sns\n",
    "import matplotlib.pyplot as plt\n",
    "\n",
    "from sklearn.linear_model import LinearRegression\n",
    "from sklearn.metrics import accuracy_score\n",
    "from sklearn.linear_model import Ridge\n",
    "\n",
    "import os\n",
    "os.chdir('/Users/liyuan/desktop/SI699/codes')"
   ]
  },
  {
   "cell_type": "code",
   "execution_count": 3,
   "metadata": {},
   "outputs": [],
   "source": [
    "from data_preprocess import Data_preprocess\n",
    "from model_pipeline import modeling_pipeline"
   ]
  },
  {
   "cell_type": "code",
   "execution_count": 5,
   "metadata": {},
   "outputs": [
    {
     "data": {
      "text/html": [
       "<div>\n",
       "<style scoped>\n",
       "    .dataframe tbody tr th:only-of-type {\n",
       "        vertical-align: middle;\n",
       "    }\n",
       "\n",
       "    .dataframe tbody tr th {\n",
       "        vertical-align: top;\n",
       "    }\n",
       "\n",
       "    .dataframe thead th {\n",
       "        text-align: right;\n",
       "    }\n",
       "</style>\n",
       "<table border=\"1\" class=\"dataframe\">\n",
       "  <thead>\n",
       "    <tr style=\"text-align: right;\">\n",
       "      <th></th>\n",
       "      <th>srch_id</th>\n",
       "      <th>date_time</th>\n",
       "      <th>site_id</th>\n",
       "      <th>visitor_location_country_id</th>\n",
       "      <th>visitor_hist_starrating</th>\n",
       "      <th>visitor_hist_adr_usd</th>\n",
       "      <th>prop_country_id</th>\n",
       "      <th>prop_id</th>\n",
       "      <th>prop_starrating</th>\n",
       "      <th>prop_review_score</th>\n",
       "      <th>...</th>\n",
       "      <th>new_comp5_rate_percent_diff</th>\n",
       "      <th>new_comp6_rate</th>\n",
       "      <th>new_comp6_inv</th>\n",
       "      <th>new_comp6_rate_percent_diff</th>\n",
       "      <th>new_comp7_rate</th>\n",
       "      <th>new_comp7_inv</th>\n",
       "      <th>new_comp7_rate_percent_diff</th>\n",
       "      <th>new_comp8_rate</th>\n",
       "      <th>new_comp8_inv</th>\n",
       "      <th>new_comp8_rate_percent_diff</th>\n",
       "    </tr>\n",
       "  </thead>\n",
       "  <tbody>\n",
       "    <tr>\n",
       "      <th>0</th>\n",
       "      <td>664572</td>\n",
       "      <td>2012-11-01 00:48:02</td>\n",
       "      <td>24</td>\n",
       "      <td>216</td>\n",
       "      <td>3.375</td>\n",
       "      <td>154.12</td>\n",
       "      <td>99</td>\n",
       "      <td>84066</td>\n",
       "      <td>3</td>\n",
       "      <td>3.0</td>\n",
       "      <td>...</td>\n",
       "      <td>0</td>\n",
       "      <td>0</td>\n",
       "      <td>0</td>\n",
       "      <td>0</td>\n",
       "      <td>1</td>\n",
       "      <td>1</td>\n",
       "      <td>1</td>\n",
       "      <td>0</td>\n",
       "      <td>0</td>\n",
       "      <td>0</td>\n",
       "    </tr>\n",
       "    <tr>\n",
       "      <th>1</th>\n",
       "      <td>583733</td>\n",
       "      <td>2012-11-01 03:18:56</td>\n",
       "      <td>15</td>\n",
       "      <td>117</td>\n",
       "      <td>3.375</td>\n",
       "      <td>154.12</td>\n",
       "      <td>202</td>\n",
       "      <td>29484</td>\n",
       "      <td>5</td>\n",
       "      <td>5.0</td>\n",
       "      <td>...</td>\n",
       "      <td>0</td>\n",
       "      <td>0</td>\n",
       "      <td>0</td>\n",
       "      <td>0</td>\n",
       "      <td>0</td>\n",
       "      <td>0</td>\n",
       "      <td>0</td>\n",
       "      <td>0</td>\n",
       "      <td>0</td>\n",
       "      <td>0</td>\n",
       "    </tr>\n",
       "    <tr>\n",
       "      <th>2</th>\n",
       "      <td>649019</td>\n",
       "      <td>2012-11-01 05:47:36</td>\n",
       "      <td>5</td>\n",
       "      <td>158</td>\n",
       "      <td>3.375</td>\n",
       "      <td>154.12</td>\n",
       "      <td>219</td>\n",
       "      <td>1840</td>\n",
       "      <td>3</td>\n",
       "      <td>4.5</td>\n",
       "      <td>...</td>\n",
       "      <td>0</td>\n",
       "      <td>0</td>\n",
       "      <td>0</td>\n",
       "      <td>0</td>\n",
       "      <td>0</td>\n",
       "      <td>0</td>\n",
       "      <td>0</td>\n",
       "      <td>0</td>\n",
       "      <td>0</td>\n",
       "      <td>0</td>\n",
       "    </tr>\n",
       "    <tr>\n",
       "      <th>3</th>\n",
       "      <td>571848</td>\n",
       "      <td>2012-11-01 06:46:18</td>\n",
       "      <td>5</td>\n",
       "      <td>219</td>\n",
       "      <td>3.375</td>\n",
       "      <td>154.12</td>\n",
       "      <td>219</td>\n",
       "      <td>33331</td>\n",
       "      <td>3</td>\n",
       "      <td>4.0</td>\n",
       "      <td>...</td>\n",
       "      <td>0</td>\n",
       "      <td>0</td>\n",
       "      <td>0</td>\n",
       "      <td>0</td>\n",
       "      <td>0</td>\n",
       "      <td>0</td>\n",
       "      <td>0</td>\n",
       "      <td>0</td>\n",
       "      <td>1</td>\n",
       "      <td>1</td>\n",
       "    </tr>\n",
       "    <tr>\n",
       "      <th>4</th>\n",
       "      <td>57094</td>\n",
       "      <td>2012-11-01 07:47:43</td>\n",
       "      <td>5</td>\n",
       "      <td>219</td>\n",
       "      <td>3.375</td>\n",
       "      <td>154.12</td>\n",
       "      <td>219</td>\n",
       "      <td>28930</td>\n",
       "      <td>3</td>\n",
       "      <td>4.0</td>\n",
       "      <td>...</td>\n",
       "      <td>0</td>\n",
       "      <td>0</td>\n",
       "      <td>0</td>\n",
       "      <td>0</td>\n",
       "      <td>0</td>\n",
       "      <td>0</td>\n",
       "      <td>0</td>\n",
       "      <td>0</td>\n",
       "      <td>0</td>\n",
       "      <td>0</td>\n",
       "    </tr>\n",
       "  </tbody>\n",
       "</table>\n",
       "<p>5 rows × 80 columns</p>\n",
       "</div>"
      ],
      "text/plain": [
       "   srch_id            date_time  site_id  visitor_location_country_id  \\\n",
       "0   664572  2012-11-01 00:48:02       24                          216   \n",
       "1   583733  2012-11-01 03:18:56       15                          117   \n",
       "2   649019  2012-11-01 05:47:36        5                          158   \n",
       "3   571848  2012-11-01 06:46:18        5                          219   \n",
       "4    57094  2012-11-01 07:47:43        5                          219   \n",
       "\n",
       "   visitor_hist_starrating  visitor_hist_adr_usd  prop_country_id  prop_id  \\\n",
       "0                    3.375                154.12               99    84066   \n",
       "1                    3.375                154.12              202    29484   \n",
       "2                    3.375                154.12              219     1840   \n",
       "3                    3.375                154.12              219    33331   \n",
       "4                    3.375                154.12              219    28930   \n",
       "\n",
       "   prop_starrating  prop_review_score             ...               \\\n",
       "0                3                3.0             ...                \n",
       "1                5                5.0             ...                \n",
       "2                3                4.5             ...                \n",
       "3                3                4.0             ...                \n",
       "4                3                4.0             ...                \n",
       "\n",
       "   new_comp5_rate_percent_diff  new_comp6_rate  new_comp6_inv  \\\n",
       "0                            0               0              0   \n",
       "1                            0               0              0   \n",
       "2                            0               0              0   \n",
       "3                            0               0              0   \n",
       "4                            0               0              0   \n",
       "\n",
       "   new_comp6_rate_percent_diff  new_comp7_rate  new_comp7_inv  \\\n",
       "0                            0               1              1   \n",
       "1                            0               0              0   \n",
       "2                            0               0              0   \n",
       "3                            0               0              0   \n",
       "4                            0               0              0   \n",
       "\n",
       "   new_comp7_rate_percent_diff  new_comp8_rate  new_comp8_inv  \\\n",
       "0                            1               0              0   \n",
       "1                            0               0              0   \n",
       "2                            0               0              0   \n",
       "3                            0               0              1   \n",
       "4                            0               0              0   \n",
       "\n",
       "   new_comp8_rate_percent_diff  \n",
       "0                            0  \n",
       "1                            0  \n",
       "2                            0  \n",
       "3                            1  \n",
       "4                            0  \n",
       "\n",
       "[5 rows x 80 columns]"
      ]
     },
     "execution_count": 5,
     "metadata": {},
     "output_type": "execute_result"
    }
   ],
   "source": [
    "# load sampled data (10000 exampless)\n",
    "data = pd.read_csv('../res/cleaned_sampled_data_10000.csv')\n",
    "data.head()"
   ]
  },
  {
   "cell_type": "code",
   "execution_count": 6,
   "metadata": {},
   "outputs": [
    {
     "name": "stdout",
     "output_type": "stream",
     "text": [
      "training size: 6400\n",
      "validation size: 1600\n",
      "test size: 2000\n",
      "categorical binary vars:  50\n",
      "categorical non binary vars:  7\n",
      "continues vars:  29\n",
      "training RMSE: 201.09516302328467\n",
      "valiation RMSE: 18262.218090826274\n"
     ]
    },
    {
     "data": {
      "text/plain": [
       "(201.09516302328467, 18262.218090826274)"
      ]
     },
     "execution_count": 6,
     "metadata": {},
     "output_type": "execute_result"
    }
   ],
   "source": [
    "variables = [col for col in data.columns.unique().tolist() if col not in ['price_usd','date_time']]\n",
    "model_p = modeling_pipeline(data, Ridge(), variables)\n",
    "train_data, val_data, test_data = model_p.split_data()\n",
    "X_train, y_train, X_val, y_val, X_test, y_test = model_p.get_X_y()\n",
    "categorical_vars, categorical_binary_vars, continous_vars = model_p.divide_variables()\n",
    "\n",
    "# TODO: check why validation RMSE is this large\n",
    "model_p.get_modeling_result()"
   ]
  },
  {
   "cell_type": "code",
   "execution_count": 7,
   "metadata": {},
   "outputs": [
    {
     "name": "stdout",
     "output_type": "stream",
     "text": [
      "training size: 6400\n",
      "validation size: 1600\n",
      "test size: 2000\n",
      "categorical binary vars:  50\n",
      "categorical non binary vars:  7\n",
      "continues vars:  29\n",
      "training RMSE: 202.3932643418208\n",
      "valiation RMSE: 18261.855187229106\n"
     ]
    },
    {
     "data": {
      "text/plain": [
       "(202.3932643418208, 18261.855187229106)"
      ]
     },
     "execution_count": 7,
     "metadata": {},
     "output_type": "execute_result"
    }
   ],
   "source": [
    "### ridge with continuous variables\n",
    "variables = continous_vars\n",
    "model_p = modeling_pipeline(data, Ridge(), variables)\n",
    "train_data, val_data, test_data = model_p.split_data()\n",
    "X_train, y_train, X_val, y_val, X_test, y_test = model_p.get_X_y()\n",
    "categorical_vars, categorical_binary_vars, continous_vars = model_p.divide_variables()\n",
    "\n",
    "# TODO: check why validation RMSE is this large\n",
    "model_p.get_modeling_result()"
   ]
  },
  {
   "cell_type": "code",
   "execution_count": 8,
   "metadata": {},
   "outputs": [
    {
     "name": "stdout",
     "output_type": "stream",
     "text": [
      "categorical binary vars:  50\n",
      "categorical non binary vars:  7\n",
      "continues vars:  29\n",
      "training size: 6400\n",
      "validation size: 1600\n",
      "test size: 2000\n",
      "training RMSE: 209.4713892099817\n",
      "valiation RMSE: 18263.815095915033\n"
     ]
    },
    {
     "data": {
      "text/plain": [
       "(209.4713892099817, 18263.815095915033)"
      ]
     },
     "execution_count": 8,
     "metadata": {},
     "output_type": "execute_result"
    }
   ],
   "source": [
    "### ridge with continuous variables (with normalization)\n",
    "variables = continous_vars\n",
    "model_p = modeling_pipeline(data, Ridge(), variables)\n",
    "categorical_vars, categorical_binary_vars, continous_vars = model_p.divide_variables()\n",
    "train_data, val_data, test_data = model_p.split_data()\n",
    "X_train, y_train, X_val, y_val, X_test, y_test = model_p.get_X_y()\n",
    "X_train_normalized, X_val_normalized, X_test_normalized = model_p.get_normalized_X_y()\n",
    "model_p.get_normalized_modeling_result()"
   ]
  },
  {
   "cell_type": "code",
   "execution_count": 9,
   "metadata": {},
   "outputs": [
    {
     "name": "stdout",
     "output_type": "stream",
     "text": [
      "training size: 6400\n",
      "validation size: 1600\n",
      "test size: 2000\n"
     ]
    },
    {
     "name": "stderr",
     "output_type": "stream",
     "text": [
      "/anaconda3/envs/leetcode/lib/python3.6/site-packages/xgboost/core.py:587: FutureWarning: Series.base is deprecated and will be removed in a future version\n",
      "  if getattr(data, 'base', None) is not None and \\\n",
      "/anaconda3/envs/leetcode/lib/python3.6/site-packages/xgboost/core.py:588: FutureWarning: Series.base is deprecated and will be removed in a future version\n",
      "  data.base is not None and isinstance(data, np.ndarray) \\\n"
     ]
    },
    {
     "name": "stdout",
     "output_type": "stream",
     "text": [
      "training RMSE: 162.80642533154264\n",
      "valiation RMSE: 18264.444565670146\n"
     ]
    },
    {
     "data": {
      "text/plain": [
       "(162.80642533154264, 18264.444565670146)"
      ]
     },
     "execution_count": 9,
     "metadata": {},
     "output_type": "execute_result"
    }
   ],
   "source": [
    "# implement XGboost\n",
    "import xgboost as xgb\n",
    "from sklearn.metrics import mean_squared_error\n",
    "import pandas as pd\n",
    "import numpy as np\n",
    "\n",
    "variables = [col for col in data.columns.unique().tolist() if col not in ['price_usd','date_time']]\n",
    "model_p = modeling_pipeline(data, xgb.XGBRegressor(objective ='reg:linear', colsample_bytree = 0.3, learning_rate = 0.1,\n",
    "                max_depth = 5, alpha = 10, n_estimators = 10), variables)\n",
    "train_data, val_data, test_data = model_p.split_data()\n",
    "X_train, y_train, X_val, y_val, X_test, y_test = model_p.get_X_y()\n",
    "model_p.get_modeling_result()"
   ]
  },
  {
   "cell_type": "code",
   "execution_count": null,
   "metadata": {},
   "outputs": [],
   "source": []
  }
 ],
 "metadata": {
  "kernelspec": {
   "display_name": "Python 3",
   "language": "python",
   "name": "python3"
  },
  "language_info": {
   "codemirror_mode": {
    "name": "ipython",
    "version": 3
   },
   "file_extension": ".py",
   "mimetype": "text/x-python",
   "name": "python",
   "nbconvert_exporter": "python",
   "pygments_lexer": "ipython3",
   "version": "3.6.8"
  }
 },
 "nbformat": 4,
 "nbformat_minor": 2
}
